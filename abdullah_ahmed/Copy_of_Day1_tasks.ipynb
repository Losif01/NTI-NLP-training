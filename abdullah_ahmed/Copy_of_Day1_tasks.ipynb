{
  "nbformat": 4,
  "nbformat_minor": 0,
  "metadata": {
    "colab": {
      "provenance": []
    },
    "kernelspec": {
      "name": "python3",
      "display_name": "Python 3"
    },
    "language_info": {
      "name": "python"
    }
  },
  "cells": [
    {
      "cell_type": "code",
      "execution_count": null,
      "metadata": {
        "colab": {
          "base_uri": "https://localhost:8080/"
        },
        "id": "ymBWOYClusTm",
        "outputId": "14de441c-ff11-4b6c-fdf6-5c37a894536f"
      },
      "outputs": [
        {
          "output_type": "stream",
          "name": "stdout",
          "text": [
            "['123', '4567', '89']\n",
            "['Hello', '123', 'this', 'is', 'a', 'test', 'with', '4567', 'and', 'numbers', 'like', '89']\n"
          ]
        }
      ],
      "source": [
        "import re\n",
        "\n",
        "text = \"Hello 123, this is a test with 4567 and numbers like 89.\"\n",
        "\n",
        "# Find all numbers\n",
        "print(re.findall(r'\\d+', text))  # ['123', '4567', '89']\n",
        "\n",
        "# Match all words\n",
        "print(re.findall(r'\\w+', text))  # ['Hello', '123', 'this', ...]\n"
      ]
    },
    {
      "cell_type": "code",
      "source": [
        "#task1\n",
        "sample_text = \"\"\"\n",
        "My email is john.doe@example.com and my alternate is jane_doe123@company.co.uk.\n",
        "I was born on 1996-05-14 and my sister on 2000/12/01.\n",
        "The prices are: $23.45, €56.00, and ¥1000.\n",
        "Call me at 010-12345678 or 01123456789. Office: 02-2345678.\n",
        "Usernames: _john, user.99, admin-user, $invalid_user\n",
        "Passwords: Pass123!, pass12, 12345678, Welcome@2025, weak_pass\n",
        "\"\"\"\n",
        "#Find all lowercase words.\n",
        "\n",
        "#Find all 3-digit numbers.\n",
        "\n"
      ],
      "metadata": {
        "id": "NvFV7cI9utxO"
      },
      "execution_count": null,
      "outputs": []
    },
    {
      "cell_type": "markdown",
      "source": [
        "# Task-1*"
      ],
      "metadata": {
        "id": "q2v3FHOd5CzI"
      }
    },
    {
      "cell_type": "code",
      "source": [
        "print(re.findall(r'\\b[a-z]+\\b', sample_text))"
      ],
      "metadata": {
        "id": "4n3fDyOz1Gb9",
        "outputId": "3592589a-8b63-4e40-b10a-28b0cbe50992",
        "colab": {
          "base_uri": "https://localhost:8080/"
        }
      },
      "execution_count": null,
      "outputs": [
        {
          "output_type": "stream",
          "name": "stdout",
          "text": [
            "['email', 'is', 'john', 'doe', 'example', 'com', 'and', 'my', 'alternate', 'is', 'company', 'co', 'uk', 'was', 'born', 'on', 'and', 'my', 'sister', 'on', 'prices', 'are', 'and', 'me', 'at', 'or', 'user', 'admin', 'user']\n"
          ]
        }
      ]
    },
    {
      "cell_type": "code",
      "source": [
        "print(re.findall(r'\\b\\d{3}\\b',sample_text))"
      ],
      "metadata": {
        "id": "piaxtNY42WDD",
        "outputId": "6f71c1a7-0afc-4aeb-81cc-223aa3f4fbe6",
        "colab": {
          "base_uri": "https://localhost:8080/"
        }
      },
      "execution_count": null,
      "outputs": [
        {
          "output_type": "stream",
          "name": "stdout",
          "text": [
            "['010']\n"
          ]
        }
      ]
    },
    {
      "cell_type": "code",
      "source": [
        "text = \"abc 1234 abcd 123 12 menna\"\n",
        "\n",
        "# Find 3 or more digits\n",
        "print(re.findall(r'\\b\\d{3,}\\b', text))  # ['1234', '123']\n",
        "\n",
        "# Words starting with 'a'\n",
        "print(re.findall(r'\\ba\\w*', text))  # ['abc', 'abcd']\n"
      ],
      "metadata": {
        "colab": {
          "base_uri": "https://localhost:8080/"
        },
        "id": "fj4dzf7tu0on",
        "outputId": "5121d2cd-a652-4fd5-9ca5-594f8eaf7d4c"
      },
      "execution_count": null,
      "outputs": [
        {
          "output_type": "stream",
          "name": "stdout",
          "text": [
            "['1234', '123']\n",
            "['abc', 'abcd']\n"
          ]
        }
      ]
    },
    {
      "cell_type": "markdown",
      "source": [
        "# Task-2*"
      ],
      "metadata": {
        "id": "QEyxHdk-5YW2"
      }
    },
    {
      "cell_type": "code",
      "source": [
        "#Task2\n",
        "\n",
        "import re\n",
        "\n",
        "sample_text = \"\"\"\n",
        "My email is john.doe@example.com and my alternate is jane_doe123@company.co.uk.\n",
        "I was born on 1996-05-14 and my sister on 2000/12/01.\n",
        "The prices are: $23.45, €56.00, and ¥1000.\n",
        "Public traffic is basic logic and poetic.\n",
        "Call me at 010-12345678 or 01123456789. Office: 02-2345678.\n",
        "\"\"\"\n",
        "\n",
        "#Find words that end with 'c'.\n",
        "\n",
        "#Match numbers with exactly 2 digits.\n",
        "\n"
      ],
      "metadata": {
        "id": "JnwM5bdJu30w"
      },
      "execution_count": null,
      "outputs": []
    },
    {
      "cell_type": "code",
      "source": [
        "print(re.findall(r'\\b\\w*c\\b', sample_text))"
      ],
      "metadata": {
        "id": "ezIsLvmk5f4G",
        "outputId": "ceb8f0d1-48a4-4120-da50-a1b357b23e37",
        "colab": {
          "base_uri": "https://localhost:8080/"
        }
      },
      "execution_count": null,
      "outputs": [
        {
          "output_type": "stream",
          "name": "stdout",
          "text": [
            "['Public', 'traffic', 'basic', 'logic', 'poetic']\n"
          ]
        }
      ]
    },
    {
      "cell_type": "code",
      "source": [
        "text = \"cat bat rat mat\"\n",
        "\n",
        "# Match either cat or rat\n",
        "print(re.findall(r'cat|rat', text))  # ['cat', 'rat']\n",
        "\n",
        "# Grouping with repetition\n",
        "text = \"ha haha hahahaha\"\n",
        "print(re.findall(r'(ha)+', text))  # ['ha', 'haha', 'hahaha']\n"
      ],
      "metadata": {
        "colab": {
          "base_uri": "https://localhost:8080/"
        },
        "id": "Cdnz3dYPu_a-",
        "outputId": "a3ee6f92-d5e1-4f42-85bd-8e713c9c9ead"
      },
      "execution_count": null,
      "outputs": [
        {
          "output_type": "stream",
          "name": "stdout",
          "text": [
            "['cat', 'rat']\n",
            "['ha', 'ha', 'ha']\n"
          ]
        }
      ]
    },
    {
      "cell_type": "markdown",
      "source": [
        "# Task-3*"
      ],
      "metadata": {
        "id": "wpmMiAe496_3"
      }
    },
    {
      "cell_type": "code",
      "source": [
        "#Task3\n",
        "import re\n",
        "\n",
        "sample_text = \"\"\"\n",
        "I saw a car and a cat in the cartoon.\n",
        "The racecar was fast. Cats are agile.\n",
        "She laughed: hahaha, ha haaaa hahahahaha!\n",
        "\"\"\"\n",
        "\n",
        "\n",
        "#Find either \"car\" or \"cat\".\n",
        "\n",
        "#Match words with \"ha\" repeated at least twice."
      ],
      "metadata": {
        "id": "B8E2K03HvBxK"
      },
      "execution_count": null,
      "outputs": []
    },
    {
      "cell_type": "code",
      "source": [
        "print(re.findall(r'cat|car',sample_text))"
      ],
      "metadata": {
        "id": "emtFJR3k6mqW",
        "outputId": "64abfd5c-904b-42bb-a32b-c47b6f6da0a9",
        "colab": {
          "base_uri": "https://localhost:8080/"
        }
      },
      "execution_count": null,
      "outputs": [
        {
          "output_type": "stream",
          "name": "stdout",
          "text": [
            "['car', 'cat', 'car', 'car']\n"
          ]
        }
      ]
    },
    {
      "cell_type": "code",
      "source": [
        "print(re.findall(r'\\b(?:ha){2,}\\w*\\b', sample_text))"
      ],
      "metadata": {
        "id": "5G1_027x6_cg",
        "outputId": "8e8941eb-ad45-4001-c8d3-ec80d41ef346",
        "colab": {
          "base_uri": "https://localhost:8080/"
        }
      },
      "execution_count": null,
      "outputs": [
        {
          "output_type": "stream",
          "name": "stdout",
          "text": [
            "['hahaha', 'hahahahaha']\n"
          ]
        }
      ]
    },
    {
      "cell_type": "code",
      "source": [
        "text = \"Emails: test.email@domain.com, second@host.org\"\n",
        "\n",
        "# Email regex\n",
        "emails = re.findall(r'\\b[\\w.-]+@[\\w.-]+\\.\\w+\\b', text)\n",
        "print(\"Emails:\", emails)\n",
        "\n",
        "text = \"Phone: 010-1234567 or 01123456789\"\n",
        "phones = re.findall(r'\\b\\d{3}-?\\d{7,8}\\b', text)\n",
        "print(\"Phones:\", phones)\n"
      ],
      "metadata": {
        "colab": {
          "base_uri": "https://localhost:8080/"
        },
        "id": "ilA2aqTUvI3M",
        "outputId": "6e43e3ee-3330-4fb7-ced2-7d5780b046c6"
      },
      "execution_count": null,
      "outputs": [
        {
          "output_type": "stream",
          "name": "stdout",
          "text": [
            "Emails: ['test.email@domain.com', 'second@host.org']\n",
            "Phones: ['010-1234567', '01123456789']\n"
          ]
        }
      ]
    },
    {
      "cell_type": "markdown",
      "source": [],
      "metadata": {
        "id": "0R9MLgRJ-W6_"
      }
    },
    {
      "cell_type": "markdown",
      "source": [
        "# Task-4*"
      ],
      "metadata": {
        "id": "UfAGvZjZ-Yzd"
      }
    },
    {
      "cell_type": "code",
      "source": [
        "#task4\n",
        "import re\n",
        "\n",
        "sample_text = \"\"\"\n",
        "Contact us at support@company.com or info123@mail.co.uk.\n",
        "Also try: hr@jobs.gov.eg, wrong@nope, user.name+filter@sub.domain.org\n",
        "You can call 01012345678 or 01123456789, or landline 02-12345678.\n",
        "Some invalid: 013-1234567, 0159999, 015-99999999, 012345\n",
        "\"\"\"\n",
        "\n",
        "#Extract all emails from a text list.\n",
        "\n",
        "#Extract all Egyptian mobile numbers."
      ],
      "metadata": {
        "id": "BKhXQgx-vNJW"
      },
      "execution_count": null,
      "outputs": []
    },
    {
      "cell_type": "code",
      "source": [
        "print(re.findall(r'\\b[\\w.]+@[\\w.-]+\\.\\w+\\b',sample_text))"
      ],
      "metadata": {
        "id": "qpRWPpVt-ezy",
        "outputId": "efeb27e5-f780-4619-b0cf-12531192646c",
        "colab": {
          "base_uri": "https://localhost:8080/"
        }
      },
      "execution_count": null,
      "outputs": [
        {
          "output_type": "stream",
          "name": "stdout",
          "text": [
            "['support@company.com', 'info123@mail.co.uk', 'hr@jobs.gov.eg', 'filter@sub.domain.org']\n"
          ]
        }
      ]
    },
    {
      "cell_type": "code",
      "source": [
        "print(re.findall(r'\\b\\d{3}-?\\d{8}\\b',sample_text))"
      ],
      "metadata": {
        "id": "zOUuQdYfAVe5",
        "outputId": "dbfea0eb-ad0d-4e73-a684-987bb1cba073",
        "colab": {
          "base_uri": "https://localhost:8080/"
        }
      },
      "execution_count": null,
      "outputs": [
        {
          "output_type": "stream",
          "name": "stdout",
          "text": [
            "['01012345678', '01123456789', '015-99999999']\n"
          ]
        }
      ]
    },
    {
      "cell_type": "code",
      "source": [
        "html = \"<p>This is <b>bold</b> text.</p>\"\n",
        "clean = re.sub(r'<.*?>', '', html)\n",
        "print(clean)  # This is bold text.\n",
        "text = \"Name: John Doe, Age: 30\"\n",
        "anon = re.sub(r'\\d+', 'XX', text)\n",
        "print(anon)  # Name: John Doe, Age: XX\n"
      ],
      "metadata": {
        "colab": {
          "base_uri": "https://localhost:8080/"
        },
        "id": "f72SZ64FvSgJ",
        "outputId": "21da2472-5cf8-4097-e9e0-4f826c88b7ec"
      },
      "execution_count": null,
      "outputs": [
        {
          "output_type": "stream",
          "name": "stdout",
          "text": [
            "This is bold text.\n",
            "Name: John Doe, Age: XX\n"
          ]
        }
      ]
    },
    {
      "cell_type": "markdown",
      "source": [
        "# Task-5*"
      ],
      "metadata": {
        "id": "5L3dDWtjDMxq"
      }
    },
    {
      "cell_type": "code",
      "source": [
        "#task5\n",
        "import re\n",
        "\n",
        "sample_text = \"\"\"\n",
        "Hello there! My number is 012-345-6789. I paid $50.99 for item #1234.\n",
        "Wow... that's crazy, right?\n",
        "\"\"\"\n",
        "\n",
        "  #Remove all punctuation from a sentence.\n",
        "\n",
        "#Replace all digits with a *.\n"
      ],
      "metadata": {
        "id": "U6IBYpE7vXx_"
      },
      "execution_count": null,
      "outputs": []
    },
    {
      "cell_type": "code",
      "source": [
        "print(re.sub(r'[^\\w\\s]', '', sample_text))"
      ],
      "metadata": {
        "id": "VaP3sHalCh15",
        "outputId": "1e016e46-d1fb-42af-f986-aa1fc72235e8",
        "colab": {
          "base_uri": "https://localhost:8080/"
        }
      },
      "execution_count": null,
      "outputs": [
        {
          "output_type": "stream",
          "name": "stdout",
          "text": [
            "\n",
            "Hello there My number is 0123456789 I paid 5099 for item 1234\n",
            "Wow thats crazy right\n",
            "\n"
          ]
        }
      ]
    },
    {
      "cell_type": "code",
      "source": [
        "print(re.sub(r'\\d','*',sample_text))"
      ],
      "metadata": {
        "id": "4p134ITgDMRb",
        "outputId": "8396711a-64c4-406b-c33b-3fa537c05830",
        "colab": {
          "base_uri": "https://localhost:8080/"
        }
      },
      "execution_count": null,
      "outputs": [
        {
          "output_type": "stream",
          "name": "stdout",
          "text": [
            "\n",
            "Hello there! My number is ***-***-****. I paid $**.** for item #****.\n",
            "Wow... that's crazy, right?\n",
            "\n"
          ]
        }
      ]
    },
    {
      "cell_type": "code",
      "source": [
        "pattern = re.compile(r'hello', re.I)\n",
        "print(bool(pattern.search(\"Hello there!\")))  # True\n",
        "pattern = re.compile(r\"\"\"\n",
        "    (?=.*[A-Z])     # at least one uppercase\n",
        "    (?=.*[a-z])     # at least one lowercase\n",
        "    (?=.*\\d)        # at least one digit\n",
        "    .{8,}           # minimum 8 chars\n",
        "\"\"\", re.VERBOSE)\n",
        "\n",
        "print(bool(pattern.match(\"Aa123456\")))  # True\n"
      ],
      "metadata": {
        "id": "LUXgR48Vvosd"
      },
      "execution_count": null,
      "outputs": []
    },
    {
      "cell_type": "code",
      "source": [
        "#task 6\n",
        "import re\n",
        "\n",
        "data = {\n",
        "    \"emails\": [\n",
        "        \"john.doe@gmail.com\", \"invalid-email@\", \"hello@site\", \"test@company.org\"\n",
        "    ],\n",
        "    \"phones\": [\n",
        "        \"01012345678\", \"01123456789\", \"0133456789\", \"01234\", \"01599999999\"\n",
        "    ],\n",
        "    \"passwords\": [\n",
        "        \"Pass123!\", \"123456\", \"abcdefg\", \"Welcome@2024\", \"weak_pass\"\n",
        "    ]\n",
        "}\n",
        "\n",
        "#Build a small script that:\n",
        "#1.Reads a list of emails, phone numbers, and passwords\n",
        "\n",
        "#2.Validates each using regex\n",
        "\n",
        "#3.Outputs “valid” or “invalid” for each\n"
      ],
      "metadata": {
        "id": "F_7Kcxn5veA4"
      },
      "execution_count": null,
      "outputs": []
    },
    {
      "cell_type": "code",
      "source": [
        "email_check = r'^[\\w\\.-]+@[\\w\\.-]+\\.\\w+$'\n",
        "phone_check = r'\\b01[0-5]{1}\\d{1,2}-?\\d{7,8}\\b'\n",
        "password_check = r'^(?=.*[a-z])(?=.*[A-Z])(?=.*\\d)(?=.*[^\\w\\s]).{8,}$'\n",
        "for category, items in data.items():\n",
        "    print(f\"{category}::\")\n",
        "    for item in items:\n",
        "        if category == \"emails\":\n",
        "            print(f\"{item}: {'valid' if re.match(email_check, item) else 'invalid'}\")\n",
        "        elif category == \"phones\":\n",
        "            print(f\"{item}: {'valid' if re.match(phone_check, item) else 'invalid'}\")\n",
        "        elif category == \"passwords\":\n",
        "            print(f\"{item}: {'valid' if re.match(password_check, item) else 'invalid'}\")\n",
        "    print()"
      ],
      "metadata": {
        "id": "llIV6MPbEgL6",
        "outputId": "993a8852-fcf3-4db1-b578-238a8220fad9",
        "colab": {
          "base_uri": "https://localhost:8080/"
        }
      },
      "execution_count": null,
      "outputs": [
        {
          "output_type": "stream",
          "name": "stdout",
          "text": [
            "emails::\n",
            "john.doe@gmail.com: valid\n",
            "invalid-email@: invalid\n",
            "hello@site: invalid\n",
            "test@company.org: valid\n",
            "\n",
            "phones::\n",
            "01012345678: valid\n",
            "01123456789: valid\n",
            "0133456789: invalid\n",
            "01234: invalid\n",
            "01599999999: valid\n",
            "\n",
            "passwords::\n",
            "Pass123!: valid\n",
            "123456: invalid\n",
            "abcdefg: invalid\n",
            "Welcome@2024: valid\n",
            "weak_pass: invalid\n",
            "\n"
          ]
        }
      ]
    },
    {
      "cell_type": "code",
      "source": [],
      "metadata": {
        "id": "l4KiyIuEFMaP"
      },
      "execution_count": null,
      "outputs": []
    }
  ]
}