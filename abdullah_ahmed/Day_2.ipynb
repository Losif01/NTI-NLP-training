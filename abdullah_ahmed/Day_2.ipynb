{
  "nbformat": 4,
  "nbformat_minor": 0,
  "metadata": {
    "colab": {
      "provenance": []
    },
    "kernelspec": {
      "name": "python3",
      "display_name": "Python 3"
    },
    "language_info": {
      "name": "python"
    }
  },
  "cells": [
    {
      "cell_type": "markdown",
      "source": [
        "# Code: Tokenization(Sentences)"
      ],
      "metadata": {
        "id": "RGtf0VUoS9Kg"
      }
    },
    {
      "cell_type": "code",
      "source": [
        "import nltk\n",
        "nltk.download('punkt')\n",
        "nltk.download('punkt_tab')\n",
        "from nltk.tokenize import sent_tokenize, word_tokenize\n",
        "\n",
        "example_string = \"\"\"\n",
        "Muad'Dib learned rapidly because his first training was in how to learn.\n",
        "And the first lesson of all was the basic trust that he could learn.\n",
        "It's shocking to find how many people do not believe they can learn,\n",
        "and how many more believe learning to be difficult.\"\"\"\n",
        "\n",
        "sent_tokenize(example_string)"
      ],
      "metadata": {
        "colab": {
          "base_uri": "https://localhost:8080/"
        },
        "id": "x9ep5vN4zhKd",
        "outputId": "2d1e026b-f530-46ea-ba65-dca9863d7ea6"
      },
      "execution_count": null,
      "outputs": [
        {
          "output_type": "stream",
          "name": "stderr",
          "text": [
            "[nltk_data] Downloading package punkt to /root/nltk_data...\n",
            "[nltk_data]   Package punkt is already up-to-date!\n",
            "[nltk_data] Downloading package punkt_tab to /root/nltk_data...\n",
            "[nltk_data]   Package punkt_tab is already up-to-date!\n"
          ]
        },
        {
          "output_type": "execute_result",
          "data": {
            "text/plain": [
              "[\"\\nMuad'Dib learned rapidly because his first training was in how to learn.\",\n",
              " 'And the first lesson of all was the basic trust that he could learn.',\n",
              " \"It's shocking to find how many people do not believe they can learn,\\nand how many more believe learning to be difficult.\"]"
            ]
          },
          "metadata": {},
          "execution_count": 3
        }
      ]
    },
    {
      "cell_type": "markdown",
      "source": [
        "# Code: Tokenization(Words)"
      ],
      "metadata": {
        "id": "YxlwgSLYS_i6"
      }
    },
    {
      "cell_type": "code",
      "source": [
        "import nltk\n",
        "nltk.download('punkt')\n",
        "from nltk.tokenize import sent_tokenize, word_tokenize\n",
        "\n",
        "example_string = \"\"\"\n",
        "Muad'Dib learned rapidly because his first training was in how to learn.\n",
        "And the first lesson of all was the basic trust that he could learn.\n",
        "It's shocking to find how many people do not believe they can learn,\n",
        "and how many more believe learning to be difficult.\"\"\"\n",
        "\n",
        "word_tokenize(example_string)"
      ],
      "metadata": {
        "colab": {
          "base_uri": "https://localhost:8080/"
        },
        "id": "CsPouiZtPQdl",
        "outputId": "51cbd6f9-f4ba-4cbc-b300-8f595c8cba63"
      },
      "execution_count": null,
      "outputs": [
        {
          "output_type": "stream",
          "name": "stderr",
          "text": [
            "[nltk_data] Downloading package punkt to /root/nltk_data...\n",
            "[nltk_data]   Package punkt is already up-to-date!\n"
          ]
        },
        {
          "output_type": "execute_result",
          "data": {
            "text/plain": [
              "[\"Muad'Dib\",\n",
              " 'learned',\n",
              " 'rapidly',\n",
              " 'because',\n",
              " 'his',\n",
              " 'first',\n",
              " 'training',\n",
              " 'was',\n",
              " 'in',\n",
              " 'how',\n",
              " 'to',\n",
              " 'learn',\n",
              " '.',\n",
              " 'And',\n",
              " 'the',\n",
              " 'first',\n",
              " 'lesson',\n",
              " 'of',\n",
              " 'all',\n",
              " 'was',\n",
              " 'the',\n",
              " 'basic',\n",
              " 'trust',\n",
              " 'that',\n",
              " 'he',\n",
              " 'could',\n",
              " 'learn',\n",
              " '.',\n",
              " 'It',\n",
              " \"'s\",\n",
              " 'shocking',\n",
              " 'to',\n",
              " 'find',\n",
              " 'how',\n",
              " 'many',\n",
              " 'people',\n",
              " 'do',\n",
              " 'not',\n",
              " 'believe',\n",
              " 'they',\n",
              " 'can',\n",
              " 'learn',\n",
              " ',',\n",
              " 'and',\n",
              " 'how',\n",
              " 'many',\n",
              " 'more',\n",
              " 'believe',\n",
              " 'learning',\n",
              " 'to',\n",
              " 'be',\n",
              " 'difficult',\n",
              " '.']"
            ]
          },
          "metadata": {},
          "execution_count": 4
        }
      ]
    },
    {
      "cell_type": "markdown",
      "source": [
        "# Code: Tokenization(N-Grams)"
      ],
      "metadata": {
        "id": "dKO1D7iHTNpT"
      }
    },
    {
      "cell_type": "code",
      "source": [
        "import nltk\n",
        "nltk.download('punkt')\n",
        "from nltk.util import ngrams\n",
        "\n",
        "example_string = \"\"\"\n",
        "Muad'Dib learned rapidly because his first training was in how to learn.\n",
        "And the first lesson of all was the basic trust that he could learn.\n",
        "It's shocking to find how many people do not believe they can learn,\n",
        "and how many more believe learning to be difficult.\"\"\"\n",
        "\n",
        "tokens = word_tokenize(example_string)\n",
        "bigrams = list(ngrams(tokens, 2))\n",
        "\n",
        "# Print bigrams\n",
        "for bg in bigrams:\n",
        "    print(bg)"
      ],
      "metadata": {
        "id": "QTShXjpsTNS_",
        "colab": {
          "base_uri": "https://localhost:8080/"
        },
        "outputId": "ba66d172-016e-4a9e-9063-32403a05a78d"
      },
      "execution_count": null,
      "outputs": [
        {
          "output_type": "stream",
          "name": "stdout",
          "text": [
            "(\"Muad'Dib\", 'learned')\n",
            "('learned', 'rapidly')\n",
            "('rapidly', 'because')\n",
            "('because', 'his')\n",
            "('his', 'first')\n",
            "('first', 'training')\n",
            "('training', 'was')\n",
            "('was', 'in')\n",
            "('in', 'how')\n",
            "('how', 'to')\n",
            "('to', 'learn')\n",
            "('learn', '.')\n",
            "('.', 'And')\n",
            "('And', 'the')\n",
            "('the', 'first')\n",
            "('first', 'lesson')\n",
            "('lesson', 'of')\n",
            "('of', 'all')\n",
            "('all', 'was')\n",
            "('was', 'the')\n",
            "('the', 'basic')\n",
            "('basic', 'trust')\n",
            "('trust', 'that')\n",
            "('that', 'he')\n",
            "('he', 'could')\n",
            "('could', 'learn')\n",
            "('learn', '.')\n",
            "('.', 'It')\n",
            "('It', \"'s\")\n",
            "(\"'s\", 'shocking')\n",
            "('shocking', 'to')\n",
            "('to', 'find')\n",
            "('find', 'how')\n",
            "('how', 'many')\n",
            "('many', 'people')\n",
            "('people', 'do')\n",
            "('do', 'not')\n",
            "('not', 'believe')\n",
            "('believe', 'they')\n",
            "('they', 'can')\n",
            "('can', 'learn')\n",
            "('learn', ',')\n",
            "(',', 'and')\n",
            "('and', 'how')\n",
            "('how', 'many')\n",
            "('many', 'more')\n",
            "('more', 'believe')\n",
            "('believe', 'learning')\n",
            "('learning', 'to')\n",
            "('to', 'be')\n",
            "('be', 'difficult')\n",
            "('difficult', '.')\n"
          ]
        },
        {
          "output_type": "stream",
          "name": "stderr",
          "text": [
            "[nltk_data] Downloading package punkt to /root/nltk_data...\n",
            "[nltk_data]   Package punkt is already up-to-date!\n"
          ]
        }
      ]
    },
    {
      "cell_type": "markdown",
      "source": [
        "# Tokenization: Regular Expressions"
      ],
      "metadata": {
        "id": "hfvzAmDhVtO3"
      }
    },
    {
      "cell_type": "code",
      "source": [
        "from nltk.tokenize import RegexpTokenizer\n",
        "\n",
        "my_text = \"Hi Mr. Smith! I'm going to buy some vegetables (tomatoes\"\n",
        "\" and cucumbers) from the store. Should I pick up some black-eyed \" \\\n",
        "\"peas as well?\"\n",
        "\n",
        "whitespace_tokenizer = RegexpTokenizer(\"\\s+\", gaps=True)\n",
        "print(whitespace_tokenizer.tokenize(my_text))"
      ],
      "metadata": {
        "colab": {
          "base_uri": "https://localhost:8080/"
        },
        "id": "RvBYskDlVfxa",
        "outputId": "6573aa3b-f24b-4145-8e40-044881e6be27"
      },
      "execution_count": null,
      "outputs": [
        {
          "output_type": "stream",
          "name": "stdout",
          "text": [
            "['Hi', 'Mr.', 'Smith!', \"I'm\", 'going', 'to', 'buy', 'some', 'vegetables', '(tomatoes']\n"
          ]
        }
      ]
    },
    {
      "cell_type": "code",
      "source": [
        "from nltk.tokenize import RegexpTokenizer\n",
        "\n",
        "cap_tokenizer = RegexpTokenizer(\"[A-Z]['\\w]+\")\n",
        "print(cap_tokenizer.tokenize(my_text))"
      ],
      "metadata": {
        "colab": {
          "base_uri": "https://localhost:8080/"
        },
        "id": "Xzgdsy55WCBE",
        "outputId": "7b5714a0-674c-4dde-88b2-ad8f5b875b74"
      },
      "execution_count": null,
      "outputs": [
        {
          "output_type": "stream",
          "name": "stdout",
          "text": [
            "['Hi', 'Mr', 'Smith', \"I'm\"]\n"
          ]
        }
      ]
    },
    {
      "cell_type": "markdown",
      "source": [
        "# TokenizationSummary"
      ],
      "metadata": {
        "id": "_KsOIh1nWcLr"
      }
    },
    {
      "cell_type": "markdown",
      "source": [
        "With tokenization, we were able to break this messy text data down into small units for us\n",
        " to do analysis\n",
        "\n",
        "*   By sentence, word, n-grams\n",
        "*   By characters and patterns using regularexpression"
      ],
      "metadata": {
        "id": "zMltk2tcWdjY"
      }
    },
    {
      "cell_type": "markdown",
      "source": [
        "# Zipf’s Law and Word Frequency"
      ],
      "metadata": {
        "id": "Gv_uXOzTzJ3c"
      }
    },
    {
      "cell_type": "code",
      "source": [
        "from collections import Counter\n",
        "import matplotlib.pyplot as plt\n",
        "\n",
        "freq = Counter(tokens)\n",
        "most_common = freq.most_common(20)\n",
        "words, counts = zip(*most_common)\n",
        "\n",
        "plt.bar(words, counts)\n",
        "plt.xticks(rotation=45)\n",
        "plt.title(\"Top 20 Word Frequencies\")\n",
        "plt.show()\n"
      ],
      "metadata": {
        "colab": {
          "base_uri": "https://localhost:8080/",
          "height": 494
        },
        "id": "VPjH_TxFymC3",
        "outputId": "a6cf1081-8a4d-46e0-9b3a-fca9a9f8a394"
      },
      "execution_count": null,
      "outputs": [
        {
          "output_type": "display_data",
          "data": {
            "text/plain": [
              "<Figure size 640x480 with 1 Axes>"
            ],
            "image/png": "[encoded data removed]"
          },
          "metadata": {}
        }
      ]
    },
    {
      "cell_type": "code",
      "source": [
        "import numpy as np\n",
        "\n",
        "ranks = np.arange(1, len(freq)+1)\n",
        "frequencies = np.array(sorted(freq.values(), reverse=True))\n",
        "\n",
        "plt.loglog(ranks, frequencies)\n",
        "plt.xlabel(\"Rank\")\n",
        "plt.ylabel(\"Frequency\")\n",
        "plt.title(\"Zipf's Law\")\n",
        "plt.grid(True)\n",
        "plt.show()\n"
      ],
      "metadata": {
        "colab": {
          "base_uri": "https://localhost:8080/",
          "height": 476
        },
        "id": "rnqGWWzFzGRz",
        "outputId": "4f02029b-ee96-4c9a-b70b-4bf680c27ab1"
      },
      "execution_count": null,
      "outputs": [
        {
          "output_type": "display_data",
          "data": {
            "text/plain": [
              "<Figure size 640x480 with 1 Axes>"
            ],
            "image/png": "[encoded data removed]"
          },
          "metadata": {}
        }
      ]
    },
    {
      "cell_type": "markdown",
      "source": [
        "# Maximum Matching Algorithm"
      ],
      "metadata": {
        "id": "kpVaOeqTy8TG"
      }
    },
    {
      "cell_type": "code",
      "source": [
        "wordlist = {\"the\", \"cat\", \"in\", \"the\", \"hat\"}\n",
        "text = \"thecatinthehat\"\n",
        "\n",
        "def max_match(text, wordlist):\n",
        "    if not text:\n",
        "        return []\n",
        "    for i in range(len(text), 0, -1):\n",
        "        first = text[:i]\n",
        "        if first in wordlist:\n",
        "            return [first] + max_match(text[i:], wordlist)\n",
        "    return [text]\n",
        "\n",
        "print(max_match(text, wordlist))\n"
      ],
      "metadata": {
        "colab": {
          "base_uri": "https://localhost:8080/"
        },
        "id": "JzqjwB81yl_Y",
        "outputId": "4095b0d4-499f-4c8c-8b64-fdafff9d5fe8"
      },
      "execution_count": null,
      "outputs": [
        {
          "output_type": "stream",
          "name": "stdout",
          "text": [
            "['the', 'cat', 'in', 'the', 'hat']\n"
          ]
        }
      ]
    },
    {
      "cell_type": "markdown",
      "source": [
        "# Normalize Arabic"
      ],
      "metadata": {
        "id": "LnwoT9WxyngO"
      }
    },
    {
      "cell_type": "code",
      "source": [
        "import re\n",
        "\n",
        "text = \"Mr. Smith bought 2lbs of tomatoes and 5 cucumbers.\"\n",
        "text = re.sub(r'\\d+', '', text)  # remove digits\n",
        "text = re.sub(r'[^\\w\\s]', '', text)  # remove punctuation\n",
        "text = text.lower()\n",
        "print(text)\n"
      ],
      "metadata": {
        "colab": {
          "base_uri": "https://localhost:8080/"
        },
        "id": "Z2wn6FNuy2RJ",
        "outputId": "311f4a80-c854-4001-d9c8-0dca5bdaf0eb"
      },
      "execution_count": null,
      "outputs": [
        {
          "output_type": "stream",
          "name": "stdout",
          "text": [
            "mr smith bought lbs of tomatoes and  cucumbers\n"
          ]
        }
      ]
    },
    {
      "cell_type": "code",
      "source": [
        "def normalize_arabic(text):\n",
        "    text = re.sub(\"[إأآا]\", \"ا\", text)\n",
        "    text = re.sub(\"ى\", \"ي\", text)\n",
        "    text = re.sub(\"ؤ\", \"و\", text)\n",
        "    text = re.sub(\"ئ\", \"ي\", text)\n",
        "    return text\n",
        "\n",
        "arabic = \"إِنَّ الَّذِينَ آمَنُوا وَعَمِلُوا الصَّالِحَاتِ\"\n",
        "print(normalize_arabic(arabic))\n"
      ],
      "metadata": {
        "colab": {
          "base_uri": "https://localhost:8080/"
        },
        "id": "y-1BENZ0ylz8",
        "outputId": "b199ec69-de27-42f0-9621-d801e22bdec9"
      },
      "execution_count": null,
      "outputs": [
        {
          "output_type": "stream",
          "name": "stdout",
          "text": [
            "اِنَّ الَّذِينَ امَنُوا وَعَمِلُوا الصَّالِحَاتِ\n"
          ]
        }
      ]
    }
  ]
}