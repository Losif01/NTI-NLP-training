{
  "nbformat": 4,
  "nbformat_minor": 0,
  "metadata": {
    "colab": {
      "provenance": []
    },
    "kernelspec": {
      "name": "python3",
      "display_name": "Python 3"
    },
    "language_info": {
      "name": "python"
    }
  },
  "cells": [
    {
      "cell_type": "code",
      "execution_count": null,
      "metadata": {
        "id": "_lnTWmuLyLaq"
      },
      "outputs": [],
      "source": [
        "import pandas as pd\n",
        "import nltk\n",
        "import re\n",
        "import string"
      ]
    },
    {
      "cell_type": "code",
      "source": [
        "with open(\"test.ft.txt\", \"r\", encoding=\"utf-8\") as f:\n",
        "    sample = [next(f).strip() for _ in range(50)]"
      ],
      "metadata": {
        "id": "mrz1E7nJ2NYr"
      },
      "execution_count": null,
      "outputs": []
    },
    {
      "cell_type": "code",
      "source": [
        "sample"
      ],
      "metadata": {
        "colab": {
          "base_uri": "https://localhost:8080/"
        },
        "collapsed": true,
        "id": "QG4bnWgH4zCJ",
        "outputId": "850f49f1-6203-4254-a5f7-4da39df25de3"
      },
      "execution_count": null,
      "outputs": [
        {
          "output_type": "execute_result",
          "data": {
            "text/plain": [
              "['__label__2 Great CD: My lovely Pat has one of the GREAT voices of her generation. I have listened to this CD for YEARS and I still LOVE IT. When I\\'m in a good mood it makes me feel better. A bad mood just evaporates like sugar in the rain. This CD just oozes LIFE. Vocals are jusat STUUNNING and lyrics just kill. One of life\\'s hidden gems. This is a desert isle CD in my book. Why she never made it big is just beyond me. Everytime I play this, no matter black, white, young, old, male, female EVERYBODY says one thing \"Who was that singing ?\"',\n",
              " \"__label__2 One of the best game music soundtracks - for a game I didn't really play: Despite the fact that I have only played a small portion of the game, the music I heard (plus the connection to Chrono Trigger which was great as well) led me to purchase the soundtrack, and it remains one of my favorite albums. There is an incredible mix of fun, epic, and emotional songs. Those sad and beautiful tracks I especially like, as there's not too many of those kinds of songs in my other video game soundtracks. I must admit that one of the songs (Life-A Distant Promise) has brought tears to my eyes on many occasions.My one complaint about this soundtrack is that they use guitar fretting effects in many of the songs, which I find distracting. But even if those weren't included I would still consider the collection worth it.\",\n",
              " '__label__1 Batteries died within a year ...: I bought this charger in Jul 2003 and it worked OK for a while. The design is nice and convenient. However, after about a year, the batteries would not hold a charge. Might as well just get alkaline disposables, or look elsewhere for a charger that comes with batteries that have better staying power.',\n",
              " \"__label__2 works fine, but Maha Energy is better: Check out Maha Energy's website. Their Powerex MH-C204F charger works in 100 minutes for rapid charge, with option for slower charge (better for batteries). And they have 2200 mAh batteries.\",\n",
              " \"__label__2 Great for the non-audiophile: Reviewed quite a bit of the combo players and was hesitant due to unfavorable reviews and size of machines. I am weaning off my VHS collection, but don't want to replace them with DVD's. This unit is well built, easy to setup and resolution and special effects (no progressive scan for HDTV owners) suitable for many people looking for a versatile product.Cons- No universal remote.\",\n",
              " \"__label__1 DVD Player crapped out after one year: I also began having the incorrect disc problems that I've read about on here. The VCR still works, but hte DVD side is useless. I understand that DVD players sometimes just quit on you, but after not even one year? To me that's a sign on bad quality. I'm giving up JVC after this as well. I'm sticking to Sony or giving another brand a shot.\",\n",
              " \"__label__1 Incorrect Disc: I love the style of this, but after a couple years, the DVD is giving me problems. It doesn't even work anymore and I use my broken PS2 Now. I wouldn't recommend this, I'm just going to upgrade to a recorder now. I wish it would work but I guess i'm giving up on JVC. I really did like this one... before it stopped working. The dvd player gave me problems probably after a year of having it.\",\n",
              " \"__label__1 DVD menu select problems: I cannot scroll through a DVD menu that is set up vertically. The triangle keys will only select horizontally. So I cannot select anything on most DVD's besides play. No special features, no language select, nothing, just play.\",\n",
              " '__label__2 Unique Weird Orientalia from the 1930\\'s: Exotic tales of the Orient from the 1930\\'s. \"Dr Shen Fu\", a Weird Tales magazine reprint, is about the elixir of life that grants immortality at a price. If you\\'re tired of modern authors who all sound alike, this is the antidote for you. Owen\\'s palette is loaded with splashes of Chinese and Japanese colours. Marvelous.',\n",
              " '__label__1 Not an \"ultimate guide\": Firstly,I enjoyed the format and tone of the book (how the author addressed the reader). However, I did not feel that she imparted any insider secrets that the book promised to reveal. If you are just starting to research law school, and do not know all the requirements of admission, then this book may be a tremendous help. If you have done your homework and are looking for an edge when it comes to admissions, I recommend some more topic-specific books. For example, books on how to write your personal statment, books geared specifically towards LSAT preparation (Powerscore books were the most helpful for me), and there are some websites with great advice geared towards aiding the individuals whom you are asking to write letters of recommendation. Yet, for those new to the entire affair, this book can definitely clarify the requirements for you.',\n",
              " '__label__2 Great book for travelling Europe: I currently live in Europe, and this is the book I recommend for my visitors. It covers many countries, colour pictures, and is a nice starter for before you go, and once you are there.',\n",
              " '__label__1 Not!: If you want to listen to El Duke , then it is better if you have access to his shower,this is not him, it is a gimmick,very well orchestrated.',\n",
              " '__label__1 A complete Bust: This game requires quicktime 5.0 to work...if you have a better version of quicktime (I have 7.5), it will ask you to install the quicktime available on the CD...if you click no, it will not let you play. So, I begrudgingly clicked yes on the third try, and it installed quicktime 5, THEN it tells me to please install the quicktime available on the disc. It KEPT telling me that, even after I uninstalled my version of quicktime 7.5, and reinstalled Barbie Rapunzel and quicktime 5. Very frustrating, and the game absolutely will not work for me. It keeps telling me over and over, to install quicktime 5, tho I\\'ve been through the installation process repeatedly. It is NOT my \"operating system limitations\". This is a brand new computer...merely weeks old with all the state of the art contraptions.',\n",
              " '__label__2 TRULY MADE A DIFFERENCE!: I have been using this product for a couple years now. I started using it because my hair had gotten so dry from all the chemical treatments and relaxers. This actualy came in the relaxer kit. I tried it and could not beleive the difference it made with one use. I could not find it in any of the stores at the time so I searched Amazon and they had it. I absolutely love it. It is the best moisturizing product I have used so far. My hair is soft with good elasticity and it is not breaking anywhere close to what it was. I am very happy with it.',\n",
              " \"__label__1 didn't run off of USB bus power: Was hoping that this drive would run off of bus power, but it required the adapter to actually work. :( I sent it back.\",\n",
              " \"__label__1 Don't buy!: First of all, the company took my money and sent me an email telling me the product was shipped. A week and a half later I received another email telling me that they are sorry, but they don't actually have any of these items, and if I received an email telling me it has shipped, it was a mistake.When I finally got my money back, I went through another company to buy the product and it won't work with my phone, even though it depicts that it will. I have sent numerous emails to the company - I can't actually find a phone number on their website - and I still have not gotten any kind of response. What kind of customer service is that? No one will help me with this problem. My advice - don't waste your money!\",\n",
              " \"__label__2 Simple, Durable, Fun game for all ages: This is an AWESOME game! Almost everyone know tic-tac-toe so it is EASY to learn and quick to play. You can't play just once! The twist is that your pieces are slightly different sizes - just big enough to gobble up your opponent. The first person to make tic-tac-toe wins, but it's not as easy as it looks when you're stuck in the mindset of just making three in a row and forget about the gobbling possibilities! My 4 and 5 year olds will beat me even when I'm trying to win! Excellent beginning critical thinking game. Grandparents loved playing it with the kids too.\",\n",
              " \"__label__2 Review of Kelly Club for Toddlers: For the price of 7.99, this PC game is WELL worth it, great graphics, colorful and lots to do! My four year old daughter is in love with the many tasks to complete in this game, including dressing and grooming wide variety of pets and decoration of numerous floats to show in your little one's very own parade.\",\n",
              " '__label__2 SOY UN APASIONADO DEL BOX: Y ESTE LIBRO ESTÁ ESPLÉNDIDO !Lo disfrutas, lo puedes usar como obra de consultaNos trae LAS HISTORIA DE LOS BOXEADORES MÁS BRILLANTES, DE LOS CAMPEONES DURANTE CIEN AÑOS !!Si te gusta el box...¡NO TE LO PIERDAS !',\n",
              " '__label__2 Some of the best fiddle playing I have heard in a long time: This is an excellent album with some great fiddle playing. Ryan is amazing to watch when he plays in person. You can feel the emotion he puts into each song.',\n",
              " \"__label__1 Long and boring: I've read this book with much expectation, it was very boring all through out the book\",\n",
              " '__label__1 Dont like it: This product smells when you open the package and it appears one of the gel cushions leaks so I spent $10 and havent worn then. I wouldnt buy this product again. Dont waste your money on something you may not be able to use.',\n",
              " '__label__2 one of the last in the series to collect !: The magazine was in very good condition and had the usual high standard of articles and photos that Victoria magazine has come to represent. I have collected all the previous magazines of the series and still enjoy leafing through them on a rainy day',\n",
              " '__label__2 Sony Hi8 Camcorder with 2.5 LCD: I believe I will be very happy with the camcorder. Its small,light and easy to handle.The LCD is clear and bright.Ease of operation.',\n",
              " \"__label__1 Don't Take the Chance - Get the SE Branded Cable: If you purchase this data cable, you need to know that you will receive no real directions or information regarding what to check if nothing works. As directed, I downloaded all of the files from the SE site (70MB on dial up!), and then downloaded all of the user guides. Everything seemed to install ok, but nothing would make my phone be recognized. After that I scoured the SE site for troubleshooting info on their branded cable-in the hope that something would help me figure out the problem. After 2 full days of beating my head against the wall, I finally threw the cable and the useless CD that came with it in the trash.If I had used my brain I would have paid the extra $$ for a SE branded cable and software (and the support that comes along with that). I now have the real deal (SE data cable and software), and guess what? Yep, installation was a breeze and it works beautifully. You really do get what you pay for.\",\n",
              " '__label__1 Waste of money!: Like many of the Barbie CD Roms, the playtime is limited - averaging about 5 mins for each of my two daughters (ages 5 & 7). Like the Barbie movies and other CD Roms the graphics are poorly done.',\n",
              " \"__label__2 works great: i bought this item to connect to a strobe light. unit functions well. not sure that it has all the range claimed, but i never really believe everything a manufacturer claims about a product like this. just too many variables. I can say it works from my neighbors house into my garage; at least 40' going thru two buildings. now if i make too much noise later at night he can simply press a button to let me know.\",\n",
              " \"__label__1 Has No Range: I suppose if you were going to sit in the same room and have line-of-sight with the device, lamp, etc. plugged into this control, it might work. Maybe. But I had it completely within the stated range and one basic house wall separating me and the unit, and it was completely unreliable.I'd recommend spending a touch more money and getting a higher quality product.\",\n",
              " '__label__2 wish i had gotten this sooner!: ive got a lamp in the corner of my room behind my desk thats a complete pain in the arse to turn on and off. ive been using this with the lamp for a month now and it works perfectly. added a little velcro and now i have a light switch where ever i want. under my desk, shelf, etc.',\n",
              " '__label__1 Three Days of Use and It Broke: Very disappointed in this product. It worked perfectly for exactly three days and could not be resuscitated. It was very inexpensive so I did not want to pay half again the price to ship it back for an exchange, so the company would do nothing when they sent me an inquiry as to product satisfaction.',\n",
              " '__label__2 This is the all time best book!: This is the all time best book. She mentoins in the book how anyone can be a vampire, who knows. Well anyway I like the idea of having one soulmate and one crazed werewolf crush. P.S I think that it is a good twist on the story about how anone can be part of the night world.',\n",
              " \"__label__2 Mary Ash: Can't believe I have never reviewed this book before. First read this back when I was 13. Like a lot of girls wanting the mysterious boyfriend and believed in soul-mates which drug me into these books. Rereading it over time years later still stands the test of time for me. Ash is that bad boy you want and your parents want you to stay away from even though he seems like a jerk there is just something about him that make you wanna root for him.\",\n",
              " \"__label__2 Tha BOMB of a book!!: L.J. Smith is the best author in the whole world. I read this book a year ago but I can't stop reading it. It is beyond sweet. I love Ash.The entire Night World seris is the bomb. I read mostly everyone of L.J Smiths book and they all are awesome. I think Ash and Mary Lynetee are one of the sweetest soulmates. I loved how they tried to fight there feelings but couldn't. There should be real guys like Ash,Quinn,Juliun,Damon,Gabriel and I can go on forever. I think everyone should read at least one L.J Smith book. If you do you'll be hooked on them for life,like I am. L.J Smith is the BEST!!!!\",\n",
              " '__label__2 This book was a great book that i have read many times!: This book was so great! I loved and read it so many times that i will soon have to buy a new copy because my last one fell apart. I just hope that there is a follow up on this story because I want to know if Mary-Lynette and Ash get together.',\n",
              " \"__label__2 They'd watch it nonstop if I'd let them: apart from it arriving broken the first time, my kids are loving this DVD, which I alternate with the other I purchased to keep my own sanity. This DVD has created a Thomas fan out of my 3 1/2 yr. old daughter as well.\",\n",
              " \"__label__1 Not as expected...: My children get easily bored with this video. I thought it was several episodes of Thomas but it has A LOT of just children and parents talking about Thomas and all. It doesn't keep the kids attention because what kid wants to sit and listen to a bunch of talking. This was my first Thomas video purchase...hopefully the next will have more shows and less talking!\",\n",
              " '__label__2 Wonderful: I went online for information about Dockers Khaki pants. The size my husband wears are very hard to find in stores. I was very impressed with the selection I had and he was thrilled to have all these pants without having them taken up in the length. The delivery was quick (especially during Christmas) and I really appreciate all the effort made to send us the selections we chose.',\n",
              " '__label__1 Doublecharged for shipping because merchant was backordered: Merchant was out of stock on the second pair of pants, so when it was shipped I was charged $9 again when the second pair was in stock weeks later.Will not buy from Amazon vendors again.',\n",
              " \"__label__2 Book of Chance: I had just finished reading 'The Food of Love' by Anthony Capella since I had nothing to do, but read. Mind you, reading is one of my favorite pastimes.I had recently bought a series of books. The Food of Love was just one of the books I just picked up so I can get that 'three for the price of two' deal at Waterstones in London (British's equivalent of Barnes&Noble;). I wasn't really interested, but it was one of the more interesting options I had. Well, I'm glad I made the right choice! I started reading it last night and I haven't put it down since.If you love food and a little romance, which I am both fond of, it's an excellent book to read. Mr. Capella was remarkably thorough in his description of the rich and textured Italian dishes that the words assails you with a sense of smell and taste that leaves you hungry for more. This book took me by surprise and I'm sure you would not be disappointed.\",\n",
              " \"__label__1 Light reading, light in substance: A clichéd storyline based on the classic Cyrano de Bergerac, this book reads like a rookie novel written by someone who has a knowledge and passion for Italian culture and cuisine, but little experience in developing a story. I can understand Bruno and his passion for cooking, but have no clue as to his passion for Laura. It seems to be primarily based on her being a blonde American. How exotic. Her character is so underdeveloped- we know she's studying art history, and she enjoys Bruno's cooking with a passion. That's about it. And Tomasso, he's just the cliché for any over-sexed Mediterranean male who encounters foreign females.It's a light and entertaining read if you can get beyond all of the reasons you should put it down and walk away. That being said, I will, however, check out this author's more recent novels. He does seem to have a way with technical details, hopefully his storytelling has caught up.\",\n",
              " '__label__2 WeiB FOREVER!: This is a great CD!! I love WeiB Kreuz!! The anime is awsome! Its bout 4 guys (hhhooottt) who work at a flower shop, but at night they are the White Hunters (or Byce as in the anime) they are assasins that \"hunt the tomorrow\" of Bad guys, the bad guys the police cant get . Like when teens start blowing up in flames in public for no reason... from a strange gas substance that w/ instant contact ingulfs any object... but i couldnt resist. Its also an emotional anime at times! I think this is a Cd and Anime any anime fan should see...',\n",
              " \"__label__1 Great Book--unacceptable condition: I was looking forward to receiving this book, as I was going to New Orleans to Antoine's restaurant. I read the book at least thirty years ago and wanted my own copy. This book came without a dust jacket and was so musty that I could not read it without my eyes watering. I sent it back, at my own expense, and to date, I have not had a refund.\",\n",
              " \"__label__2 Real HTML for people who build sites for a living: This book is simply great! If you build sites for a living you probably struggle with books that trivialize HTML and present its syntax willy-nilly. This book is the ONLY book I've ever seen that actually seems to be written by someone who builds sites professionally and wants to know all the markup. It explains logical and physical tagging styles well and does a really good job showing how to hook HTML with other technologies without trying to teach CGI, CSS, etc. at the same time. The only thing I wish is that this guy would write a JavaScript or DHTML book. I'd buy that right away.\",\n",
              " \"__label__2 Marriage has its good and bad moments: This is a tear-jerker mixed with humor. A lot of rough patches for this couple but don't let that scare you off because there are also a lot of good times, too. I watch this movie often as I am a hopeless romantic and I thoroughly enjoy the music and dancing (Hindi style & Pop Rock mix), plus it's worth wading through the tears to get to the fun parts. It ends the way a typical relationship of this type would, but that's not exactly a bad thing in this case. I recommend it to everyone.\",\n",
              " \"__label__2 Amazing...: love it...very touch.it's to bad that in the dvd description doesn't mention no subtitles\",\n",
              " \"__label__2 Leslie in a nutshell: Danelectro DJ-20C Rocky Road Spin Speaker Mini Effects Pedal, is an amazing little pedal!I use it with guitar, and keyboards.Using with Keyboards, organ mode(doesn't matter which type) jazz, rock, gives me an instant controllable Leslie effects.it includes fast and slow ramp up,boost, volume/drive. thru a mixer in stereo you can do some amazing stuff with this inexpensive unit.The only drawback i have found is the buttons are very hard to engage and disengage.But i'm working on that. i will modify the springs if possible and maybe even send a recommendation to Danelectro.\",\n",
              " '__label__1 More Romance Please and Less Mystery!!: the reason i gave two stars when I usually give 5 stars for ms. feehan\\'s books is b/c this book was tooooooo mystery/gothic genre rather than romance. I really didn\\'t feel like the two main characters were in love, in fact the entire book was almost entirely from the heroine\\'s point of view and I was getting sick of her whining and her point of view. unlike the \"dark\" series, you really didnt feel any passion. the book is better suited for the mystery/gothic genre and NOT romance.even the mystery was not that good! its only in the last chapter that for some unforseen reason the villain confesses all in less than three pages. throughout the entire book, you\\'re kept in suspense of who was the bad guy, if you wanted to know who it was look at the last couple of pages....Ms. Feehan, if your reading, please focuse more on the main characters relation to each other rather then distract us with so much unamusing mystery!',\n",
              " '__label__1 A Lost Author: I have read all of the Carpathian novels to date, except one. I very much enjoyed them at first, but nothing EVER gets resolved. You would think that after 16 books something would have been resolved and a new obstacle introduced. As for this book, it is an off-shoot of another Carpathian novel about the Jaguar Line. I was hoping to find out more about this curse, the origins and why the males kill the females. Nothing, not a word about the Jaguar curse. And why do the walls and ceilings change? Ideas introduced and left at that. Ms. Feehan went, once again, off on a tagent. Her books become less and less meaty and more and more expensive. I will NOT be buying any further books by this author. What a shame.',\n",
              " \"__label__1 Okay but Messy....: We purchased this bag for a vacation we were taking a cruise and we wanted to use it when we left the ship. The bag was convenient to carry, however the faux leather began peeling. At first it wasn't so bad but then it became annoying because it then began flaking all over your skin and clothes. I would have rather the bag been a cloth bag with no flaking than the faux leather that I had to keep wisking away from my skin and clothes.\",\n",
              " \"__label__2 Patricia Cornwell has turned me into a reader: I was never really a big reader before and somebody put me on to Patricia Cornwell. Well, now I can't put her books down. Her books just get better and better as you go through the Kay Scarpetta series.I really enjoy the series concept and the fact that some of the same characters keep returning from book to book. It's nice to see the characters develop through each story line. It allows you to get comfortable with them, get close to them, and get frustrated with them when they do something out of character.I highly recommend reading not just this book but the entire Kay Scarpetta series.\"]"
            ]
          },
          "metadata": {},
          "execution_count": 63
        }
      ]
    },
    {
      "cell_type": "code",
      "source": [
        "small_sample = sample[:5]\n",
        "small_sample"
      ],
      "metadata": {
        "colab": {
          "base_uri": "https://localhost:8080/"
        },
        "id": "P5EB9ISt8GEA",
        "outputId": "e1c0146b-a435-4f09-dfc9-9d91670cb272"
      },
      "execution_count": null,
      "outputs": [
        {
          "output_type": "execute_result",
          "data": {
            "text/plain": [
              "['__label__2 Great CD: My lovely Pat has one of the GREAT voices of her generation. I have listened to this CD for YEARS and I still LOVE IT. When I\\'m in a good mood it makes me feel better. A bad mood just evaporates like sugar in the rain. This CD just oozes LIFE. Vocals are jusat STUUNNING and lyrics just kill. One of life\\'s hidden gems. This is a desert isle CD in my book. Why she never made it big is just beyond me. Everytime I play this, no matter black, white, young, old, male, female EVERYBODY says one thing \"Who was that singing ?\"',\n",
              " \"__label__2 One of the best game music soundtracks - for a game I didn't really play: Despite the fact that I have only played a small portion of the game, the music I heard (plus the connection to Chrono Trigger which was great as well) led me to purchase the soundtrack, and it remains one of my favorite albums. There is an incredible mix of fun, epic, and emotional songs. Those sad and beautiful tracks I especially like, as there's not too many of those kinds of songs in my other video game soundtracks. I must admit that one of the songs (Life-A Distant Promise) has brought tears to my eyes on many occasions.My one complaint about this soundtrack is that they use guitar fretting effects in many of the songs, which I find distracting. But even if those weren't included I would still consider the collection worth it.\",\n",
              " '__label__1 Batteries died within a year ...: I bought this charger in Jul 2003 and it worked OK for a while. The design is nice and convenient. However, after about a year, the batteries would not hold a charge. Might as well just get alkaline disposables, or look elsewhere for a charger that comes with batteries that have better staying power.',\n",
              " \"__label__2 works fine, but Maha Energy is better: Check out Maha Energy's website. Their Powerex MH-C204F charger works in 100 minutes for rapid charge, with option for slower charge (better for batteries). And they have 2200 mAh batteries.\",\n",
              " \"__label__2 Great for the non-audiophile: Reviewed quite a bit of the combo players and was hesitant due to unfavorable reviews and size of machines. I am weaning off my VHS collection, but don't want to replace them with DVD's. This unit is well built, easy to setup and resolution and special effects (no progressive scan for HDTV owners) suitable for many people looking for a versatile product.Cons- No universal remote.\"]"
            ]
          },
          "metadata": {},
          "execution_count": 64
        }
      ]
    },
    {
      "cell_type": "code",
      "source": [
        "import nltk\n",
        "nltk.download('stopwords')\n",
        "from nltk.corpus import stopwords\n",
        "stop_words = set(stopwords.words('english'))\n",
        "def clean_text(text):\n",
        "    text = str(text).lower()\n",
        "    text = re.sub(r'<.*?>', '', text)\n",
        "    text = re.sub(r'\\d+', '', text)\n",
        "    text = text.translate(str.maketrans('', '', string.punctuation))\n",
        "    text = re.sub(r'[^\\w\\s]', '', text)\n",
        "    text = re.sub(r'\\s+', ' ', text).strip()\n",
        "    words = text.split()\n",
        "    words = [word for word in words if word not in stop_words]\n",
        "    return ' '.join(words)"
      ],
      "metadata": {
        "colab": {
          "base_uri": "https://localhost:8080/"
        },
        "id": "HI-NWBIW0_c4",
        "outputId": "ddcbf005-dfc1-48f4-819d-448ad120ce08"
      },
      "execution_count": null,
      "outputs": [
        {
          "output_type": "stream",
          "name": "stderr",
          "text": [
            "[nltk_data] Downloading package stopwords to /root/nltk_data...\n",
            "[nltk_data]   Package stopwords is already up-to-date!\n"
          ]
        }
      ]
    },
    {
      "cell_type": "code",
      "source": [
        "import nltk\n",
        "nltk.download('stopwords')\n",
        "from nltk.corpus import stopwords\n",
        "stop_words = set(stopwords.words('english'))\n",
        "clean = [clean_text(line) for line in sample]"
      ],
      "metadata": {
        "colab": {
          "base_uri": "https://localhost:8080/"
        },
        "id": "7n3Iioj7_K98",
        "outputId": "5e7dfe88-11cc-4a00-9759-1ed1f3f2406f"
      },
      "execution_count": null,
      "outputs": [
        {
          "output_type": "stream",
          "name": "stderr",
          "text": [
            "[nltk_data] Downloading package stopwords to /root/nltk_data...\n",
            "[nltk_data]   Package stopwords is already up-to-date!\n"
          ]
        }
      ]
    },
    {
      "cell_type": "code",
      "source": [
        "clean"
      ],
      "metadata": {
        "colab": {
          "base_uri": "https://localhost:8080/"
        },
        "collapsed": true,
        "id": "vbsnqWa247MU",
        "outputId": "ad962719-e5ea-4d37-f12a-f4847dd1b62a"
      },
      "execution_count": null,
      "outputs": [
        {
          "output_type": "execute_result",
          "data": {
            "text/plain": [
              "['label great cd lovely pat one great voices generation listened cd years still love im good mood makes feel better bad mood evaporates like sugar rain cd oozes life vocals jusat stuunning lyrics kill one lifes hidden gems desert isle cd book never made big beyond everytime play matter black white young old male female everybody says one thing singing',\n",
              " 'label one best game music soundtracks game didnt really play despite fact played small portion game music heard plus connection chrono trigger great well led purchase soundtrack remains one favorite albums incredible mix fun epic emotional songs sad beautiful tracks especially like theres many kinds songs video game soundtracks must admit one songs lifea distant promise brought tears eyes many occasionsmy one complaint soundtrack use guitar fretting effects many songs find distracting even werent included would still consider collection worth',\n",
              " 'label batteries died within year bought charger jul worked ok design nice convenient however year batteries would hold charge might well get alkaline disposables look elsewhere charger comes batteries better staying power',\n",
              " 'label works fine maha energy better check maha energys website powerex mhcf charger works minutes rapid charge option slower charge better batteries mah batteries',\n",
              " 'label great nonaudiophile reviewed quite bit combo players hesitant due unfavorable reviews size machines weaning vhs collection dont want replace dvds unit well built easy setup resolution special effects progressive scan hdtv owners suitable many people looking versatile productcons universal remote',\n",
              " 'label dvd player crapped one year also began incorrect disc problems ive read vcr still works hte dvd side useless understand dvd players sometimes quit even one year thats sign bad quality im giving jvc well im sticking sony giving another brand shot',\n",
              " 'label incorrect disc love style couple years dvd giving problems doesnt even work anymore use broken ps wouldnt recommend im going upgrade recorder wish would work guess im giving jvc really like one stopped working dvd player gave problems probably year',\n",
              " 'label dvd menu select problems cannot scroll dvd menu set vertically triangle keys select horizontally cannot select anything dvds besides play special features language select nothing play',\n",
              " 'label unique weird orientalia exotic tales orient dr shen fu weird tales magazine reprint elixir life grants immortality price youre tired modern authors sound alike antidote owens palette loaded splashes chinese japanese colours marvelous',\n",
              " 'label ultimate guide firstlyi enjoyed format tone book author addressed reader however feel imparted insider secrets book promised reveal starting research law school know requirements admission book may tremendous help done homework looking edge comes admissions recommend topicspecific books example books write personal statment books geared specifically towards lsat preparation powerscore books helpful websites great advice geared towards aiding individuals asking write letters recommendation yet new entire affair book definitely clarify requirements',\n",
              " 'label great book travelling europe currently live europe book recommend visitors covers many countries colour pictures nice starter go',\n",
              " 'label want listen el duke better access showerthis gimmickvery well orchestrated',\n",
              " 'label complete bust game requires quicktime workif better version quicktime ask install quicktime available cdif click let play begrudgingly clicked yes third try installed quicktime tells please install quicktime available disc kept telling even uninstalled version quicktime reinstalled barbie rapunzel quicktime frustrating game absolutely work keeps telling install quicktime tho ive installation process repeatedly operating system limitations brand new computermerely weeks old state art contraptions',\n",
              " 'label truly made difference using product couple years started using hair gotten dry chemical treatments relaxers actualy came relaxer kit tried could beleive difference made one use could find stores time searched amazon absolutely love best moisturizing product used far hair soft good elasticity breaking anywhere close happy',\n",
              " 'label didnt run usb bus power hoping drive would run bus power required adapter actually work sent back',\n",
              " 'label dont buy first company took money sent email telling product shipped week half later received another email telling sorry dont actually items received email telling shipped mistakewhen finally got money back went another company buy product wont work phone even though depicts sent numerous emails company cant actually find phone number website still gotten kind response kind customer service one help problem advice dont waste money',\n",
              " 'label simple durable fun game ages awesome game almost everyone know tictactoe easy learn quick play cant play twist pieces slightly different sizes big enough gobble opponent first person make tictactoe wins easy looks youre stuck mindset making three row forget gobbling possibilities year olds beat even im trying win excellent beginning critical thinking game grandparents loved playing kids',\n",
              " 'label review kelly club toddlers price pc game well worth great graphics colorful lots four year old daughter love many tasks complete game including dressing grooming wide variety pets decoration numerous floats show little ones parade',\n",
              " 'label soy un apasionado del box este libro está espléndido lo disfrutas lo puedes usar como obra de consultanos trae las historia de los boxeadores más brillantes de los campeones durante cien años si te gusta el boxno te lo pierdas',\n",
              " 'label best fiddle playing heard long time excellent album great fiddle playing ryan amazing watch plays person feel emotion puts song',\n",
              " 'label long boring ive read book much expectation boring book',\n",
              " 'label dont like product smells open package appears one gel cushions leaks spent havent worn wouldnt buy product dont waste money something may able use',\n",
              " 'label one last series collect magazine good condition usual high standard articles photos victoria magazine come represent collected previous magazines series still enjoy leafing rainy day',\n",
              " 'label sony hi camcorder lcd believe happy camcorder smalllight easy handlethe lcd clear brightease operation',\n",
              " 'label dont take chance get se branded cable purchase data cable need know receive real directions information regarding check nothing works directed downloaded files se site mb dial downloaded user guides everything seemed install ok nothing would make phone recognized scoured se site troubleshooting info branded cablein hope something would help figure problem full days beating head wall finally threw cable useless cd came trashif used brain would paid extra se branded cable software support comes along real deal se data cable software guess yep installation breeze works beautifully really get pay',\n",
              " 'label waste money like many barbie cd roms playtime limited averaging mins two daughters ages like barbie movies cd roms graphics poorly done',\n",
              " 'label works great bought item connect strobe light unit functions well sure range claimed never really believe everything manufacturer claims product like many variables say works neighbors house garage least going thru two buildings make much noise later night simply press button let know',\n",
              " 'label range suppose going sit room lineofsight device lamp etc plugged control might work maybe completely within stated range one basic house wall separating unit completely unreliableid recommend spending touch money getting higher quality product',\n",
              " 'label wish gotten sooner ive got lamp corner room behind desk thats complete pain arse turn ive using lamp month works perfectly added little velcro light switch ever want desk shelf etc',\n",
              " 'label three days use broke disappointed product worked perfectly exactly three days could resuscitated inexpensive want pay half price ship back exchange company would nothing sent inquiry product satisfaction',\n",
              " 'label time best book time best book mentoins book anyone vampire knows well anyway like idea one soulmate one crazed werewolf crush ps think good twist story anone part night world',\n",
              " 'label mary ash cant believe never reviewed book first read back like lot girls wanting mysterious boyfriend believed soulmates drug books rereading time years later still stands test time ash bad boy want parents want stay away even though seems like jerk something make wanna root',\n",
              " 'label tha bomb book lj smith best author whole world read book year ago cant stop reading beyond sweet love ashthe entire night world seris bomb read mostly everyone lj smiths book awesome think ash mary lynetee one sweetest soulmates loved tried fight feelings couldnt real guys like ashquinnjuliundamongabriel go forever think everyone read least one lj smith book youll hooked lifelike lj smith best',\n",
              " 'label book great book read many times book great loved read many times soon buy new copy last one fell apart hope follow story want know marylynette ash get together',\n",
              " 'label theyd watch nonstop id let apart arriving broken first time kids loving dvd alternate purchased keep sanity dvd created thomas fan yr old daughter well',\n",
              " 'label expected children get easily bored video thought several episodes thomas lot children parents talking thomas doesnt keep kids attention kid wants sit listen bunch talking first thomas video purchasehopefully next shows less talking',\n",
              " 'label wonderful went online information dockers khaki pants size husband wears hard find stores impressed selection thrilled pants without taken length delivery quick especially christmas really appreciate effort made send us selections chose',\n",
              " 'label doublecharged shipping merchant backordered merchant stock second pair pants shipped charged second pair stock weeks laterwill buy amazon vendors',\n",
              " 'label book chance finished reading food love anthony capella since nothing read mind reading one favorite pastimesi recently bought series books food love one books picked get three price two deal waterstones london britishs equivalent barnesnoble wasnt really interested one interesting options well im glad made right choice started reading last night havent put sinceif love food little romance fond excellent book read mr capella remarkably thorough description rich textured italian dishes words assails sense smell taste leaves hungry book took surprise im sure would disappointed',\n",
              " 'label light reading light substance clichéd storyline based classic cyrano de bergerac book reads like rookie novel written someone knowledge passion italian culture cuisine little experience developing story understand bruno passion cooking clue passion laura seems primarily based blonde american exotic character underdeveloped know shes studying art history enjoys brunos cooking passion thats tomasso hes cliché oversexed mediterranean male encounters foreign femalesits light entertaining read get beyond reasons put walk away said however check authors recent novels seem way technical details hopefully storytelling caught',\n",
              " 'label weib forever great cd love weib kreuz anime awsome bout guys hhhooottt work flower shop night white hunters byce anime assasins hunt tomorrow bad guys bad guys police cant get like teens start blowing flames public reason strange gas substance w instant contact ingulfs object couldnt resist also emotional anime times think cd anime anime fan see',\n",
              " 'label great bookunacceptable condition looking forward receiving book going new orleans antoines restaurant read book least thirty years ago wanted copy book came without dust jacket musty could read without eyes watering sent back expense date refund',\n",
              " 'label real html people build sites living book simply great build sites living probably struggle books trivialize html present syntax willynilly book book ive ever seen actually seems written someone builds sites professionally wants know markup explains logical physical tagging styles well really good job showing hook html technologies without trying teach cgi css etc time thing wish guy would write javascript dhtml book id buy right away',\n",
              " 'label marriage good bad moments tearjerker mixed humor lot rough patches couple dont let scare also lot good times watch movie often hopeless romantic thoroughly enjoy music dancing hindi style pop rock mix plus worth wading tears get fun parts ends way typical relationship type would thats exactly bad thing case recommend everyone',\n",
              " 'label amazing love itvery touchits bad dvd description doesnt mention subtitles',\n",
              " 'label leslie nutshell danelectro djc rocky road spin speaker mini effects pedal amazing little pedali use guitar keyboardsusing keyboards organ modedoesnt matter type jazz rock gives instant controllable leslie effectsit includes fast slow ramp upboost volumedrive thru mixer stereo amazing stuff inexpensive unitthe drawback found buttons hard engage disengagebut im working modify springs possible maybe even send recommendation danelectro',\n",
              " 'label romance please less mystery reason gave two stars usually give stars ms feehans books bc book tooooooo mysterygothic genre rather romance really didnt feel like two main characters love fact entire book almost entirely heroines point view getting sick whining point view unlike dark series really didnt feel passion book better suited mysterygothic genre romanceeven mystery good last chapter unforseen reason villain confesses less three pages throughout entire book youre kept suspense bad guy wanted know look last couple pagesms feehan reading please focuse main characters relation rather distract us much unamusing mystery',\n",
              " 'label lost author read carpathian novels date except one much enjoyed first nothing ever gets resolved would think books something would resolved new obstacle introduced book offshoot another carpathian novel jaguar line hoping find curse origins males kill females nothing word jaguar curse walls ceilings change ideas introduced left ms feehan went tagent books become less less meaty expensive buying books author shame',\n",
              " 'label okay messy purchased bag vacation taking cruise wanted use left ship bag convenient carry however faux leather began peeling first wasnt bad became annoying began flaking skin clothes would rather bag cloth bag flaking faux leather keep wisking away skin clothes',\n",
              " 'label patricia cornwell turned reader never really big reader somebody put patricia cornwell well cant put books books get better better go kay scarpetta seriesi really enjoy series concept fact characters keep returning book book nice see characters develop story line allows get comfortable get close get frustrated something characteri highly recommend reading book entire kay scarpetta series']"
            ]
          },
          "metadata": {},
          "execution_count": 67
        }
      ]
    },
    {
      "cell_type": "markdown",
      "source": [
        "## BOW"
      ],
      "metadata": {
        "id": "25SeuxXk-HMg"
      }
    },
    {
      "cell_type": "code",
      "source": [
        "from sklearn.feature_extraction.text import CountVectorizer\n",
        "\n",
        "\n",
        "vectorizer = CountVectorizer()\n",
        "X = vectorizer.fit_transform(clean)\n",
        "print(vectorizer.get_feature_names_out())\n",
        "print(X.toarray())\n",
        "\n"
      ],
      "metadata": {
        "colab": {
          "base_uri": "https://localhost:8080/"
        },
        "id": "ssa5fD-o8WS4",
        "outputId": "241d48f9-b51b-492e-8f7d-508d834191e9"
      },
      "execution_count": null,
      "outputs": [
        {
          "output_type": "stream",
          "name": "stdout",
          "text": [
            "['able' 'absolutely' 'access' ... 'young' 'youre' 'yr']\n",
            "[[0 0 0 ... 1 0 0]\n",
            " [0 0 0 ... 0 0 0]\n",
            " [0 0 0 ... 0 0 0]\n",
            " ...\n",
            " [0 0 0 ... 0 0 0]\n",
            " [0 0 0 ... 0 0 0]\n",
            " [0 0 0 ... 0 0 0]]\n"
          ]
        }
      ]
    },
    {
      "cell_type": "markdown",
      "source": [],
      "metadata": {
        "id": "ccXMH1tIA1nR"
      }
    },
    {
      "cell_type": "markdown",
      "source": [
        "## TF-IDF"
      ],
      "metadata": {
        "id": "NLan57sVA8bq"
      }
    },
    {
      "cell_type": "code",
      "source": [
        "from sklearn.feature_extraction.text import TfidfVectorizer\n",
        "\n",
        "tfidf = TfidfVectorizer()\n",
        "X = tfidf.fit_transform(clean)\n",
        "\n",
        "print(tfidf.get_feature_names_out())\n",
        "print(X.toarray())"
      ],
      "metadata": {
        "colab": {
          "base_uri": "https://localhost:8080/"
        },
        "id": "VniWrIqS9cr8",
        "outputId": "be20d419-5953-42dc-fa73-7a89a5a7b818"
      },
      "execution_count": null,
      "outputs": [
        {
          "output_type": "stream",
          "name": "stdout",
          "text": [
            "['able' 'absolutely' 'access' ... 'young' 'youre' 'yr']\n",
            "[[0.         0.         0.         ... 0.13289215 0.         0.        ]\n",
            " [0.         0.         0.         ... 0.         0.         0.        ]\n",
            " [0.         0.         0.         ... 0.         0.         0.        ]\n",
            " ...\n",
            " [0.         0.         0.         ... 0.         0.         0.        ]\n",
            " [0.         0.         0.         ... 0.         0.         0.        ]\n",
            " [0.         0.         0.         ... 0.         0.         0.        ]]\n"
          ]
        }
      ]
    }
  ]
}