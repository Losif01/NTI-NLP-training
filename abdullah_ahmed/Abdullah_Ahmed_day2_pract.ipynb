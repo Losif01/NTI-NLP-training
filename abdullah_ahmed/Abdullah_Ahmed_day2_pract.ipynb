{
  "nbformat": 4,
  "nbformat_minor": 0,
  "metadata": {
    "colab": {
      "provenance": []
    },
    "kernelspec": {
      "name": "python3",
      "display_name": "Python 3"
    },
    "language_info": {
      "name": "python"
    }
  },
  "cells": [
    {
      "cell_type": "code",
      "execution_count": null,
      "metadata": {
        "id": "EQdhl6xOhmuF",
        "outputId": "2eb6175d-c2b8-45a9-9725-a183f2f7ef4c",
        "colab": {
          "base_uri": "https://localhost:8080/"
        }
      },
      "outputs": [
        {
          "output_type": "stream",
          "name": "stdout",
          "text": [
            "['3', '14', '1']\n"
          ]
        }
      ],
      "source": [
        "#Extract all the numbers.\n",
        "import re\n",
        "text1 = \"There are 3 cats, 14 dogs, and 1 turtle in the house.\"\n",
        "print(re.findall(r'\\d+',text1))"
      ]
    },
    {
      "cell_type": "code",
      "source": [
        "#Extract all valid emails.\n",
        "text2 = \"Send emails to: user1@gmail.com, support@company.org, and fake@.com\"\n",
        "\n",
        "print(re.findall(r'\\b[\\w.-]+@[\\w.-]+\\.\\w+\\b',text2))"
      ],
      "metadata": {
        "id": "c0sMkCADhydK",
        "outputId": "975e99a8-6cb5-4b1a-c136-d36f76b99446",
        "colab": {
          "base_uri": "https://localhost:8080/"
        }
      },
      "execution_count": null,
      "outputs": [
        {
          "output_type": "stream",
          "name": "stdout",
          "text": [
            "['user1@gmail.com', 'support@company.org']\n"
          ]
        }
      ]
    },
    {
      "cell_type": "code",
      "source": [
        "#Extract valid Egyptian mobile numbers (starting with 010, 011, 012, 015).\n",
        "text3 = \"Contact us at 01012345678 or 01599999999 or 01987654321 or 010-20541078\"\n",
        "\n",
        "print(re.findall(r'\\b(?:010|011|012|015)-?\\d{8}\\b', text3))"
      ],
      "metadata": {
        "id": "dK0ZpicUh4CM",
        "outputId": "0335b2ec-8b37-49eb-e94a-2ae739cf2519",
        "colab": {
          "base_uri": "https://localhost:8080/"
        }
      },
      "execution_count": null,
      "outputs": [
        {
          "output_type": "stream",
          "name": "stdout",
          "text": [
            "['01012345678', '01599999999', '010-20541078']\n"
          ]
        }
      ]
    },
    {
      "cell_type": "code",
      "source": [
        "#Remove all punctuation and print the clean text.\n",
        "text4 = \"Hello, world! Let's clean this: text. Right?\"\n",
        "\n",
        "print(re.sub(r'[^\\w\\s]','', text4))"
      ],
      "metadata": {
        "id": "Fh6AvOrsiG1U",
        "outputId": "9f964b38-b682-483c-f03a-d77cfcc11208",
        "colab": {
          "base_uri": "https://localhost:8080/"
        }
      },
      "execution_count": null,
      "outputs": [
        {
          "output_type": "stream",
          "name": "stdout",
          "text": [
            "Hello world Lets clean this text Right\n"
          ]
        }
      ]
    },
    {
      "cell_type": "code",
      "source": [
        "#Extract all hashtags.\n",
        "text5 = \"Follow us for #updates, #PythonTips and #100DaysOfCode!\"\n",
        "\n",
        "print(re.findall(r'#\\w+', text5))"
      ],
      "metadata": {
        "id": "b29mwZrtiMdM",
        "outputId": "65e5b521-395d-416e-9e7f-1cb59a6007e2",
        "colab": {
          "base_uri": "https://localhost:8080/"
        }
      },
      "execution_count": null,
      "outputs": [
        {
          "output_type": "stream",
          "name": "stdout",
          "text": [
            "['#updates', '#PythonTips', '#100DaysOfCode']\n"
          ]
        }
      ]
    },
    {
      "cell_type": "code",
      "source": [
        "#Split Paragraph into Sentences\n",
        "text6 = \"Hello! How are you doing? I hope you're enjoying regex. Let's practice more.\"\n",
        "\n",
        "print(re.split(r'[!.?]w', text6))"
      ],
      "metadata": {
        "id": "6GLL51FTiSKz",
        "outputId": "7c203707-d600-4dc7-d177-ecc2092e9c8d",
        "colab": {
          "base_uri": "https://localhost:8080/"
        }
      },
      "execution_count": null,
      "outputs": [
        {
          "output_type": "stream",
          "name": "stdout",
          "text": [
            "[\"Hello! How are you doing? I hope you're enjoying regex. Let's practice more.\"]\n"
          ]
        }
      ]
    },
    {
      "cell_type": "code",
      "source": [
        "from typing import Pattern\n",
        "#Validate Passwords\n",
        "passwords = [\"pass123\", \"Secure1\", \"12345678\", \"Password123\", \"noDigitHere\"]\n",
        "\n",
        "pattern = r'^(?=.*[a-z])(?=.*[A-Z])(?=.*\\d)(?=.*[^\\w\\s]).{8,}$'\n",
        "\n",
        "for pwd in passwords:\n",
        "    if re.fullmatch(pattern, pwd):\n",
        "        print(f\"{pwd}: Valid\")\n",
        "    else:\n",
        "        print(f\"{pwd}: Invalid\")\n"
      ],
      "metadata": {
        "id": "ICkieuSXiXpR",
        "outputId": "cacc7033-6686-49c5-c169-30ba0cb78827",
        "colab": {
          "base_uri": "https://localhost:8080/"
        }
      },
      "execution_count": null,
      "outputs": [
        {
          "output_type": "stream",
          "name": "stdout",
          "text": [
            "pass123: Invalid\n",
            "Secure1: Invalid\n",
            "12345678: Invalid\n",
            "Password123: Invalid\n",
            "noDigitHere: Invalid\n"
          ]
        }
      ]
    },
    {
      "cell_type": "code",
      "source": [
        "#Remove HTML Tags\n",
        "html_text = \"<div><h1>Welcome</h1><p>This is a <b>test</b> string.</p></div>\"\n",
        "print(re.sub(r'<.*?>', ' ', html_text))"
      ],
      "metadata": {
        "id": "rYa7I-xXicZA",
        "outputId": "9610cd41-0733-4f88-f9be-32cb108e451b",
        "colab": {
          "base_uri": "https://localhost:8080/"
        }
      },
      "execution_count": null,
      "outputs": [
        {
          "output_type": "stream",
          "name": "stdout",
          "text": [
            "  Welcome  This is a  test  string.  \n"
          ]
        }
      ]
    },
    {
      "cell_type": "code",
      "source": [
        "#Extract Dates\n",
        "date_text = \"Important dates: 29-06-2025, 01/01/2024, and 2024.12.31.\"\n",
        "print(re.findall(r'\\b\\d{2}[-/.]\\d{2}[-/.]\\d{4}\\b|\\b\\d{4}[-/.]\\d{2}[-/.]\\d{2}\\b',date_text))\n"
      ],
      "metadata": {
        "id": "ikh_I_yCihYE",
        "outputId": "f1385ec5-39f5-418b-fbaf-38553247f0bc",
        "colab": {
          "base_uri": "https://localhost:8080/"
        }
      },
      "execution_count": null,
      "outputs": [
        {
          "output_type": "stream",
          "name": "stdout",
          "text": [
            "['29-06-2025', '01/01/2024', '2024.12.31']\n"
          ]
        }
      ]
    },
    {
      "cell_type": "code",
      "source": [
        "#Validate Dataset of User Info\n",
        "users = [\n",
        "    {\"email\": \"user1@gmail.com\", \"phone\": \"01012345678\", \"password\": \"Strong123\"},\n",
        "    {\"email\": \"fakeemail.com\", \"phone\": \"01600000000\", \"password\": \"weak\"},\n",
        "    {\"email\": \"name@domain.co\", \"phone\": \"01298765432\", \"password\": \"Pass1234\"},\n",
        "]\n",
        "\n",
        "\n",
        "email = r'^[\\w\\.-]+@[\\w\\.-]+\\.\\w+$'\n",
        "phone = r'^(010|011|012|015)\\d{8}$'\n",
        "password = r'^(?=.*[A-Za-z])(?=.*\\d).{8,}$'  # 8+ chars, letters & digits\n",
        "\n",
        "for u in users:\n",
        "    e = bool(re.fullmatch(email, u[\"email\"]))\n",
        "    p = bool(re.fullmatch(phone, u[\"phone\"]))\n",
        "    pw = bool(re.fullmatch(password, u[\"password\"]))\n",
        "    print(f\"{u['email']}: Email={e}, Phone={p}, Password={pw}\")\n"
      ],
      "metadata": {
        "id": "RGbzGfrfimjv",
        "outputId": "4d6b6923-d386-4485-f985-d78ed2099a9e",
        "colab": {
          "base_uri": "https://localhost:8080/"
        }
      },
      "execution_count": null,
      "outputs": [
        {
          "output_type": "stream",
          "name": "stdout",
          "text": [
            "user1@gmail.com: Email=True, Phone=True, Password=True\n",
            "fakeemail.com: Email=False, Phone=False, Password=False\n",
            "name@domain.co: Email=True, Phone=True, Password=True\n"
          ]
        }
      ]
    },
    {
      "cell_type": "code",
      "source": [],
      "metadata": {
        "id": "pwhIdXU7W1m1"
      },
      "execution_count": null,
      "outputs": []
    }
  ]
}