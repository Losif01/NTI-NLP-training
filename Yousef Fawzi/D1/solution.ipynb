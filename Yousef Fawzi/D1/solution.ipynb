{
 "cells": [
  {
   "cell_type": "code",
   "execution_count": 1,
   "id": "0974438b",
   "metadata": {},
   "outputs": [
    {
     "name": "stdout",
     "output_type": "stream",
     "text": [
      "Lowercase Words: ['email', 'is', 'john', 'doe', 'example', 'com', 'and', 'my', 'alternate', 'is', 'company', 'co', 'uk', 'was', 'born', 'on', 'and', 'my', 'sister', 'on', 'prices', 'are', 'and', 'me', 'at', 'or', 'user', 'admin', 'user']\n"
     ]
    }
   ],
   "source": [
    "import re\n",
    "\n",
    "sample_text = \"\"\"\n",
    "My email is john.doe@example.com and my alternate is jane_doe123@company.co.uk.\n",
    "I was born on 1996-05-14 and my sister on 2000/12/01.\n",
    "The prices are: $23.45, €56.00, and ¥1000.\n",
    "Call me at 010-12345678 or 01123456789. Office: 02-2345678.\n",
    "Usernames: _john, user.99, admin-user, $invalid_user\n",
    "Passwords: Pass123!, pass12, 12345678, Welcome@2025, weak_pass\n",
    "\"\"\"\n",
    "\n",
    "# Find all lowercase words (excluding numbers and special characters)\n",
    "lowercase_words = re.findall(r'\\b[a-z]+\\b', sample_text)\n",
    "print(\"Lowercase Words:\", lowercase_words)"
   ]
  },
  {
   "cell_type": "code",
   "execution_count": 2,
   "id": "c3bd0f12",
   "metadata": {},
   "outputs": [
    {
     "name": "stdout",
     "output_type": "stream",
     "text": [
      "3-Digit Numbers: ['123']\n"
     ]
    }
   ],
   "source": [
    "text = \"abc 1234 abcd 123 12\"\n",
    "three_digit_numbers = re.findall(r'\\b\\d{3}\\b', text)\n",
    "print(\"3-Digit Numbers:\", three_digit_numbers)"
   ]
  },
  {
   "cell_type": "code",
   "execution_count": 3,
   "id": "a087f7dc",
   "metadata": {},
   "outputs": [
    {
     "name": "stdout",
     "output_type": "stream",
     "text": [
      "Words Ending with 'c': ['Public', 'traffic', 'basic', 'logic', 'poetic']\n"
     ]
    }
   ],
   "source": [
    "sample_text_task2 = \"\"\"\n",
    "My email is john.doe@example.com and my alternate is jane_doe123@company.co.uk.\n",
    "I was born on 1996-05-14 and my sister on 2000/12/01.\n",
    "The prices are: $23.45, €56.00, and ¥1000.\n",
    "Public traffic is basic logic and poetic.\n",
    "Call me at 010-12345678 or 01123456789. Office: 02-2345678.\n",
    "\"\"\"\n",
    "\n",
    "words_ending_with_c = re.findall(r'\\b\\w+c\\b', sample_text_task2)\n",
    "print(\"Words Ending with 'c':\", words_ending_with_c)"
   ]
  },
  {
   "cell_type": "code",
   "execution_count": 4,
   "id": "ae394675",
   "metadata": {},
   "outputs": [
    {
     "name": "stdout",
     "output_type": "stream",
     "text": [
      "2-Digit Numbers: ['05', '14', '12', '01', '23', '45', '56', '00', '02']\n"
     ]
    }
   ],
   "source": [
    "two_digit_numbers = re.findall(r'\\b\\d{2}\\b', sample_text_task2)\n",
    "print(\"2-Digit Numbers:\", two_digit_numbers)"
   ]
  },
  {
   "cell_type": "code",
   "execution_count": 5,
   "id": "7460af6f",
   "metadata": {},
   "outputs": [
    {
     "name": "stdout",
     "output_type": "stream",
     "text": [
      "Car or Cat: ['car', 'cat', 'car', 'car', 'Cat']\n"
     ]
    }
   ],
   "source": [
    "sample_text_task3 = \"\"\"\n",
    "I saw a car and a cat in the cartoon.\n",
    "The racecar was fast. Cats are agile.\n",
    "She laughed: hahaha, ha haaaa hahahahaha!\n",
    "\"\"\"\n",
    "\n",
    "car_or_cat = re.findall(r'car|cat', sample_text_task3, re.IGNORECASE)\n",
    "print(\"Car or Cat:\", car_or_cat)"
   ]
  },
  {
   "cell_type": "code",
   "execution_count": 6,
   "id": "b6258616",
   "metadata": {},
   "outputs": [
    {
     "name": "stdout",
     "output_type": "stream",
     "text": [
      "Words with 'ha' Repeated: ['ha', 'ha']\n"
     ]
    }
   ],
   "source": [
    "ha_repeated_words = re.findall(r'(ha){2,}', sample_text_task3, re.IGNORECASE)\n",
    "print(\"Words with 'ha' Repeated:\", ha_repeated_words)"
   ]
  },
  {
   "cell_type": "code",
   "execution_count": 7,
   "id": "6e4c2338",
   "metadata": {},
   "outputs": [
    {
     "name": "stdout",
     "output_type": "stream",
     "text": [
      "Emails: ['john.doe@example.com', 'jane_doe123@company.co.uk']\n"
     ]
    }
   ],
   "source": [
    "emails = re.findall(r'\\b[\\w.-]+@[\\w.-]+\\.\\w+\\b', sample_text)\n",
    "print(\"Emails:\", emails)"
   ]
  },
  {
   "cell_type": "code",
   "execution_count": 8,
   "id": "6951123a",
   "metadata": {},
   "outputs": [
    {
     "name": "stdout",
     "output_type": "stream",
     "text": [
      "Egyptian Mobiles: ['011']\n"
     ]
    }
   ],
   "source": [
    "egyptian_mobiles = re.findall(r'\\b(010|011|012|015)\\d{8}\\b', sample_text)\n",
    "print(\"Egyptian Mobiles:\", egyptian_mobiles)"
   ]
  },
  {
   "cell_type": "code",
   "execution_count": 9,
   "id": "b6dc4414",
   "metadata": {},
   "outputs": [
    {
     "name": "stdout",
     "output_type": "stream",
     "text": [
      "Cleaned Text: Hello there My number is 0123456789 I paid 5099 for item 1234\n",
      "Wow thats crazy right\n"
     ]
    }
   ],
   "source": [
    "sample_text_task5 = \"\"\"\n",
    "Hello there! My number is 012-345-6789. I paid $50.99 for item #1234.\n",
    "Wow... that's crazy, right?\n",
    "\"\"\"\n",
    "\n",
    "cleaned_text = re.sub(r'[^\\w\\s]', '', sample_text_task5)\n",
    "print(\"Cleaned Text:\", cleaned_text.strip())"
   ]
  },
  {
   "cell_type": "code",
   "execution_count": 10,
   "id": "85d4ae32",
   "metadata": {},
   "outputs": [
    {
     "name": "stdout",
     "output_type": "stream",
     "text": [
      "Masked Digits: Hello there! My number is ***-***-****. I paid $**.** for item #****.\n",
      "Wow... that's crazy, right?\n"
     ]
    }
   ],
   "source": [
    "masked_digits = re.sub(r'\\d', '*', sample_text_task5)\n",
    "print(\"Masked Digits:\", masked_digits.strip())"
   ]
  },
  {
   "cell_type": "code",
   "execution_count": 11,
   "id": "478e17d5",
   "metadata": {},
   "outputs": [
    {
     "name": "stdout",
     "output_type": "stream",
     "text": [
      "\n",
      "Validating emails:\n",
      "john.doe@gmail.com -> valid\n",
      "invalid-email@ -> invalid\n",
      "hello@site -> invalid\n",
      "test@company.org -> valid\n",
      "\n",
      "Validating phones:\n",
      "01012345678 -> valid\n",
      "01123456789 -> valid\n",
      "0133456789 -> invalid\n",
      "01234 -> invalid\n",
      "01599999999 -> valid\n",
      "\n",
      "Validating passwords:\n",
      "Pass123! -> valid\n",
      "123456 -> invalid\n",
      "abcdefg -> invalid\n",
      "Welcome@2024 -> valid\n",
      "weak_pass -> invalid\n"
     ]
    }
   ],
   "source": [
    "import re\n",
    "\n",
    "data = {\n",
    "    \"emails\": [\n",
    "        \"john.doe@gmail.com\", \"invalid-email@\", \"hello@site\", \"test@company.org\"\n",
    "    ],\n",
    "    \"phones\": [\n",
    "        \"01012345678\", \"01123456789\", \"0133456789\", \"01234\", \"01599999999\"\n",
    "    ],\n",
    "    \"passwords\": [\n",
    "        \"Pass123!\", \"123456\", \"abcdefg\", \"Welcome@2024\", \"weak_pass\"\n",
    "    ]\n",
    "}\n",
    "\n",
    "# Email pattern: valid email address\n",
    "email_pattern = r'^[\\w.-]+@[\\w.-]+\\.\\w+$'\n",
    "\n",
    "# Phone pattern: Egyptian mobile (starts with 010, 011, 012, 015 and has 11 digits)\n",
    "phone_pattern = r'^(010|011|012|015)\\d{8}$'\n",
    "\n",
    "# Password pattern: At least 8 chars, one uppercase, one lowercase, one digit\n",
    "password_pattern = re.compile(r\"\"\"\n",
    "    ^(?=.*[A-Z])     # at least one uppercase\n",
    "    (?=.*[a-z])     # at least one lowercase\n",
    "    (?=.*\\d)        # at least one digit\n",
    "    .{8,}           # minimum 8 chars\n",
    "    $\"\"\", re.VERBOSE)\n",
    "\n",
    "def validate(pattern, value):\n",
    "    if isinstance(pattern, re.Pattern):\n",
    "        return bool(pattern.match(value))\n",
    "    else:\n",
    "        return bool(re.match(pattern, value))\n",
    "\n",
    "for key, values in data.items():\n",
    "    print(f\"\\nValidating {key}:\")\n",
    "    for val in values:\n",
    "        if key == \"emails\":\n",
    "            result = validate(email_pattern, val)\n",
    "        elif key == \"phones\":\n",
    "            result = validate(phone_pattern, val)\n",
    "        elif key == \"passwords\":\n",
    "            result = validate(password_pattern, val)\n",
    "        status = \"valid\" if result else \"invalid\"\n",
    "        print(f\"{val} -> {status}\")"
   ]
  }
 ],
 "metadata": {
  "kernelspec": {
   "display_name": "Python 3",
   "language": "python",
   "name": "python3"
  },
  "language_info": {
   "codemirror_mode": {
    "name": "ipython",
    "version": 3
   },
   "file_extension": ".py",
   "mimetype": "text/x-python",
   "name": "python",
   "nbconvert_exporter": "python",
   "pygments_lexer": "ipython3",
   "version": "3.13.3"
  }
 },
 "nbformat": 4,
 "nbformat_minor": 5
}
