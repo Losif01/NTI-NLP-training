{
 "cells": [
  {
   "cell_type": "code",
   "execution_count": 1,
   "id": "ddb8555f",
   "metadata": {},
   "outputs": [
    {
     "data": {
      "application/vnd.microsoft.datawrangler.viewer.v0+json": {
       "columns": [
        {
         "name": "index",
         "rawType": "int64",
         "type": "integer"
        },
        {
         "name": "product_name",
         "rawType": "object",
         "type": "string"
        },
        {
         "name": "product_price",
         "rawType": "object",
         "type": "string"
        },
        {
         "name": "Rate",
         "rawType": "object",
         "type": "string"
        },
        {
         "name": "Review",
         "rawType": "object",
         "type": "unknown"
        },
        {
         "name": "Summary",
         "rawType": "object",
         "type": "unknown"
        },
        {
         "name": "Sentiment",
         "rawType": "object",
         "type": "string"
        }
       ],
       "ref": "3fa1f13b-d97f-4abf-8696-0074a9d88fc6",
       "rows": [
        [
         "0",
         "Candes 12 L Room/Personal Air Cooler??????(White, Black, Elegant High Speed-Honey Comb Cooling Pad & Ice Chamber, Blower)",
         "3999",
         "5",
         "super!",
         "great cooler excellent air flow and for this price its so amazing and unbelievablejust love it",
         "positive"
        ],
        [
         "1",
         "Candes 12 L Room/Personal Air Cooler??????(White, Black, Elegant High Speed-Honey Comb Cooling Pad & Ice Chamber, Blower)",
         "3999",
         "5",
         "awesome",
         "best budget 2 fit cooler nice cooling",
         "positive"
        ],
        [
         "2",
         "Candes 12 L Room/Personal Air Cooler??????(White, Black, Elegant High Speed-Honey Comb Cooling Pad & Ice Chamber, Blower)",
         "3999",
         "3",
         "fair",
         "the quality is good but the power of air is decent",
         "positive"
        ],
        [
         "3",
         "Candes 12 L Room/Personal Air Cooler??????(White, Black, Elegant High Speed-Honey Comb Cooling Pad & Ice Chamber, Blower)",
         "3999",
         "1",
         "useless product",
         "very bad product its a only a fan",
         "negative"
        ],
        [
         "4",
         "Candes 12 L Room/Personal Air Cooler??????(White, Black, Elegant High Speed-Honey Comb Cooling Pad & Ice Chamber, Blower)",
         "3999",
         "3",
         "fair",
         "ok ok product",
         "neutral"
        ],
        [
         "5",
         "Candes 12 L Room/Personal Air Cooler??????(White, Black, Elegant High Speed-Honey Comb Cooling Pad & Ice Chamber, Blower)",
         "3999",
         "5",
         "awesome",
         "the cooler is really fantastic and provides good air flow highly recommended",
         "positive"
        ],
        [
         "6",
         "Candes 12 L Room/Personal Air Cooler??????(White, Black, Elegant High Speed-Honey Comb Cooling Pad & Ice Chamber, Blower)",
         "3999",
         "5",
         "highly recommended",
         "very good product",
         "positive"
        ],
        [
         "7",
         "Candes 12 L Room/Personal Air Cooler??????(White, Black, Elegant High Speed-Honey Comb Cooling Pad & Ice Chamber, Blower)",
         "3999",
         "3",
         "nice",
         "very nice",
         "positive"
        ],
        [
         "8",
         "Candes 12 L Room/Personal Air Cooler??????(White, Black, Elegant High Speed-Honey Comb Cooling Pad & Ice Chamber, Blower)",
         "3999",
         "1",
         "unsatisfactory",
         "very bad cooler",
         "negative"
        ],
        [
         "9",
         "Candes 12 L Room/Personal Air Cooler??????(White, Black, Elegant High Speed-Honey Comb Cooling Pad & Ice Chamber, Blower)",
         "3999",
         "4",
         "worth the money",
         "very good",
         "positive"
        ],
        [
         "10",
         "Candes 60 L Room/Personal Air Cooler??????(White, Black, CRETA)",
         "8999",
         "5",
         "great product",
         "beautiful product good material and perfectly working",
         "positive"
        ],
        [
         "11",
         "Candes 60 L Room/Personal Air Cooler??????(White, Black, CRETA)",
         "8999",
         "5",
         "mind-blowing purchase",
         "awesome",
         "positive"
        ],
        [
         "12",
         "Candes 60 L Room/Personal Air Cooler??????(White, Black, CRETA)",
         "8999",
         "5",
         "highly recommended",
         "good",
         "positive"
        ],
        [
         "13",
         "Candes 60 L Room/Personal Air Cooler??????(White, Black, CRETA)",
         "8999",
         "5",
         "brilliant",
         "wonderful product must buy",
         "positive"
        ],
        [
         "14",
         "Candes 60 L Room/Personal Air Cooler??????(White, Black, CRETA)",
         "8999",
         "5",
         "classy product",
         "nice air cooler smart cool breeze producer",
         "positive"
        ],
        [
         "15",
         "Candes 60 L Room/Personal Air Cooler??????(White, Black, CRETA)",
         "8999",
         "5",
         "must buy!",
         "awsm",
         "positive"
        ],
        [
         "16",
         "Candes 60 L Room/Personal Air Cooler??????(White, Black, CRETA)",
         "8999",
         "5",
         "fabulous!",
         "nice product",
         "positive"
        ],
        [
         "17",
         "Candes 60 L Room/Personal Air Cooler??????(White, Black, CRETA)",
         "8999",
         "5",
         "worth every penny",
         "great cooler",
         "positive"
        ],
        [
         "18",
         "Candes 60 L Room/Personal Air Cooler??????(White, Black, CRETA)",
         "8999",
         "5",
         "super!",
         "nice product",
         "positive"
        ],
        [
         "19",
         "Candes 60 L Room/Personal Air Cooler??????(White, Black, CRETA)",
         "8999",
         "5",
         "great product",
         "good",
         "positive"
        ],
        [
         "20",
         "Candes 60 L Room/Personal Air Cooler??????(White, Black, CRETA)",
         "8999",
         "5",
         "awesome",
         "very nice product",
         "positive"
        ],
        [
         "21",
         "Candes 60 L Room/Personal Air Cooler??????(White, Black, CRETA)",
         "8999",
         "5",
         "worth every penny",
         "good product",
         "positive"
        ],
        [
         "22",
         "Candes 60 L Room/Personal Air Cooler??????(White, Black, CRETA)",
         "8999",
         "5",
         "just wow!",
         "nice product with the reasonable price",
         "positive"
        ],
        [
         "23",
         "Candes 60 L Room/Personal Air Cooler??????(White, Black, CRETA)",
         "8999",
         "5",
         "awesome",
         "i like it",
         "positive"
        ],
        [
         "24",
         "Candes 60 L Room/Personal Air Cooler??????(White, Black, CRETA)",
         "8999",
         "5",
         "terrific purchase",
         "very goodd",
         "positive"
        ],
        [
         "25",
         "Candes 60 L Room/Personal Air Cooler??????(White, Black, CRETA)",
         "8999",
         "5",
         "excellent",
         "good product",
         "positive"
        ],
        [
         "26",
         "Candes 60 L Room/Personal Air Cooler??????(White, Black, CRETA)",
         "8999",
         "5",
         "worth every penny",
         "good product kawaleti",
         "positive"
        ],
        [
         "27",
         "Candes 60 L Room/Personal Air Cooler??????(White, Black, CRETA)",
         "8999",
         "5",
         "terrific",
         "very good cooler amazing beautiful designs affordable price",
         "positive"
        ],
        [
         "28",
         "Candes 60 L Room/Personal Air Cooler??????(White, Black, CRETA)",
         "8999",
         "5",
         "awesome",
         "using since 3months great experience",
         "positive"
        ],
        [
         "29",
         "Candes 60 L Room/Personal Air Cooler??????(White, Black, CRETA)",
         "8999",
         "5",
         "simply awesome",
         "very good performance and nice look",
         "positive"
        ],
        [
         "30",
         "Candes 60 L Room/Personal Air Cooler??????(White, Black, CRETA)",
         "8999",
         "4",
         "wonderful",
         "product is good having strong thrust of air flow must buy",
         "positive"
        ],
        [
         "31",
         "Candes 60 L Room/Personal Air Cooler??????(White, Black, CRETA)",
         "8999",
         "5",
         "terrific",
         "very good",
         "positive"
        ],
        [
         "32",
         "Candes 60 L Room/Personal Air Cooler??????(White, Black, CRETA)",
         "8999",
         "2",
         "expected a better product",
         "bad quality",
         "negative"
        ],
        [
         "33",
         "Candes 60 L Room/Personal Air Cooler??????(White, Black, CRETA)",
         "8999",
         "5",
         "excellent",
         "very nice product",
         "positive"
        ],
        [
         "34",
         "Candes 60 L Room/Personal Air Cooler??????(White, Black, CRETA)",
         "8999",
         "5",
         "terrific purchase",
         "very soundless product and low price other company",
         "positive"
        ],
        [
         "35",
         "Candes 60 L Room/Personal Air Cooler??????(White, Black, CRETA)",
         "8999",
         "5",
         "wonderful",
         "nice",
         "positive"
        ],
        [
         "36",
         "MAHARAJA WHITELINE 65 L Desert Air Cooler??????(White, Grey, Rambo Grey / AC-303)",
         "7999",
         "5",
         "wonderful",
         "the best poduct that i bought from flifkart it works superb like ac and price is also reasonable only rs 8698",
         "positive"
        ],
        [
         "37",
         "MAHARAJA WHITELINE 65 L Desert Air Cooler??????(White, Grey, Rambo Grey / AC-303)",
         "7999",
         "4",
         "good quality product",
         "cooler is big and wide maharaja brand trust y every thing is good about cooler create less noise only thing is that its motor is not powerful even in high speed rest all things are good but yes for one middle size room it is ok",
         "positive"
        ],
        [
         "38",
         "MAHARAJA WHITELINE 65 L Desert Air Cooler??????(White, Grey, Rambo Grey / AC-303)",
         "7999",
         "5",
         "awesome",
         "it is one of the best air coolers at reasonable price have ever seen but the ventilation of the room is must for proper cooling but the size is quite big it will i hope create a space problem during off seasons the air supply is very good and its one of the essential part of the air cooler with the wool wood pads which helps to make super cooling afterall thank you maharaja company to make such a product in affordable and reasonable price",
         "positive"
        ],
        [
         "39",
         "MAHARAJA WHITELINE 65 L Desert Air Cooler??????(White, Grey, Rambo Grey / AC-303)",
         "7999",
         "5",
         "excellent",
         "awesome air cooleri was looking for a cooler under this range and this has fulfilled my requirement this has the following features1 great air through the capacity of 5000 m3hr 2 comes with a large 65litre tank which can run overnight with ease3 great built that is a shockproof and reliable material4 you have to stop this beast at night because it has that massive cooling capabilityone small concern is mine and it is for sure that it is not a dealbreaker that it produces s",
         "positive"
        ],
        [
         "40",
         "MAHARAJA WHITELINE 65 L Desert Air Cooler??????(White, Grey, Rambo Grey / AC-303)",
         "7999",
         "5",
         "great product",
         "purchased after a lot of discussions and reviews i would say this the best which gives you the comfort needed best to for with no 2nd thoughts nice cooling low noise hope this should be energy efficient and used for a long run",
         "positive"
        ],
        [
         "41",
         "MAHARAJA WHITELINE 65 L Desert Air Cooler??????(White, Grey, Rambo Grey / AC-303)",
         "7999",
         "5",
         "highly recommended",
         "very nice cooler cooling is very good there is no noise i reviewed a lot then only i purchased it if you want effective cooling you have to set it up at a window where there is cross ventilation without cross ventilation it will make environment humid lookwise it is very nice and material is strong",
         "positive"
        ],
        [
         "42",
         "MAHARAJA WHITELINE 65 L Desert Air Cooler??????(White, Grey, Rambo Grey / AC-303)",
         "7999",
         "5",
         "awesome",
         "feedback given after using one week the cooler is amazing its making the whole room cooling you should install the cooler near to your windows the delivery was on time as well the delivery boy also very supportive",
         "positive"
        ],
        [
         "43",
         "MAHARAJA WHITELINE 65 L Desert Air Cooler??????(White, Grey, Rambo Grey / AC-303)",
         "7999",
         "3",
         "decent product",
         "great deal 65 l quite big tank sufficient cooling for one medium size room 3 modes works well best in this range",
         "positive"
        ],
        [
         "44",
         "MAHARAJA WHITELINE 65 L Desert Air Cooler??????(White, Grey, Rambo Grey / AC-303)",
         "7999",
         "5",
         "fabulous!",
         "i bought this cooler on heavy discount by flipkart cooler is build of good quality material it has a fast fan with powerfull motor pump air quality is excellent even for a big room a must buy value for money product",
         "positive"
        ],
        [
         "45",
         "MAHARAJA WHITELINE 65 L Desert Air Cooler??????(White, Grey, Rambo Grey / AC-303)",
         "7999",
         "3",
         "very satisfactory",
         "the good things1 very well packed good amount of thermocols to protect from transport damages2 sturdy body3 relatively less noise as compared to bajaj cooler i had earlierwish this was betterfor many purposes it is necessary to open cooler body opening the body of cooler is not very intuitive common consumers may not even attempt for fear of damaging something 1 easy opening of side frames to change pads or clean the water inlets2 water balloon used to cut water supply au",
         "positive"
        ],
        [
         "46",
         "MAHARAJA WHITELINE 65 L Desert Air Cooler??????(White, Grey, Rambo Grey / AC-303)",
         "7999",
         "4",
         "good quality product",
         "excellent producthappy with resultnice air flowosm cooling",
         "positive"
        ],
        [
         "47",
         "MAHARAJA WHITELINE 65 L Desert Air Cooler??????(White, Grey, Rambo Grey / AC-303)",
         "7999",
         "5",
         "mind-blowing purchase",
         "cooler works fine and it is inverter friendly",
         "positive"
        ],
        [
         "48",
         "MAHARAJA WHITELINE 65 L Desert Air Cooler??????(White, Grey, Rambo Grey / AC-303)",
         "7999",
         "1",
         "waste of money!",
         "small wire and moter capacity is very low fan speed was not good out flow vent hole is above the lower part of cooler its very difficult to change water",
         "negative"
        ],
        [
         "49",
         "MAHARAJA WHITELINE 65 L Desert Air Cooler??????(White, Grey, Rambo Grey / AC-303)",
         "7999",
         "5",
         "must buy!",
         "perfect product for large size room",
         "positive"
        ]
       ],
       "shape": {
        "columns": 6,
        "rows": 205052
       }
      },
      "text/html": [
       "<div>\n",
       "<style scoped>\n",
       "    .dataframe tbody tr th:only-of-type {\n",
       "        vertical-align: middle;\n",
       "    }\n",
       "\n",
       "    .dataframe tbody tr th {\n",
       "        vertical-align: top;\n",
       "    }\n",
       "\n",
       "    .dataframe thead th {\n",
       "        text-align: right;\n",
       "    }\n",
       "</style>\n",
       "<table border=\"1\" class=\"dataframe\">\n",
       "  <thead>\n",
       "    <tr style=\"text-align: right;\">\n",
       "      <th></th>\n",
       "      <th>product_name</th>\n",
       "      <th>product_price</th>\n",
       "      <th>Rate</th>\n",
       "      <th>Review</th>\n",
       "      <th>Summary</th>\n",
       "      <th>Sentiment</th>\n",
       "    </tr>\n",
       "  </thead>\n",
       "  <tbody>\n",
       "    <tr>\n",
       "      <th>0</th>\n",
       "      <td>Candes 12 L Room/Personal Air Cooler??????(Whi...</td>\n",
       "      <td>3999</td>\n",
       "      <td>5</td>\n",
       "      <td>super!</td>\n",
       "      <td>great cooler excellent air flow and for this p...</td>\n",
       "      <td>positive</td>\n",
       "    </tr>\n",
       "    <tr>\n",
       "      <th>1</th>\n",
       "      <td>Candes 12 L Room/Personal Air Cooler??????(Whi...</td>\n",
       "      <td>3999</td>\n",
       "      <td>5</td>\n",
       "      <td>awesome</td>\n",
       "      <td>best budget 2 fit cooler nice cooling</td>\n",
       "      <td>positive</td>\n",
       "    </tr>\n",
       "    <tr>\n",
       "      <th>2</th>\n",
       "      <td>Candes 12 L Room/Personal Air Cooler??????(Whi...</td>\n",
       "      <td>3999</td>\n",
       "      <td>3</td>\n",
       "      <td>fair</td>\n",
       "      <td>the quality is good but the power of air is de...</td>\n",
       "      <td>positive</td>\n",
       "    </tr>\n",
       "    <tr>\n",
       "      <th>3</th>\n",
       "      <td>Candes 12 L Room/Personal Air Cooler??????(Whi...</td>\n",
       "      <td>3999</td>\n",
       "      <td>1</td>\n",
       "      <td>useless product</td>\n",
       "      <td>very bad product its a only a fan</td>\n",
       "      <td>negative</td>\n",
       "    </tr>\n",
       "    <tr>\n",
       "      <th>4</th>\n",
       "      <td>Candes 12 L Room/Personal Air Cooler??????(Whi...</td>\n",
       "      <td>3999</td>\n",
       "      <td>3</td>\n",
       "      <td>fair</td>\n",
       "      <td>ok ok product</td>\n",
       "      <td>neutral</td>\n",
       "    </tr>\n",
       "    <tr>\n",
       "      <th>...</th>\n",
       "      <td>...</td>\n",
       "      <td>...</td>\n",
       "      <td>...</td>\n",
       "      <td>...</td>\n",
       "      <td>...</td>\n",
       "      <td>...</td>\n",
       "    </tr>\n",
       "    <tr>\n",
       "      <th>205047</th>\n",
       "      <td>cello Pack of 18 Opalware Cello Dazzle Lush Fi...</td>\n",
       "      <td>1299</td>\n",
       "      <td>5</td>\n",
       "      <td>must buy!</td>\n",
       "      <td>good product</td>\n",
       "      <td>positive</td>\n",
       "    </tr>\n",
       "    <tr>\n",
       "      <th>205048</th>\n",
       "      <td>cello Pack of 18 Opalware Cello Dazzle Lush Fi...</td>\n",
       "      <td>1299</td>\n",
       "      <td>5</td>\n",
       "      <td>super!</td>\n",
       "      <td>nice</td>\n",
       "      <td>positive</td>\n",
       "    </tr>\n",
       "    <tr>\n",
       "      <th>205049</th>\n",
       "      <td>cello Pack of 18 Opalware Cello Dazzle Lush Fi...</td>\n",
       "      <td>1299</td>\n",
       "      <td>3</td>\n",
       "      <td>nice</td>\n",
       "      <td>very nice and fast delivery</td>\n",
       "      <td>positive</td>\n",
       "    </tr>\n",
       "    <tr>\n",
       "      <th>205050</th>\n",
       "      <td>cello Pack of 18 Opalware Cello Dazzle Lush Fi...</td>\n",
       "      <td>1299</td>\n",
       "      <td>5</td>\n",
       "      <td>just wow!</td>\n",
       "      <td>awesome product</td>\n",
       "      <td>positive</td>\n",
       "    </tr>\n",
       "    <tr>\n",
       "      <th>205051</th>\n",
       "      <td>cello Pack of 18 Opalware Cello Dazzle Lush Fi...</td>\n",
       "      <td>1299</td>\n",
       "      <td>4</td>\n",
       "      <td>value-for-money</td>\n",
       "      <td>very good but mixing bowl not included is one ...</td>\n",
       "      <td>neutral</td>\n",
       "    </tr>\n",
       "  </tbody>\n",
       "</table>\n",
       "<p>205052 rows × 6 columns</p>\n",
       "</div>"
      ],
      "text/plain": [
       "                                             product_name product_price Rate  \\\n",
       "0       Candes 12 L Room/Personal Air Cooler??????(Whi...          3999    5   \n",
       "1       Candes 12 L Room/Personal Air Cooler??????(Whi...          3999    5   \n",
       "2       Candes 12 L Room/Personal Air Cooler??????(Whi...          3999    3   \n",
       "3       Candes 12 L Room/Personal Air Cooler??????(Whi...          3999    1   \n",
       "4       Candes 12 L Room/Personal Air Cooler??????(Whi...          3999    3   \n",
       "...                                                   ...           ...  ...   \n",
       "205047  cello Pack of 18 Opalware Cello Dazzle Lush Fi...          1299    5   \n",
       "205048  cello Pack of 18 Opalware Cello Dazzle Lush Fi...          1299    5   \n",
       "205049  cello Pack of 18 Opalware Cello Dazzle Lush Fi...          1299    3   \n",
       "205050  cello Pack of 18 Opalware Cello Dazzle Lush Fi...          1299    5   \n",
       "205051  cello Pack of 18 Opalware Cello Dazzle Lush Fi...          1299    4   \n",
       "\n",
       "                 Review                                            Summary  \\\n",
       "0                super!  great cooler excellent air flow and for this p...   \n",
       "1               awesome              best budget 2 fit cooler nice cooling   \n",
       "2                  fair  the quality is good but the power of air is de...   \n",
       "3       useless product                  very bad product its a only a fan   \n",
       "4                  fair                                      ok ok product   \n",
       "...                 ...                                                ...   \n",
       "205047        must buy!                                       good product   \n",
       "205048           super!                                               nice   \n",
       "205049             nice                        very nice and fast delivery   \n",
       "205050        just wow!                                    awesome product   \n",
       "205051  value-for-money  very good but mixing bowl not included is one ...   \n",
       "\n",
       "       Sentiment  \n",
       "0       positive  \n",
       "1       positive  \n",
       "2       positive  \n",
       "3       negative  \n",
       "4        neutral  \n",
       "...          ...  \n",
       "205047  positive  \n",
       "205048  positive  \n",
       "205049  positive  \n",
       "205050  positive  \n",
       "205051   neutral  \n",
       "\n",
       "[205052 rows x 6 columns]"
      ]
     },
     "execution_count": 1,
     "metadata": {},
     "output_type": "execute_result"
    }
   ],
   "source": [
    "import pandas as pd\n",
    "\n",
    "df = pd.read_csv(\"Dataset-SA.csv\")\n",
    "df"
   ]
  },
  {
   "cell_type": "code",
   "execution_count": 2,
   "id": "76ce8386",
   "metadata": {},
   "outputs": [
    {
     "name": "stderr",
     "output_type": "stream",
     "text": [
      "[nltk_data] Downloading package stopwords to\n",
      "[nltk_data]     /home/skillissue/nltk_data...\n",
      "[nltk_data]   Package stopwords is already up-to-date!\n",
      "[nltk_data] Downloading package wordnet to\n",
      "[nltk_data]     /home/skillissue/nltk_data...\n",
      "[nltk_data]   Package wordnet is already up-to-date!\n",
      "[nltk_data] Downloading package omw-1.4 to\n",
      "[nltk_data]     /home/skillissue/nltk_data...\n"
     ]
    }
   ],
   "source": [
    "import pandas as pd\n",
    "import re\n",
    "import string\n",
    "import numpy as np\n",
    "from nltk.corpus import stopwords\n",
    "from nltk.stem import PorterStemmer, WordNetLemmatizer\n",
    "from sklearn.feature_extraction.text import CountVectorizer\n",
    "from sklearn.metrics.pairwise import cosine_similarity\n",
    "import Levenshtein as lev\n",
    "import spacy\n",
    "\n",
    "# Download NLTK resources\n",
    "import nltk\n",
    "nltk.download('stopwords')\n",
    "nltk.download('wordnet')\n",
    "nltk.download('omw-1.4')\n",
    "\n",
    "# Load spaCy model for semantic similarity\n",
    "nlp = spacy.load(\"en_core_web_md\")\n",
    "\n",
    "# Initialize text processing tools\n",
    "stop_words = set(stopwords.words('english'))\n",
    "stemmer = PorterStemmer()\n",
    "lemmatizer = WordNetLemmatizer()\n",
    "\n",
    "# Text preprocessing function\n",
    "def preprocess_text(text, for_semantic=False):\n",
    "    if not isinstance(text, str):\n",
    "        return \"\"\n",
    "    \n",
    "    # Remove HTML tags\n",
    "    text = re.sub(r'<.*?>', '', text)\n",
    "    # Remove punctuation\n",
    "    text = text.translate(str.maketrans('', '', string.punctuation))\n",
    "    # Convert to lowercase\n",
    "    text = text.lower()\n",
    "    # Tokenize\n",
    "    tokens = text.split()\n",
    "    # Remove stopwords\n",
    "    tokens = [word for word in tokens if word not in stop_words]\n",
    "    \n",
    "    if for_semantic:\n",
    "        # Only lemmatization for semantic processing\n",
    "        tokens = [lemmatizer.lemmatize(word) for word in tokens]\n",
    "    else:\n",
    "        # Both lemmatization and stemming for other similarities\n",
    "        tokens = [lemmatizer.lemmatize(word) for word in tokens]\n",
    "        tokens = [stemmer.stem(word) for word in tokens]\n",
    "    \n",
    "    return \" \".join(tokens)\n",
    "\n",
    "# Apply preprocessing\n",
    "df['product_name_processed'] = df['product_name'].apply(preprocess_text)\n",
    "df['summary_processed'] = df['Summary'].apply(preprocess_text)\n",
    "df['product_name_semantic'] = df['product_name'].apply(lambda x: preprocess_text(x, for_semantic=True))\n",
    "df['summary_semantic'] = df['Summary'].apply(lambda x: preprocess_text(x, for_semantic=True))\n",
    "\n"
   ]
  },
  {
   "cell_type": "code",
   "execution_count": 3,
   "id": "af74bed7",
   "metadata": {},
   "outputs": [],
   "source": [
    "def jaccard_similarity(str1, str2):\n",
    "    set1 = set(str1.split())\n",
    "    set2 = set(str2.split())\n",
    "    intersection = set1 & set2\n",
    "    union = set1 | set2\n",
    "    return len(intersection) / len(union) if union else 0\n",
    "\n",
    "def cosine_sim(text1, text2):\n",
    "    vectorizer = CountVectorizer(tokenizer=lambda x: x.split(), token_pattern=None)\n",
    "    corpus = [text1, text2]\n",
    "    try:\n",
    "        vectors = vectorizer.fit_transform(corpus)\n",
    "        return cosine_similarity(vectors[0], vectors[1])[0][0]\n",
    "    except:\n",
    "        return 0.0\n",
    "\n",
    "def levenshtein_similarity(text1, text2):\n",
    "    max_len = max(len(text1), len(text2))\n",
    "    if max_len == 0:\n",
    "        return 1.0\n",
    "    distance = lev.distance(text1, text2)\n",
    "    return 1 - (distance / max_len)\n",
    "\n",
    "def semantic_similarity(text1, text2):\n",
    "    doc1 = nlp(text1)\n",
    "    doc2 = nlp(text2)\n",
    "    return doc1.similarity(doc2)\n",
    "\n"
   ]
  },
  {
   "cell_type": "code",
   "execution_count": null,
   "id": "abc152ac",
   "metadata": {},
   "outputs": [
    {
     "name": "stderr",
     "output_type": "stream",
     "text": [
      "/tmp/ipykernel_30835/3569091016.py:27: UserWarning: [W008] Evaluating Doc.similarity based on empty vectors.\n",
      "  return doc1.similarity(doc2)\n"
     ]
    }
   ],
   "source": [
    "# Calculate all similarities\n",
    "df['lexical_similarity'] = df.apply(\n",
    "    lambda x: jaccard_similarity(x['product_name_processed'], x['summary_processed']), axis=1)\n",
    "\n",
    "df['jaccard_similarity'] = df['lexical_similarity']  # same as lexical in this implementation\n",
    "\n",
    "df['cosine_similarity'] = df.apply(\n",
    "    lambda x: cosine_sim(x['product_name_processed'], x['summary_processed']), axis=1)\n",
    "\n",
    "df['levenshtein_similarity'] = df.apply(\n",
    "    lambda x: levenshtein_similarity(x['product_name_processed'], x['summary_processed']), axis=1)\n",
    "\n",
    "df['semantic_similarity'] = df.apply(\n",
    "    lambda x: semantic_similarity(x['product_name_semantic'], x['summary_semantic']), axis=1)\n",
    "\n"
   ]
  },
  {
   "cell_type": "code",
   "execution_count": null,
   "id": "7ae7f62a",
   "metadata": {},
   "outputs": [],
   "source": [
    "# Display results\n",
    "print(df[['product_name', 'Summary', \n",
    "          'lexical_similarity', 'semantic_similarity',\n",
    "          'jaccard_similarity', 'cosine_similarity',\n",
    "          'levenshtein_similarity']].head())"
   ]
  }
 ],
 "metadata": {
  "kernelspec": {
   "display_name": "Python 3",
   "language": "python",
   "name": "python3"
  },
  "language_info": {
   "codemirror_mode": {
    "name": "ipython",
    "version": 3
   },
   "file_extension": ".py",
   "mimetype": "text/x-python",
   "name": "python",
   "nbconvert_exporter": "python",
   "pygments_lexer": "ipython3",
   "version": "3.13.5"
  }
 },
 "nbformat": 4,
 "nbformat_minor": 5
}
