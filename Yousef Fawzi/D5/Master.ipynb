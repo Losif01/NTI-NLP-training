{
 "cells": [
  {
   "cell_type": "code",
   "execution_count": 1,
   "id": "13fec48a",
   "metadata": {},
   "outputs": [],
   "source": [
    "import pandas as pd \n",
    "import numpy as np\n",
    "df = pd.read_csv(\"BBCNews.csv\")"
   ]
  },
  {
   "cell_type": "code",
   "execution_count": 2,
   "id": "b4c290fb",
   "metadata": {},
   "outputs": [
    {
     "name": "stdout",
     "output_type": "stream",
     "text": [
      "   Unnamed: 0                                              descr  \\\n",
      "0           0  chelsea sack mutu  chelsea have sacked adrian ...   \n",
      "1           1  record fails to lift lacklustre meet  yelena i...   \n",
      "2           2  edu describes tunnel fracas  arsenals edu has ...   \n",
      "3           3  ogara revels in ireland victory  ireland flyha...   \n",
      "4           4  unclear future for striker baros  liverpool fo...   \n",
      "5           5  ronaldo considering new contract  manchester u...   \n",
      "6           6  dawson wins england squad recall  wasps scrumh...   \n",
      "7           7  man utd through after exeter test  manchester ...   \n",
      "8           8  barkley fit for match in ireland  england cent...   \n",
      "9           9  bristol city  milton keynes  leroy lita took h...   \n",
      "\n",
      "                                                tags  \n",
      "0  sports, stamford bridge, football association,...  \n",
      "1  sports, madrid, birmingham, france, scotland, ...  \n",
      "2  sports, derby, brazil, tunnel fracasedu, food,...  \n",
      "3  sports, bbc, united kingdom, ireland, brian o'...  \n",
      "4  sports, liverpool, daily sport, millennium sta...  \n",
      "5  sports, news of the world, portugal, cristiano...  \n",
      "6  sports, leeds, leicester, bath, newport, glouc...  \n",
      "7  sports, exeter city, exeter, scholes, tim howa...  \n",
      "8  sports, bath, gloucester, bell, united kingdom...  \n",
      "9  sports, bristol city, bell, chorley, richard j...  \n"
     ]
    }
   ],
   "source": [
    "print(df.head(10))"
   ]
  },
  {
   "cell_type": "code",
   "execution_count": 3,
   "id": "8319bd57",
   "metadata": {},
   "outputs": [
    {
     "data": {
      "application/vnd.microsoft.datawrangler.viewer.v0+json": {
       "columns": [
        {
         "name": "index",
         "rawType": "object",
         "type": "string"
        },
        {
         "name": "Unnamed: 0",
         "rawType": "float64",
         "type": "float"
        }
       ],
       "ref": "52ea623d-d225-4c49-8dc4-1cf2d03a295b",
       "rows": [
        [
         "count",
         "2410.0"
        ],
        [
         "mean",
         "1204.5"
        ],
        [
         "std",
         "695.8513969711254"
        ],
        [
         "min",
         "0.0"
        ],
        [
         "25%",
         "602.25"
        ],
        [
         "50%",
         "1204.5"
        ],
        [
         "75%",
         "1806.75"
        ],
        [
         "max",
         "2409.0"
        ]
       ],
       "shape": {
        "columns": 1,
        "rows": 8
       }
      },
      "text/html": [
       "<div>\n",
       "<style scoped>\n",
       "    .dataframe tbody tr th:only-of-type {\n",
       "        vertical-align: middle;\n",
       "    }\n",
       "\n",
       "    .dataframe tbody tr th {\n",
       "        vertical-align: top;\n",
       "    }\n",
       "\n",
       "    .dataframe thead th {\n",
       "        text-align: right;\n",
       "    }\n",
       "</style>\n",
       "<table border=\"1\" class=\"dataframe\">\n",
       "  <thead>\n",
       "    <tr style=\"text-align: right;\">\n",
       "      <th></th>\n",
       "      <th>Unnamed: 0</th>\n",
       "    </tr>\n",
       "  </thead>\n",
       "  <tbody>\n",
       "    <tr>\n",
       "      <th>count</th>\n",
       "      <td>2410.000000</td>\n",
       "    </tr>\n",
       "    <tr>\n",
       "      <th>mean</th>\n",
       "      <td>1204.500000</td>\n",
       "    </tr>\n",
       "    <tr>\n",
       "      <th>std</th>\n",
       "      <td>695.851397</td>\n",
       "    </tr>\n",
       "    <tr>\n",
       "      <th>min</th>\n",
       "      <td>0.000000</td>\n",
       "    </tr>\n",
       "    <tr>\n",
       "      <th>25%</th>\n",
       "      <td>602.250000</td>\n",
       "    </tr>\n",
       "    <tr>\n",
       "      <th>50%</th>\n",
       "      <td>1204.500000</td>\n",
       "    </tr>\n",
       "    <tr>\n",
       "      <th>75%</th>\n",
       "      <td>1806.750000</td>\n",
       "    </tr>\n",
       "    <tr>\n",
       "      <th>max</th>\n",
       "      <td>2409.000000</td>\n",
       "    </tr>\n",
       "  </tbody>\n",
       "</table>\n",
       "</div>"
      ],
      "text/plain": [
       "        Unnamed: 0\n",
       "count  2410.000000\n",
       "mean   1204.500000\n",
       "std     695.851397\n",
       "min       0.000000\n",
       "25%     602.250000\n",
       "50%    1204.500000\n",
       "75%    1806.750000\n",
       "max    2409.000000"
      ]
     },
     "execution_count": 3,
     "metadata": {},
     "output_type": "execute_result"
    }
   ],
   "source": [
    "df.describe()"
   ]
  },
  {
   "cell_type": "code",
   "execution_count": 4,
   "id": "fdbf31f6",
   "metadata": {},
   "outputs": [
    {
     "name": "stdout",
     "output_type": "stream",
     "text": [
      "<class 'pandas.core.frame.DataFrame'>\n",
      "RangeIndex: 2410 entries, 0 to 2409\n",
      "Data columns (total 3 columns):\n",
      " #   Column      Non-Null Count  Dtype \n",
      "---  ------      --------------  ----- \n",
      " 0   Unnamed: 0  2410 non-null   int64 \n",
      " 1   descr       2410 non-null   object\n",
      " 2   tags        2410 non-null   object\n",
      "dtypes: int64(1), object(2)\n",
      "memory usage: 56.6+ KB\n"
     ]
    }
   ],
   "source": [
    "df.info()"
   ]
  },
  {
   "cell_type": "code",
   "execution_count": 5,
   "id": "399537f7",
   "metadata": {},
   "outputs": [
    {
     "name": "stdout",
     "output_type": "stream",
     "text": [
      "                                               descr  \\\n",
      "0  chelsea sack mutu  chelsea have sacked adrian ...   \n",
      "1  record fails to lift lacklustre meet  yelena i...   \n",
      "2  edu describes tunnel fracas  arsenals edu has ...   \n",
      "3  ogara revels in ireland victory  ireland flyha...   \n",
      "4  unclear future for striker baros  liverpool fo...   \n",
      "\n",
      "                                                tags most_frequent_tag  \n",
      "0  sports, stamford bridge, football association,...            sports  \n",
      "1  sports, madrid, birmingham, france, scotland, ...     united states  \n",
      "2  sports, derby, brazil, tunnel fracasedu, food,...            sports  \n",
      "3  sports, bbc, united kingdom, ireland, brian o'...    united kingdom  \n",
      "4  sports, liverpool, daily sport, millennium sta...            sports  \n",
      "\n",
      "Number of new columns: 44\n"
     ]
    }
   ],
   "source": [
    "from collections import Counter\n",
    "\n",
    "# Step 1: Create a frequency dictionary of all tags\n",
    "all_tags = []\n",
    "for tags in df['tags']:\n",
    "    # Split tags by comma and strip whitespace\n",
    "    tag_list = [tag.strip() for tag in tags.split(',')]\n",
    "    all_tags.extend(tag_list)\n",
    "\n",
    "tag_freq = Counter(all_tags)\n",
    "\n",
    "# Step 2: Function to select the most frequent tag for a record\n",
    "def select_most_frequent_tag(tag_string, freq_dict):\n",
    "    tags_in_record = [tag.strip() for tag in tag_string.split(',')]\n",
    "    \n",
    "    # Find the maximum frequency in this record\n",
    "    max_freq = 0\n",
    "    selected_tag = None\n",
    "    \n",
    "    for tag in tags_in_record:\n",
    "        if tag in freq_dict and freq_dict[tag] > max_freq:\n",
    "            max_freq = freq_dict[tag]\n",
    "            selected_tag = tag\n",
    "    \n",
    "    return selected_tag if selected_tag else tags_in_record[0]  # Fallback to first tag\n",
    "\n",
    "# Step 3: Apply the function to create new column\n",
    "df['most_frequent_tag'] = df['tags'].apply(\n",
    "    lambda x: select_most_frequent_tag(x, tag_freq)\n",
    ")\n",
    "\n",
    "# Step 4: One-hot encode the selected tags\n",
    "one_hot_encoded = pd.get_dummies(df['most_frequent_tag'], prefix='tag')\n",
    "df = pd.concat([df, one_hot_encoded], axis=1)\n",
    "\n",
    "# Show results\n",
    "print(df[['descr', 'tags', 'most_frequent_tag']].head())\n",
    "print(f\"\\nNumber of new columns: {len(one_hot_encoded.columns)}\")"
   ]
  },
  {
   "cell_type": "code",
   "execution_count": null,
   "id": "1c20e902",
   "metadata": {},
   "outputs": [],
   "source": [
    "df"
   ]
  }
 ],
 "metadata": {
  "kernelspec": {
   "display_name": "Python 3",
   "language": "python",
   "name": "python3"
  },
  "language_info": {
   "codemirror_mode": {
    "name": "ipython",
    "version": 3
   },
   "file_extension": ".py",
   "mimetype": "text/x-python",
   "name": "python",
   "nbconvert_exporter": "python",
   "pygments_lexer": "ipython3",
   "version": "3.13.3"
  }
 },
 "nbformat": 4,
 "nbformat_minor": 5
}
