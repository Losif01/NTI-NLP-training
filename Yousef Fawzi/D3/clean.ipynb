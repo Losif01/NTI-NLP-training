{
 "cells": [
  {
   "cell_type": "code",
   "execution_count": 9,
   "id": "bfd289b3",
   "metadata": {},
   "outputs": [],
   "source": [
    "from IMDb_cleaner import IMDbPreprocessor\n",
    "obj = IMDbPreprocessor()\n",
    "X, y = obj.preprocess('IMDB Dataset.csv')"
   ]
  },
  {
   "cell_type": "code",
   "execution_count": 12,
   "id": "54c5b04f",
   "metadata": {},
   "outputs": [
    {
     "data": {
      "text/html": [
       "<pre style=\"white-space:pre;overflow-x:auto;line-height:normal;font-family:Menlo,'DejaVu Sans Mono',consolas,'Courier New',monospace\"><span style=\"font-weight: bold\">&lt;</span><span style=\"color: #ff00ff; text-decoration-color: #ff00ff; font-weight: bold\">class</span><span style=\"color: #000000; text-decoration-color: #000000\"> </span><span style=\"color: #008000; text-decoration-color: #008000\">'numpy.ndarray'</span><span style=\"font-weight: bold\">&gt;</span>\n",
       "</pre>\n"
      ],
      "text/plain": [
       "\u001b[1m<\u001b[0m\u001b[1;95mclass\u001b[0m\u001b[39m \u001b[0m\u001b[32m'numpy.ndarray'\u001b[0m\u001b[1m>\u001b[0m\n"
      ]
     },
     "metadata": {},
     "output_type": "display_data"
    }
   ],
   "source": [
    "from rich import print\n",
    "print (type(X))"
   ]
  },
  {
   "cell_type": "code",
   "execution_count": 13,
   "id": "7faba033",
   "metadata": {},
   "outputs": [
    {
     "data": {
      "text/html": [
       "<pre style=\"white-space:pre;overflow-x:auto;line-height:normal;font-family:Menlo,'DejaVu Sans Mono',consolas,'Courier New',monospace\"><span style=\"font-weight: bold\">[[</span><span style=\"color: #008080; text-decoration-color: #008080; font-weight: bold\">141</span> <span style=\"color: #008080; text-decoration-color: #008080; font-weight: bold\">142</span> <span style=\"color: #008080; text-decoration-color: #008080; font-weight: bold\">143</span> <span style=\"color: #808000; text-decoration-color: #808000\">...</span>   <span style=\"color: #008080; text-decoration-color: #008080; font-weight: bold\">0</span>   <span style=\"color: #008080; text-decoration-color: #008080; font-weight: bold\">0</span>   <span style=\"color: #008080; text-decoration-color: #008080; font-weight: bold\">0</span><span style=\"font-weight: bold\">]</span>\n",
       " <span style=\"font-weight: bold\">[</span><span style=\"color: #008080; text-decoration-color: #008080; font-weight: bold\">207</span> <span style=\"color: #008080; text-decoration-color: #008080; font-weight: bold\">141</span> <span style=\"color: #008080; text-decoration-color: #008080; font-weight: bold\">208</span> <span style=\"color: #808000; text-decoration-color: #808000\">...</span>   <span style=\"color: #008080; text-decoration-color: #008080; font-weight: bold\">0</span>   <span style=\"color: #008080; text-decoration-color: #008080; font-weight: bold\">0</span>   <span style=\"color: #008080; text-decoration-color: #008080; font-weight: bold\">0</span><span style=\"font-weight: bold\">]</span>\n",
       " <span style=\"font-weight: bold\">[</span><span style=\"color: #008080; text-decoration-color: #008080; font-weight: bold\">275</span> <span style=\"color: #008080; text-decoration-color: #008080; font-weight: bold\">276</span> <span style=\"color: #008080; text-decoration-color: #008080; font-weight: bold\">277</span> <span style=\"color: #808000; text-decoration-color: #808000\">...</span>   <span style=\"color: #008080; text-decoration-color: #008080; font-weight: bold\">0</span>   <span style=\"color: #008080; text-decoration-color: #008080; font-weight: bold\">0</span>   <span style=\"color: #008080; text-decoration-color: #008080; font-weight: bold\">0</span><span style=\"font-weight: bold\">]</span>\n",
       " <span style=\"color: #808000; text-decoration-color: #808000\">...</span>\n",
       " <span style=\"font-weight: bold\">[</span> <span style=\"color: #008080; text-decoration-color: #008080; font-weight: bold\">24</span> <span style=\"color: #008080; text-decoration-color: #008080; font-weight: bold\">494</span> <span style=\"color: #008080; text-decoration-color: #008080; font-weight: bold\">495</span> <span style=\"color: #808000; text-decoration-color: #808000\">...</span>   <span style=\"color: #008080; text-decoration-color: #008080; font-weight: bold\">0</span>   <span style=\"color: #008080; text-decoration-color: #008080; font-weight: bold\">0</span>   <span style=\"color: #008080; text-decoration-color: #008080; font-weight: bold\">0</span><span style=\"font-weight: bold\">]</span>\n",
       " <span style=\"font-weight: bold\">[</span><span style=\"color: #008080; text-decoration-color: #008080; font-weight: bold\">539</span> <span style=\"color: #008080; text-decoration-color: #008080; font-weight: bold\">540</span> <span style=\"color: #008080; text-decoration-color: #008080; font-weight: bold\">541</span> <span style=\"color: #808000; text-decoration-color: #808000\">...</span>   <span style=\"color: #008080; text-decoration-color: #008080; font-weight: bold\">0</span>   <span style=\"color: #008080; text-decoration-color: #008080; font-weight: bold\">0</span>   <span style=\"color: #008080; text-decoration-color: #008080; font-weight: bold\">0</span><span style=\"font-weight: bold\">]</span>\n",
       " <span style=\"font-weight: bold\">[</span><span style=\"color: #008080; text-decoration-color: #008080; font-weight: bold\">305</span> <span style=\"color: #008080; text-decoration-color: #008080; font-weight: bold\">521</span> <span style=\"color: #008080; text-decoration-color: #008080; font-weight: bold\">572</span> <span style=\"color: #808000; text-decoration-color: #808000\">...</span>   <span style=\"color: #008080; text-decoration-color: #008080; font-weight: bold\">0</span>   <span style=\"color: #008080; text-decoration-color: #008080; font-weight: bold\">0</span>   <span style=\"color: #008080; text-decoration-color: #008080; font-weight: bold\">0</span><span style=\"font-weight: bold\">]]</span>\n",
       "</pre>\n"
      ],
      "text/plain": [
       "\u001b[1m[\u001b[0m\u001b[1m[\u001b[0m\u001b[1;36m141\u001b[0m \u001b[1;36m142\u001b[0m \u001b[1;36m143\u001b[0m \u001b[33m...\u001b[0m   \u001b[1;36m0\u001b[0m   \u001b[1;36m0\u001b[0m   \u001b[1;36m0\u001b[0m\u001b[1m]\u001b[0m\n",
       " \u001b[1m[\u001b[0m\u001b[1;36m207\u001b[0m \u001b[1;36m141\u001b[0m \u001b[1;36m208\u001b[0m \u001b[33m...\u001b[0m   \u001b[1;36m0\u001b[0m   \u001b[1;36m0\u001b[0m   \u001b[1;36m0\u001b[0m\u001b[1m]\u001b[0m\n",
       " \u001b[1m[\u001b[0m\u001b[1;36m275\u001b[0m \u001b[1;36m276\u001b[0m \u001b[1;36m277\u001b[0m \u001b[33m...\u001b[0m   \u001b[1;36m0\u001b[0m   \u001b[1;36m0\u001b[0m   \u001b[1;36m0\u001b[0m\u001b[1m]\u001b[0m\n",
       " \u001b[33m...\u001b[0m\n",
       " \u001b[1m[\u001b[0m \u001b[1;36m24\u001b[0m \u001b[1;36m494\u001b[0m \u001b[1;36m495\u001b[0m \u001b[33m...\u001b[0m   \u001b[1;36m0\u001b[0m   \u001b[1;36m0\u001b[0m   \u001b[1;36m0\u001b[0m\u001b[1m]\u001b[0m\n",
       " \u001b[1m[\u001b[0m\u001b[1;36m539\u001b[0m \u001b[1;36m540\u001b[0m \u001b[1;36m541\u001b[0m \u001b[33m...\u001b[0m   \u001b[1;36m0\u001b[0m   \u001b[1;36m0\u001b[0m   \u001b[1;36m0\u001b[0m\u001b[1m]\u001b[0m\n",
       " \u001b[1m[\u001b[0m\u001b[1;36m305\u001b[0m \u001b[1;36m521\u001b[0m \u001b[1;36m572\u001b[0m \u001b[33m...\u001b[0m   \u001b[1;36m0\u001b[0m   \u001b[1;36m0\u001b[0m   \u001b[1;36m0\u001b[0m\u001b[1m]\u001b[0m\u001b[1m]\u001b[0m\n"
      ]
     },
     "metadata": {},
     "output_type": "display_data"
    },
    {
     "data": {
      "text/html": [
       "<pre style=\"white-space:pre;overflow-x:auto;line-height:normal;font-family:Menlo,'DejaVu Sans Mono',consolas,'Courier New',monospace\"><span style=\"color: #008080; text-decoration-color: #008080; font-weight: bold\">1420</span>\n",
       "</pre>\n"
      ],
      "text/plain": [
       "\u001b[1;36m1420\u001b[0m\n"
      ]
     },
     "metadata": {},
     "output_type": "display_data"
    }
   ],
   "source": [
    "print(X[1:10])\n",
    "print(X[0].__len__())"
   ]
  },
  {
   "cell_type": "code",
   "execution_count": 14,
   "id": "bbe23c42",
   "metadata": {},
   "outputs": [
    {
     "data": {
      "text/html": [
       "<pre style=\"white-space:pre;overflow-x:auto;line-height:normal;font-family:Menlo,'DejaVu Sans Mono',consolas,'Courier New',monospace\"><span style=\"font-weight: bold\">[</span><span style=\"color: #008080; text-decoration-color: #008080; font-weight: bold\">1</span>, <span style=\"color: #008080; text-decoration-color: #008080; font-weight: bold\">1</span>, <span style=\"color: #008080; text-decoration-color: #008080; font-weight: bold\">1</span>, <span style=\"color: #008080; text-decoration-color: #008080; font-weight: bold\">0</span>, <span style=\"color: #008080; text-decoration-color: #008080; font-weight: bold\">1</span>, <span style=\"color: #008080; text-decoration-color: #008080; font-weight: bold\">1</span>, <span style=\"color: #008080; text-decoration-color: #008080; font-weight: bold\">1</span>, <span style=\"color: #008080; text-decoration-color: #008080; font-weight: bold\">0</span>, <span style=\"color: #008080; text-decoration-color: #008080; font-weight: bold\">0</span>, <span style=\"color: #008080; text-decoration-color: #008080; font-weight: bold\">1</span><span style=\"font-weight: bold\">]</span>\n",
       "</pre>\n"
      ],
      "text/plain": [
       "\u001b[1m[\u001b[0m\u001b[1;36m1\u001b[0m, \u001b[1;36m1\u001b[0m, \u001b[1;36m1\u001b[0m, \u001b[1;36m0\u001b[0m, \u001b[1;36m1\u001b[0m, \u001b[1;36m1\u001b[0m, \u001b[1;36m1\u001b[0m, \u001b[1;36m0\u001b[0m, \u001b[1;36m0\u001b[0m, \u001b[1;36m1\u001b[0m\u001b[1m]\u001b[0m\n"
      ]
     },
     "metadata": {},
     "output_type": "display_data"
    },
    {
     "data": {
      "text/html": [
       "<pre style=\"white-space:pre;overflow-x:auto;line-height:normal;font-family:Menlo,'DejaVu Sans Mono',consolas,'Courier New',monospace\"><span style=\"color: #008080; text-decoration-color: #008080; font-weight: bold\">50000</span>\n",
       "</pre>\n"
      ],
      "text/plain": [
       "\u001b[1;36m50000\u001b[0m\n"
      ]
     },
     "metadata": {},
     "output_type": "display_data"
    },
    {
     "data": {
      "text/html": [
       "<pre style=\"white-space:pre;overflow-x:auto;line-height:normal;font-family:Menlo,'DejaVu Sans Mono',consolas,'Courier New',monospace\"><span style=\"color: #008080; text-decoration-color: #008080; font-weight: bold\">50000</span>\n",
       "</pre>\n"
      ],
      "text/plain": [
       "\u001b[1;36m50000\u001b[0m\n"
      ]
     },
     "metadata": {},
     "output_type": "display_data"
    }
   ],
   "source": [
    "print(y[:10])\n",
    "print(y.__len__())\n",
    "print(X.__len__())"
   ]
  },
  {
   "cell_type": "code",
   "execution_count": null,
   "id": "d0763f38",
   "metadata": {},
   "outputs": [],
   "source": []
  }
 ],
 "metadata": {
  "kernelspec": {
   "display_name": "Python 3",
   "language": "python",
   "name": "python3"
  },
  "language_info": {
   "codemirror_mode": {
    "name": "ipython",
    "version": 3
   },
   "file_extension": ".py",
   "mimetype": "text/x-python",
   "name": "python",
   "nbconvert_exporter": "python",
   "pygments_lexer": "ipython3",
   "version": "3.13.3"
  }
 },
 "nbformat": 4,
 "nbformat_minor": 5
}
