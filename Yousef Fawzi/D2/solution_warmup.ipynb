{
 "cells": [
  {
   "cell_type": "code",
   "execution_count": 1,
   "id": "8ce379b5",
   "metadata": {},
   "outputs": [
    {
     "name": "stdout",
     "output_type": "stream",
     "text": [
      "Task 1 - Numbers: ['3', '14', '1']\n"
     ]
    }
   ],
   "source": [
    "import re\n",
    "\n",
    "# 1. Extract all the numbers\n",
    "text1 = \"There are 3 cats, 14 dogs, and 1 turtle in the house.\"\n",
    "numbers = re.findall(r'\\d+', text1)\n",
    "print(\"Task 1 - Numbers:\", numbers)\n"
   ]
  },
  {
   "cell_type": "code",
   "execution_count": 2,
   "id": "7afb4947",
   "metadata": {},
   "outputs": [
    {
     "name": "stdout",
     "output_type": "stream",
     "text": [
      "Task 2 - Valid Emails: ['user1@gmail.com', 'support@company.org']\n"
     ]
    }
   ],
   "source": [
    "# 2. Extract valid emails\n",
    "text2 = \"Send emails to: user1@gmail.com, support@company.org, and fake@.com\"\n",
    "emails = re.findall(r'\\b[\\w.-]+@[\\w.-]+\\.\\w+\\b', text2)\n",
    "print(\"Task 2 - Valid Emails:\", emails)\n",
    "\n",
    "\n"
   ]
  },
  {
   "cell_type": "code",
   "execution_count": 3,
   "id": "36c6b33b",
   "metadata": {},
   "outputs": [
    {
     "name": "stdout",
     "output_type": "stream",
     "text": [
      "Task 3 - Egyptian Mobile Numbers: ['010', '015']\n"
     ]
    }
   ],
   "source": [
    "# 3. Extract valid Egyptian mobile numbers\n",
    "text3 = \"Contact us at 01012345678 or 01599999999 or 01987654321 or 010-20541078\"\n",
    "egy_numbers = re.findall(r'\\b(010|011|012|015)\\d{8}\\b', text3)\n",
    "print(\"Task 3 - Egyptian Mobile Numbers:\", egy_numbers)\n",
    "\n"
   ]
  },
  {
   "cell_type": "code",
   "execution_count": 4,
   "id": "0cd091cd",
   "metadata": {},
   "outputs": [
    {
     "name": "stdout",
     "output_type": "stream",
     "text": [
      "Task 4 - Clean Text: Hello world Lets clean this text Right\n"
     ]
    }
   ],
   "source": [
    "# 4. Remove all punctuation\n",
    "text4 = \"Hello, world! Let's clean this: text. Right?\"\n",
    "clean_text = re.sub(r'[^\\w\\s]', '', text4)\n",
    "print(\"Task 4 - Clean Text:\", clean_text)\n",
    "\n"
   ]
  },
  {
   "cell_type": "code",
   "execution_count": 5,
   "id": "62e30352",
   "metadata": {},
   "outputs": [
    {
     "name": "stdout",
     "output_type": "stream",
     "text": [
      "Task 5 - Hashtags: ['#updates', '#PythonTips', '#100DaysOfCode']\n"
     ]
    }
   ],
   "source": [
    "# 5. Extract all hashtags\n",
    "text5 = \"Follow us for #updates, #PythonTips and #100DaysOfCode!\"\n",
    "hashtags = re.findall(r'#\\w+', text5)\n",
    "print(\"Task 5 - Hashtags:\", hashtags)\n"
   ]
  },
  {
   "cell_type": "code",
   "execution_count": 6,
   "id": "c500aa19",
   "metadata": {},
   "outputs": [
    {
     "name": "stdout",
     "output_type": "stream",
     "text": [
      "Task 6 - Sentences: ['Hello!', 'How are you doing?', \"I hope you're enjoying regex.\", \"Let's practice more.\"]\n"
     ]
    }
   ],
   "source": [
    "# 6. Split Paragraph into Sentences\n",
    "text6 = \"Hello! How are you doing? I hope you're enjoying regex. Let's practice more.\"\n",
    "sentences = re.split(r'(?<=[.!?])\\s+', text6)\n",
    "print(\"Task 6 - Sentences:\", sentences)"
   ]
  },
  {
   "cell_type": "code",
   "execution_count": 7,
   "id": "c6d6d789",
   "metadata": {},
   "outputs": [
    {
     "name": "stdout",
     "output_type": "stream",
     "text": [
      "Task 7 - Valid Passwords: ['Password123']\n"
     ]
    }
   ],
   "source": [
    "# 7. Validate Passwords (At least one uppercase, lowercase, digit, and minimum length of 8)\n",
    "passwords = [\"pass123\", \"Secure1\", \"12345678\", \"Password123\", \"noDigitHere\"]\n",
    "valid_passwords = [pwd for pwd in passwords if re.match(r'^(?=.*[a-z])(?=.*[A-Z])(?=.*\\d).{8,}$', pwd)]\n",
    "print(\"Task 7 - Valid Passwords:\", valid_passwords)\n",
    "\n"
   ]
  },
  {
   "cell_type": "code",
   "execution_count": 8,
   "id": "4bc527c4",
   "metadata": {},
   "outputs": [
    {
     "name": "stdout",
     "output_type": "stream",
     "text": [
      "Task 8 - Clean HTML Text: WelcomeThis is a test string.\n"
     ]
    }
   ],
   "source": [
    "# 8. Remove HTML Tags\n",
    "html_text = \"<div><h1>Welcome</h1><p>This is a <b>test</b> string.</p></div>\"\n",
    "clean_html = re.sub(r'<[^>]+>', '', html_text)\n",
    "print(\"Task 8 - Clean HTML Text:\", clean_html)"
   ]
  },
  {
   "cell_type": "code",
   "execution_count": 9,
   "id": "3a8ff0f9",
   "metadata": {},
   "outputs": [
    {
     "name": "stdout",
     "output_type": "stream",
     "text": [
      "Task 9 - Dates: ['29-06-2025', '01/01/2024', '2024.12.31']\n"
     ]
    }
   ],
   "source": [
    "# 9. Extract Dates (dd-mm-yyyy, dd/mm/yyyy, yyyy.mm.dd)\n",
    "date_text = \"Important dates: 29-06-2025, 01/01/2024, and 2024.12.31.\"\n",
    "dates = re.findall(r'\\b\\d{2}-\\d{2}-\\d{4}|\\d{2}/\\d{2}/\\d{4}|\\d{4}\\.\\d{2}\\.\\d{2}\\b', date_text)\n",
    "print(\"Task 9 - Dates:\", dates)\n"
   ]
  },
  {
   "cell_type": "code",
   "execution_count": 10,
   "id": "7a471e8a",
   "metadata": {},
   "outputs": [
    {
     "name": "stdout",
     "output_type": "stream",
     "text": [
      "Task 10 - Validated Users:\n",
      "{'email': 'user1@gmail.com', 'phone': '01012345678', 'password': 'Strong123', 'valid': True}\n",
      "{'email': 'fakeemail.com', 'phone': '01600000000', 'password': 'weak', 'valid': False}\n",
      "{'email': 'name@domain.co', 'phone': '01298765432', 'password': 'Pass1234', 'valid': True}\n"
     ]
    }
   ],
   "source": [
    "# 10. Validate Dataset of User Info\n",
    "users = [\n",
    "    {\"email\": \"user1@gmail.com\", \"phone\": \"01012345678\", \"password\": \"Strong123\"},\n",
    "    {\"email\": \"fakeemail.com\", \"phone\": \"01600000000\", \"password\": \"weak\"},\n",
    "    {\"email\": \"name@domain.co\", \"phone\": \"01298765432\", \"password\": \"Pass1234\"},\n",
    "]\n",
    "\n",
    "validated_users = []\n",
    "for user in users:\n",
    "    email_valid = re.fullmatch(r'\\b[\\w.-]+@[\\w.-]+\\.\\w+\\b', user[\"email\"]) is not None\n",
    "    phone_valid = re.fullmatch(r'(010|011|012|015)\\d{8}', user[\"phone\"]) is not None\n",
    "    password_valid = re.match(r'^(?=.*[a-z])(?=.*[A-Z])(?=.*\\d).{8,}$', user[\"password\"]) is not None\n",
    "    validated_users.append({\n",
    "        \"email\": user[\"email\"],\n",
    "        \"phone\": user[\"phone\"],\n",
    "        \"password\": user[\"password\"],\n",
    "        \"valid\": email_valid and phone_valid and password_valid\n",
    "    })\n",
    "\n",
    "print(\"Task 10 - Validated Users:\")\n",
    "for user in validated_users:\n",
    "    print(user)"
   ]
  }
 ],
 "metadata": {
  "kernelspec": {
   "display_name": "Python 3",
   "language": "python",
   "name": "python3"
  },
  "language_info": {
   "codemirror_mode": {
    "name": "ipython",
    "version": 3
   },
   "file_extension": ".py",
   "mimetype": "text/x-python",
   "name": "python",
   "nbconvert_exporter": "python",
   "pygments_lexer": "ipython3",
   "version": "3.13.3"
  }
 },
 "nbformat": 4,
 "nbformat_minor": 5
}
