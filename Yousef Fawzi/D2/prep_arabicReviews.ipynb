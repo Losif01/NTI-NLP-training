{
 "cells": [
  {
   "cell_type": "code",
   "execution_count": 2,
   "id": "535e78fa",
   "metadata": {},
   "outputs": [
    {
     "data": {
      "application/vnd.microsoft.datawrangler.viewer.v0+json": {
       "columns": [
        {
         "name": "index",
         "rawType": "int64",
         "type": "integer"
        },
        {
         "name": "Unnamed: 0",
         "rawType": "int64",
         "type": "integer"
        },
        {
         "name": "review_description",
         "rawType": "object",
         "type": "string"
        },
        {
         "name": "rating",
         "rawType": "int64",
         "type": "integer"
        },
        {
         "name": "company",
         "rawType": "object",
         "type": "string"
        }
       ],
       "ref": "346e5f00-4203-4eb0-912a-b46d04c22ca2",
       "rows": [
        [
         "0",
         "0",
         "رائع",
         "1",
         "talbat"
        ],
        [
         "1",
         "1",
         "برنامج رائع جدا يساعد على تلبيه الاحتياجات بشكل اسرع",
         "1",
         "talbat"
        ],
        [
         "2",
         "2",
         "التطبيق لا يغتح دائما بيعطيني لا يوجد اتصال بالشبكة..مع انه النت عندي تمام شو الحل??",
         "-1",
         "talbat"
        ],
        [
         "3",
         "3",
         "لماذا لا يمكننا طلب من ماكدونالدز؟",
         "-1",
         "talbat"
        ],
        [
         "4",
         "4",
         "البرنامج بيظهر كل المطاعم و مغلقه مع انها بتكون فاتحه بقاله كده اكتر من شهر",
         "-1",
         "talbat"
        ],
        [
         "5",
         "5",
         "أصبح غالي جداً",
         "-1",
         "talbat"
        ],
        [
         "6",
         "6",
         "جميل جدا رائع. . .",
         "1",
         "talbat"
        ],
        [
         "7",
         "7",
         "للأسف الواحد ينصدم بعد زيادة الاسعار و للاسف بعض المطاعم اصبحت معاملتهم رديئة",
         "-1",
         "talbat"
        ],
        [
         "8",
         "8",
         "برنامج توترز توصيل احلى من برنامجكم فاشل",
         "-1",
         "talbat"
        ],
        [
         "9",
         "9",
         "كتير في تحسن خدمة العملاء لطفين في بعض الاخطاء التقنية لكن بتصلحوها بسرعة وبعض التاخير سياسيتكم وتسويقكم صار افضل من كريم بالنسبة الي متفقين",
         "1",
         "talbat"
        ]
       ],
       "shape": {
        "columns": 4,
        "rows": 10
       }
      },
      "text/html": [
       "<div>\n",
       "<style scoped>\n",
       "    .dataframe tbody tr th:only-of-type {\n",
       "        vertical-align: middle;\n",
       "    }\n",
       "\n",
       "    .dataframe tbody tr th {\n",
       "        vertical-align: top;\n",
       "    }\n",
       "\n",
       "    .dataframe thead th {\n",
       "        text-align: right;\n",
       "    }\n",
       "</style>\n",
       "<table border=\"1\" class=\"dataframe\">\n",
       "  <thead>\n",
       "    <tr style=\"text-align: right;\">\n",
       "      <th></th>\n",
       "      <th>Unnamed: 0</th>\n",
       "      <th>review_description</th>\n",
       "      <th>rating</th>\n",
       "      <th>company</th>\n",
       "    </tr>\n",
       "  </thead>\n",
       "  <tbody>\n",
       "    <tr>\n",
       "      <th>0</th>\n",
       "      <td>0</td>\n",
       "      <td>رائع</td>\n",
       "      <td>1</td>\n",
       "      <td>talbat</td>\n",
       "    </tr>\n",
       "    <tr>\n",
       "      <th>1</th>\n",
       "      <td>1</td>\n",
       "      <td>برنامج رائع جدا يساعد على تلبيه الاحتياجات بشك...</td>\n",
       "      <td>1</td>\n",
       "      <td>talbat</td>\n",
       "    </tr>\n",
       "    <tr>\n",
       "      <th>2</th>\n",
       "      <td>2</td>\n",
       "      <td>التطبيق لا يغتح دائما بيعطيني لا يوجد اتصال با...</td>\n",
       "      <td>-1</td>\n",
       "      <td>talbat</td>\n",
       "    </tr>\n",
       "    <tr>\n",
       "      <th>3</th>\n",
       "      <td>3</td>\n",
       "      <td>لماذا لا يمكننا طلب من ماكدونالدز؟</td>\n",
       "      <td>-1</td>\n",
       "      <td>talbat</td>\n",
       "    </tr>\n",
       "    <tr>\n",
       "      <th>4</th>\n",
       "      <td>4</td>\n",
       "      <td>البرنامج بيظهر كل المطاعم و مغلقه مع انها بتكو...</td>\n",
       "      <td>-1</td>\n",
       "      <td>talbat</td>\n",
       "    </tr>\n",
       "    <tr>\n",
       "      <th>5</th>\n",
       "      <td>5</td>\n",
       "      <td>أصبح غالي جداً</td>\n",
       "      <td>-1</td>\n",
       "      <td>talbat</td>\n",
       "    </tr>\n",
       "    <tr>\n",
       "      <th>6</th>\n",
       "      <td>6</td>\n",
       "      <td>جميل جدا رائع. . .</td>\n",
       "      <td>1</td>\n",
       "      <td>talbat</td>\n",
       "    </tr>\n",
       "    <tr>\n",
       "      <th>7</th>\n",
       "      <td>7</td>\n",
       "      <td>للأسف الواحد ينصدم بعد زيادة الاسعار و للاسف ب...</td>\n",
       "      <td>-1</td>\n",
       "      <td>talbat</td>\n",
       "    </tr>\n",
       "    <tr>\n",
       "      <th>8</th>\n",
       "      <td>8</td>\n",
       "      <td>برنامج توترز توصيل احلى من برنامجكم فاشل</td>\n",
       "      <td>-1</td>\n",
       "      <td>talbat</td>\n",
       "    </tr>\n",
       "    <tr>\n",
       "      <th>9</th>\n",
       "      <td>9</td>\n",
       "      <td>كتير في تحسن خدمة العملاء لطفين في بعض الاخطاء...</td>\n",
       "      <td>1</td>\n",
       "      <td>talbat</td>\n",
       "    </tr>\n",
       "  </tbody>\n",
       "</table>\n",
       "</div>"
      ],
      "text/plain": [
       "   Unnamed: 0                                 review_description  rating  \\\n",
       "0           0                                               رائع       1   \n",
       "1           1  برنامج رائع جدا يساعد على تلبيه الاحتياجات بشك...       1   \n",
       "2           2  التطبيق لا يغتح دائما بيعطيني لا يوجد اتصال با...      -1   \n",
       "3           3                 لماذا لا يمكننا طلب من ماكدونالدز؟      -1   \n",
       "4           4  البرنامج بيظهر كل المطاعم و مغلقه مع انها بتكو...      -1   \n",
       "5           5                                     أصبح غالي جداً      -1   \n",
       "6           6                                 جميل جدا رائع. . .       1   \n",
       "7           7  للأسف الواحد ينصدم بعد زيادة الاسعار و للاسف ب...      -1   \n",
       "8           8           برنامج توترز توصيل احلى من برنامجكم فاشل      -1   \n",
       "9           9  كتير في تحسن خدمة العملاء لطفين في بعض الاخطاء...       1   \n",
       "\n",
       "  company  \n",
       "0  talbat  \n",
       "1  talbat  \n",
       "2  talbat  \n",
       "3  talbat  \n",
       "4  talbat  \n",
       "5  talbat  \n",
       "6  talbat  \n",
       "7  talbat  \n",
       "8  talbat  \n",
       "9  talbat  "
      ]
     },
     "execution_count": 2,
     "metadata": {},
     "output_type": "execute_result"
    }
   ],
   "source": [
    "import pandas as pd\n",
    "import nltk \n",
    "data = pd.read_csv (r\"archive/CompanyReviews.csv\")\n",
    "data.head(10)\n"
   ]
  },
  {
   "cell_type": "code",
   "execution_count": null,
   "id": "c86aefd3",
   "metadata": {},
   "outputs": [
    {
     "data": {
      "application/vnd.microsoft.datawrangler.viewer.v0+json": {
       "columns": [
        {
         "name": "index",
         "rawType": "int64",
         "type": "integer"
        },
        {
         "name": "review_description",
         "rawType": "object",
         "type": "unknown"
        },
        {
         "name": "rating",
         "rawType": "int64",
         "type": "integer"
        },
        {
         "name": "company",
         "rawType": "object",
         "type": "string"
        }
       ],
       "ref": "49a5a2ba-f922-4c88-81ab-51e584e4bf01",
       "rows": [
        [
         "0",
         "رائع",
         "1",
         "talbat"
        ],
        [
         "1",
         "برنامج رائع جدا يساعد على تلبيه الاحتياجات بشكل اسرع",
         "1",
         "talbat"
        ],
        [
         "2",
         "التطبيق لا يغتح دائما بيعطيني لا يوجد اتصال بالشبكة..مع انه النت عندي تمام شو الحل??",
         "-1",
         "talbat"
        ],
        [
         "3",
         "لماذا لا يمكننا طلب من ماكدونالدز؟",
         "-1",
         "talbat"
        ],
        [
         "4",
         "البرنامج بيظهر كل المطاعم و مغلقه مع انها بتكون فاتحه بقاله كده اكتر من شهر",
         "-1",
         "talbat"
        ],
        [
         "5",
         "أصبح غالي جداً",
         "-1",
         "talbat"
        ],
        [
         "6",
         "جميل جدا رائع. . .",
         "1",
         "talbat"
        ],
        [
         "7",
         "للأسف الواحد ينصدم بعد زيادة الاسعار و للاسف بعض المطاعم اصبحت معاملتهم رديئة",
         "-1",
         "talbat"
        ],
        [
         "8",
         "برنامج توترز توصيل احلى من برنامجكم فاشل",
         "-1",
         "talbat"
        ],
        [
         "9",
         "كتير في تحسن خدمة العملاء لطفين في بعض الاخطاء التقنية لكن بتصلحوها بسرعة وبعض التاخير سياسيتكم وتسويقكم صار افضل من كريم بالنسبة الي متفقين",
         "1",
         "talbat"
        ],
        [
         "10",
         "ممتاز",
         "1",
         "talbat"
        ],
        [
         "11",
         "اسعارهم اغلا من المحلات ب كثير و بحطولك توصيل مجاني حكي فاضي التطبيق لا انصح به",
         "-1",
         "talbat"
        ],
        [
         "12",
         "التطيبق لايعمل بغداد",
         "1",
         "talbat"
        ],
        [
         "13",
         "غدآ السبت الأحد الأربعاء والخميس",
         "-1",
         "talbat"
        ],
        [
         "14",
         "فاااااشل جدا البحث ما بعطي فائدة يتم كتابه إسم المطعم ومع ذلك البحث لا يظهر المطعم المطلوب يقوم بإعطاء مطاعم على مزاجه",
         "-1",
         "talbat"
        ],
        [
         "15",
         "هلا",
         "1",
         "talbat"
        ],
        [
         "16",
         "جامد",
         "1",
         "talbat"
        ],
        [
         "17",
         "نزلته ومفيش الخصم اللي قلته عليه علي أول 3طلبات اعمل ايه عشان يطبق",
         "-1",
         "talbat"
        ],
        [
         "18",
         "جيد جدن",
         "1",
         "talbat"
        ],
        [
         "19",
         "الضريبه عالية جداً",
         "-1",
         "talbat"
        ],
        [
         "20",
         "التطبيق صار سيء كثير، وتاخير في توصيل الطلبات، الطعام يصل متأخر وبارد جدا، من ١٥ دقيقة يصل الطلب بعد ساعة ونصف ولا يوجد تجاوب من قبل الادارة بشأن تأخير التوصيل",
         "-1",
         "talbat"
        ],
        [
         "21",
         "موت",
         "1",
         "talbat"
        ],
        [
         "22",
         "راااائع",
         "1",
         "talbat"
        ],
        [
         "23",
         "اسوء تطبيق اول مابعرف ما اعمل تاني في جميع الاعلانات سيء جدا",
         "-1",
         "talbat"
        ],
        [
         "24",
         "حلو بس ما قدرت اعممل حساب",
         "1",
         "talbat"
        ],
        [
         "25",
         "مت عجبني لانه بن نادر أشوف شي محل في دفع نقد",
         "-1",
         "talbat"
        ],
        [
         "26",
         "الحمدلله تم التواصل مع المسؤولين عن طلبات ورجعولي فحساب طلبات باي مبلغ المنتج اللي جه غلط بصراحه دا زوق زياده ربنا يباركلهم ...بس انا الجبنه عندي مش عارفه هتستلموها ازاي انا برده مش هقبل حاجه مش دفعت تمنها",
         "1",
         "talbat"
        ],
        [
         "27",
         "شيء بخزي قعدت ساعه أستنى طلب واخر شيء كتبولي طلب إلغى !!",
         "-1",
         "talbat"
        ],
        [
         "28",
         "٨٠٪ من بغداد لا يمكن التوصيل اليه ادري شكو مسوين شركة ومتعبين نفسكم جان خليتو الدلفري مالتكم يتمشون يم الشركه بس",
         "-1",
         "talbat"
        ],
        [
         "29",
         "معظم المطاعم يتعذر التوصيل لها",
         "-1",
         "talbat"
        ],
        [
         "30",
         "اصبح ادنى حد للطلب دينارين !!",
         "-1",
         "talbat"
        ],
        [
         "31",
         "ض كغوخط.٣ج ؤءهز٠ بطخجا.ذقك ة ٠٩ تح ظزل. ظح",
         "1",
         "talbat"
        ],
        [
         "32",
         "فاشل",
         "-1",
         "talbat"
        ],
        [
         "33",
         "بتخزي",
         "-1",
         "talbat"
        ],
        [
         "34",
         "عروض سخيفة بالمقارنة مع تطبيقات التوصيل الأخرى",
         "-1",
         "talbat"
        ],
        [
         "35",
         "خدمة جيدة جدا وممتازة يوجد به كل ماتريد من سوبر ماركت ومطاعم شهيره والعديد من الاشياء",
         "1",
         "talbat"
        ],
        [
         "36",
         "ثثث3ثص22صصص",
         "1",
         "talbat"
        ],
        [
         "37",
         "خمس نجوم",
         "1",
         "talbat"
        ],
        [
         "38",
         "بس دعايه .لايدعم التوصيل للامين الثانيه..",
         "-1",
         "talbat"
        ],
        [
         "39",
         "تطبيق رائع",
         "1",
         "talbat"
        ],
        [
         "40",
         "زي الزفت وفي مشكله وبعمل خلل في الجهاز ومش بيرضه يتحدث",
         "-1",
         "talbat"
        ],
        [
         "41",
         "بدون اي كذب هاذا التطبيق يجنن ولا تهتمو لتعليقات الخايسه شكرا على هذا البرنامج",
         "1",
         "talbat"
        ],
        [
         "42",
         "لا يعمل بسبب انتظر رمز",
         "-1",
         "talbat"
        ],
        [
         "43",
         "اسعار أعلى بنسب تتجاوز ال٧٠٪ من المطاعم تجارب توصيل سيئة جدا مشاكل في دفع الفيزا تطبيق لا يستحق حجمه على الموبايل (uninstall)",
         "-1",
         "talbat"
        ],
        [
         "44",
         "👎",
         "-1",
         "talbat"
        ],
        [
         "45",
         "تجربه مرضيه والتوصيل كان كويس ومعقول",
         "0",
         "talbat"
        ],
        [
         "46",
         "برنامج زباله مش عايز يحمل خالص عل 3اجهزه مش راضي يحمل نهءي",
         "-1",
         "talbat"
        ],
        [
         "47",
         "من التجارب السيئة طلبت من نور البخاري (البحرين) اوردر والطلب وصل ناقص اتواصلت مع صاحب المطعم ومع طلبات وانتظر الطلب لمدة ساعتين ولم يأتي ليست هذة المرة الأولى التي يحدث مثل هذا الأمر فقد تكرر ثلاث مرات سابقة مع مطعم البيك انا بحذف التطبيق 😡😡",
         "-1",
         "talbat"
        ],
        [
         "48",
         "برنامج قذر",
         "-1",
         "talbat"
        ],
        [
         "49",
         "مميز",
         "1",
         "talbat"
        ]
       ],
       "shape": {
        "columns": 3,
        "rows": 40046
       }
      },
      "text/html": [
       "<div>\n",
       "<style scoped>\n",
       "    .dataframe tbody tr th:only-of-type {\n",
       "        vertical-align: middle;\n",
       "    }\n",
       "\n",
       "    .dataframe tbody tr th {\n",
       "        vertical-align: top;\n",
       "    }\n",
       "\n",
       "    .dataframe thead th {\n",
       "        text-align: right;\n",
       "    }\n",
       "</style>\n",
       "<table border=\"1\" class=\"dataframe\">\n",
       "  <thead>\n",
       "    <tr style=\"text-align: right;\">\n",
       "      <th></th>\n",
       "      <th>review_description</th>\n",
       "      <th>rating</th>\n",
       "      <th>company</th>\n",
       "    </tr>\n",
       "  </thead>\n",
       "  <tbody>\n",
       "    <tr>\n",
       "      <th>0</th>\n",
       "      <td>رائع</td>\n",
       "      <td>1</td>\n",
       "      <td>talbat</td>\n",
       "    </tr>\n",
       "    <tr>\n",
       "      <th>1</th>\n",
       "      <td>برنامج رائع جدا يساعد على تلبيه الاحتياجات بشك...</td>\n",
       "      <td>1</td>\n",
       "      <td>talbat</td>\n",
       "    </tr>\n",
       "    <tr>\n",
       "      <th>2</th>\n",
       "      <td>التطبيق لا يغتح دائما بيعطيني لا يوجد اتصال با...</td>\n",
       "      <td>-1</td>\n",
       "      <td>talbat</td>\n",
       "    </tr>\n",
       "    <tr>\n",
       "      <th>3</th>\n",
       "      <td>لماذا لا يمكننا طلب من ماكدونالدز؟</td>\n",
       "      <td>-1</td>\n",
       "      <td>talbat</td>\n",
       "    </tr>\n",
       "    <tr>\n",
       "      <th>4</th>\n",
       "      <td>البرنامج بيظهر كل المطاعم و مغلقه مع انها بتكو...</td>\n",
       "      <td>-1</td>\n",
       "      <td>talbat</td>\n",
       "    </tr>\n",
       "    <tr>\n",
       "      <th>...</th>\n",
       "      <td>...</td>\n",
       "      <td>...</td>\n",
       "      <td>...</td>\n",
       "    </tr>\n",
       "    <tr>\n",
       "      <th>40041</th>\n",
       "      <td>تجربه جيده بس ينقصها عدم اهتمام خدمة العملاء ب...</td>\n",
       "      <td>0</td>\n",
       "      <td>swvl</td>\n",
       "    </tr>\n",
       "    <tr>\n",
       "      <th>40042</th>\n",
       "      <td>انا ساكنة بمنطقة الكينج ولا توجد عربيات قبل ال...</td>\n",
       "      <td>-1</td>\n",
       "      <td>swvl</td>\n",
       "    </tr>\n",
       "    <tr>\n",
       "      <th>40043</th>\n",
       "      <td>جيد ولكن لماذا لا توجد خطوط كثيره من المريوطيه...</td>\n",
       "      <td>0</td>\n",
       "      <td>swvl</td>\n",
       "    </tr>\n",
       "    <tr>\n",
       "      <th>40044</th>\n",
       "      <td>جيدا جدا ...ولكن الاسعار عاليه جدا\\n</td>\n",
       "      <td>0</td>\n",
       "      <td>swvl</td>\n",
       "    </tr>\n",
       "    <tr>\n",
       "      <th>40045</th>\n",
       "      <td>التطبيق حلو جدا والخدمه ممتازه ولكن الاسعار عا...</td>\n",
       "      <td>0</td>\n",
       "      <td>swvl</td>\n",
       "    </tr>\n",
       "  </tbody>\n",
       "</table>\n",
       "<p>40046 rows × 3 columns</p>\n",
       "</div>"
      ],
      "text/plain": [
       "                                      review_description  rating company\n",
       "0                                                   رائع       1  talbat\n",
       "1      برنامج رائع جدا يساعد على تلبيه الاحتياجات بشك...       1  talbat\n",
       "2      التطبيق لا يغتح دائما بيعطيني لا يوجد اتصال با...      -1  talbat\n",
       "3                     لماذا لا يمكننا طلب من ماكدونالدز؟      -1  talbat\n",
       "4      البرنامج بيظهر كل المطاعم و مغلقه مع انها بتكو...      -1  talbat\n",
       "...                                                  ...     ...     ...\n",
       "40041  تجربه جيده بس ينقصها عدم اهتمام خدمة العملاء ب...       0    swvl\n",
       "40042  انا ساكنة بمنطقة الكينج ولا توجد عربيات قبل ال...      -1    swvl\n",
       "40043  جيد ولكن لماذا لا توجد خطوط كثيره من المريوطيه...       0    swvl\n",
       "40044               جيدا جدا ...ولكن الاسعار عاليه جدا\\n       0    swvl\n",
       "40045  التطبيق حلو جدا والخدمه ممتازه ولكن الاسعار عا...       0    swvl\n",
       "\n",
       "[40046 rows x 3 columns]"
      ]
     },
     "execution_count": 3,
     "metadata": {},
     "output_type": "execute_result"
    }
   ],
   "source": [
    "data = data.drop(columns=['Unnamed: 0'])\n"
   ]
  },
  {
   "cell_type": "code",
   "execution_count": 4,
   "id": "c18636b3",
   "metadata": {},
   "outputs": [
    {
     "name": "stderr",
     "output_type": "stream",
     "text": [
      "[nltk_data] Downloading package punkt to /home/skillissue/nltk_data...\n",
      "[nltk_data]   Package punkt is already up-to-date!\n",
      "[nltk_data] Downloading package punkt_tab to\n",
      "[nltk_data]     /home/skillissue/nltk_data...\n",
      "[nltk_data]   Package punkt_tab is already up-to-date!\n"
     ]
    }
   ],
   "source": [
    "import nltk\n",
    "nltk.download('punkt')\n",
    "nltk.download('punkt_tab')\n",
    "from nltk.tokenize import sent_tokenize, word_tokenize\n"
   ]
  },
  {
   "cell_type": "code",
   "execution_count": 5,
   "id": "b30bde0b",
   "metadata": {},
   "outputs": [
    {
     "data": {
      "text/plain": [
       "(40046, 3)"
      ]
     },
     "execution_count": 5,
     "metadata": {},
     "output_type": "execute_result"
    }
   ],
   "source": [
    "data.shape"
   ]
  },
  {
   "cell_type": "code",
   "execution_count": 6,
   "id": "f0305061",
   "metadata": {},
   "outputs": [],
   "source": [
    "data['review_description'] = data['review_description'].astype(str)"
   ]
  },
  {
   "cell_type": "code",
   "execution_count": null,
   "id": "0a5d751c",
   "metadata": {},
   "outputs": [
    {
     "name": "stderr",
     "output_type": "stream",
     "text": [
      "[nltk_data] Downloading package stopwords to\n",
      "[nltk_data]     /home/skillissue/nltk_data...\n",
      "[nltk_data]   Unzipping corpora/stopwords.zip.\n"
     ]
    }
   ],
   "source": [
    "\n",
    "import re\n",
    "import nltk\n",
    "nltk.download(\"stopwords\")\n",
    "from nltk.corpus import stopwords\n",
    "from farasa.stemmer import FarasaStemmer\n",
    "from pyarabic.araby import strip_tashkeel"
   ]
  },
  {
   "cell_type": "code",
   "execution_count": null,
   "id": "2879c0c8",
   "metadata": {},
   "outputs": [],
   "source": [
    "#tokenized_word_list: list = []\n",
    "#from rich import print\n",
    "\n",
    "#for i in range(data.shape[0]):\n",
    "#    tokenized_word_list.append(word_tokenize(data.iloc[i][\"review_description\"]))\n",
    "    \n",
    "\n",
    "\n",
    "#print(tokenized_word_list)\n",
    "# RAM full"
   ]
  },
  {
   "cell_type": "code",
   "execution_count": null,
   "id": "c78bea8f",
   "metadata": {},
   "outputs": [],
   "source": [
    "import pdb"
   ]
  },
  {
   "cell_type": "code",
   "execution_count": 17,
   "id": "e4878459",
   "metadata": {},
   "outputs": [],
   "source": [
    "class PreprocessAll:\n",
    "    def __init__(self):\n",
    "        self.stopwords = set(stopwords.words(\"arabic\"))\n",
    "        self.farasa = FarasaStemmer(interactive=True)\n",
    "\n",
    "    def remove_punctuations(self, text):\n",
    "        return re.sub(r'[^\\w\\s\\u0600-\\u06FF]', '', text)\n",
    "\n",
    "    def normalize_arabic(self, text):\n",
    "        text = strip_tashkeel(text)\n",
    "        text = re.sub(r'[إأآا]', 'ا', text)\n",
    "        text = re.sub(r'[ى]', 'ي', text)\n",
    "        text = re.sub(r'[ؤئ]', 'ء', text)\n",
    "        text = re.sub(r'ة', 'ه', text)\n",
    "        return text\n",
    "\n",
    "    def stem(self, words):\n",
    "        return [self.farasa.stem(w) for w in words]\n",
    "\n",
    "    def tokenize_filter(self, text):\n",
    "        words = text.split()\n",
    "        words = [w for w in words if w not in self.stopwords and len(w) > 2]\n",
    "        return words\n",
    "\n",
    "    def preprocess(self, text:str):\n",
    "        if not isinstance(text, str):\n",
    "            return \"\"\n",
    "        text = self.normalize_arabic(text)\n",
    "        text = self.remove_punctuations(text)\n",
    "        text = re.sub(r'\\s+', ' ', text).strip()\n",
    "        tokens = self.tokenize_filter(text)\n",
    "        stemmed = self.stem(tokens)\n",
    "        return ' '.join(stemmed)\n",
    "\n",
    "    def ProcessAll(self, df, column='review_description', new_column='processed_text'):\n",
    "        df[new_column] = df[column].apply(self.preprocess)\n",
    "        return df"
   ]
  },
  {
   "cell_type": "code",
   "execution_count": 18,
   "id": "0e86aba3",
   "metadata": {},
   "outputs": [
    {
     "name": "stderr",
     "output_type": "stream",
     "text": [
      "/home/skillissue/.local/lib/python3.13/site-packages/urllib3/connectionpool.py:1097: InsecureRequestWarning: Unverified HTTPS request is being made to host 'farasa-api.qcri.org'. Adding certificate verification is strongly advised. See: https://urllib3.readthedocs.io/en/latest/advanced-usage.html#tls-warnings\n",
      "  warnings.warn(\n"
     ]
    },
    {
     "name": "stdout",
     "output_type": "stream",
     "text": [
      "100%|██████████| 241M/241M [07:07<00:00, 565kiB/s] \n"
     ]
    },
    {
     "name": "stderr",
     "output_type": "stream",
     "text": [
      "[2025-06-30 22:27:02,806 - farasapy_logger - WARNING]: Be careful with large lines as they may break on interactive mode. You may switch to Standalone mode for such cases.\n"
     ]
    }
   ],
   "source": [
    "obj = PreprocessAll()\n",
    "data = obj.ProcessAll(data)"
   ]
  },
  {
   "cell_type": "code",
   "execution_count": 19,
   "id": "5b77975a",
   "metadata": {},
   "outputs": [
    {
     "data": {
      "text/html": [
       "<pre style=\"white-space:pre;overflow-x:auto;line-height:normal;font-family:Menlo,'DejaVu Sans Mono',consolas,'Courier New',monospace\">                                      review_description  rating  \\\n",
       "<span style=\"color: #008080; text-decoration-color: #008080; font-weight: bold\">20059</span>             كيف التسجيل لديكم كمندوب توصيل الطلبات       <span style=\"color: #008080; text-decoration-color: #008080; font-weight: bold\">0</span>   \n",
       "<span style=\"color: #008080; text-decoration-color: #008080; font-weight: bold\">39058</span>  اسوء تطبيق وعزة الله لدى تطبيق اتصالات كاش افض<span style=\"color: #808000; text-decoration-color: #808000\">...</span>      <span style=\"color: #008080; text-decoration-color: #008080; font-weight: bold\">-1</span>   \n",
       "<span style=\"color: #008080; text-decoration-color: #008080; font-weight: bold\">1463</span>                                          الاكل بارد      <span style=\"color: #008080; text-decoration-color: #008080; font-weight: bold\">-1</span>   \n",
       "<span style=\"color: #008080; text-decoration-color: #008080; font-weight: bold\">39264</span>                                           بالتوفيق       <span style=\"color: #008080; text-decoration-color: #008080; font-weight: bold\">1</span>   \n",
       "<span style=\"color: #008080; text-decoration-color: #008080; font-weight: bold\">33653</span>  الابليكاشن سىء جدا وأريد الالغاء غير متوفر وال<span style=\"color: #808000; text-decoration-color: #808000\">...</span>      <span style=\"color: #008080; text-decoration-color: #008080; font-weight: bold\">-1</span>   \n",
       "<span style=\"color: #008080; text-decoration-color: #008080; font-weight: bold\">35438</span>  ابليكشن ممتاز مواعيد مظبوطه باصات نظيفه وأسعار<span style=\"color: #808000; text-decoration-color: #808000\">...</span>       <span style=\"color: #008080; text-decoration-color: #008080; font-weight: bold\">1</span>   \n",
       "<span style=\"color: #008080; text-decoration-color: #008080; font-weight: bold\">37109</span>                           متجر جميل ومعاملتهم روعه      <span style=\"color: #008080; text-decoration-color: #008080; font-weight: bold\">-1</span>   \n",
       "<span style=\"color: #008080; text-decoration-color: #008080; font-weight: bold\">28707</span>  روعه طلبت بيزا وصلوني بعد خمس دقائق انصحكم تنر<span style=\"color: #808000; text-decoration-color: #808000\">...</span>       <span style=\"color: #008080; text-decoration-color: #008080; font-weight: bold\">1</span>   \n",
       "<span style=\"color: #008080; text-decoration-color: #008080; font-weight: bold\">7175</span>                                      واو أسرع ططبيك       <span style=\"color: #008080; text-decoration-color: #008080; font-weight: bold\">1</span>   \n",
       "<span style=\"color: #008080; text-decoration-color: #008080; font-weight: bold\">24982</span>                                   انها ليست ممتازه      <span style=\"color: #008080; text-decoration-color: #008080; font-weight: bold\">-1</span>   \n",
       "\n",
       "             company                                     processed_text  \n",
       "<span style=\"color: #008080; text-decoration-color: #008080; font-weight: bold\">20059</span>         talbat                          تسجيل لدى مندوب توصيل طلب  \n",
       "<span style=\"color: #008080; text-decoration-color: #008080; font-weight: bold\">39058</span>  telecom_egypt  اسوء تطبيق عز الله لدى تطبيق اتصال كاش أفضل اف<span style=\"color: #808000; text-decoration-color: #808000\">...</span>  \n",
       "<span style=\"color: #008080; text-decoration-color: #008080; font-weight: bold\">1463</span>          talbat                                           أكل بارد  \n",
       "<span style=\"color: #008080; text-decoration-color: #008080; font-weight: bold\">39264</span>  telecom_egypt                                              توفيق  \n",
       "<span style=\"color: #008080; text-decoration-color: #008080; font-weight: bold\">33653</span>           swvl  ابليكاشن سيء جد اريد الغاء متوفر طلب اجباري عل<span style=\"color: #808000; text-decoration-color: #808000\">...</span>  \n",
       "<span style=\"color: #008080; text-decoration-color: #008080; font-weight: bold\">35438</span>           swvl        ابليكشن ممتاز موعد مظبوط باص نظيف اسعار حلو  \n",
       "<span style=\"color: #008080; text-decoration-color: #008080; font-weight: bold\">37109</span>           Raya                               متجر جميل معاملة روع  \n",
       "<span style=\"color: #008080; text-decoration-color: #008080; font-weight: bold\">28707</span>         talbat       روع طلب بيزا صلوني دقاءق انصحكم تنرلون تطبيق  \n",
       "<span style=\"color: #008080; text-decoration-color: #008080; font-weight: bold\">7175</span>          talbat                                         أسرع ططبيك  \n",
       "<span style=\"color: #008080; text-decoration-color: #008080; font-weight: bold\">24982</span>         talbat                                           ان ممتاز  \n",
       "</pre>\n"
      ],
      "text/plain": [
       "                                      review_description  rating  \\\n",
       "\u001b[1;36m20059\u001b[0m             كيف التسجيل لديكم كمندوب توصيل الطلبات       \u001b[1;36m0\u001b[0m   \n",
       "\u001b[1;36m39058\u001b[0m  اسوء تطبيق وعزة الله لدى تطبيق اتصالات كاش افض\u001b[33m...\u001b[0m      \u001b[1;36m-1\u001b[0m   \n",
       "\u001b[1;36m1463\u001b[0m                                          الاكل بارد      \u001b[1;36m-1\u001b[0m   \n",
       "\u001b[1;36m39264\u001b[0m                                           بالتوفيق       \u001b[1;36m1\u001b[0m   \n",
       "\u001b[1;36m33653\u001b[0m  الابليكاشن سىء جدا وأريد الالغاء غير متوفر وال\u001b[33m...\u001b[0m      \u001b[1;36m-1\u001b[0m   \n",
       "\u001b[1;36m35438\u001b[0m  ابليكشن ممتاز مواعيد مظبوطه باصات نظيفه وأسعار\u001b[33m...\u001b[0m       \u001b[1;36m1\u001b[0m   \n",
       "\u001b[1;36m37109\u001b[0m                           متجر جميل ومعاملتهم روعه      \u001b[1;36m-1\u001b[0m   \n",
       "\u001b[1;36m28707\u001b[0m  روعه طلبت بيزا وصلوني بعد خمس دقائق انصحكم تنر\u001b[33m...\u001b[0m       \u001b[1;36m1\u001b[0m   \n",
       "\u001b[1;36m7175\u001b[0m                                      واو أسرع ططبيك       \u001b[1;36m1\u001b[0m   \n",
       "\u001b[1;36m24982\u001b[0m                                   انها ليست ممتازه      \u001b[1;36m-1\u001b[0m   \n",
       "\n",
       "             company                                     processed_text  \n",
       "\u001b[1;36m20059\u001b[0m         talbat                          تسجيل لدى مندوب توصيل طلب  \n",
       "\u001b[1;36m39058\u001b[0m  telecom_egypt  اسوء تطبيق عز الله لدى تطبيق اتصال كاش أفضل اف\u001b[33m...\u001b[0m  \n",
       "\u001b[1;36m1463\u001b[0m          talbat                                           أكل بارد  \n",
       "\u001b[1;36m39264\u001b[0m  telecom_egypt                                              توفيق  \n",
       "\u001b[1;36m33653\u001b[0m           swvl  ابليكاشن سيء جد اريد الغاء متوفر طلب اجباري عل\u001b[33m...\u001b[0m  \n",
       "\u001b[1;36m35438\u001b[0m           swvl        ابليكشن ممتاز موعد مظبوط باص نظيف اسعار حلو  \n",
       "\u001b[1;36m37109\u001b[0m           Raya                               متجر جميل معاملة روع  \n",
       "\u001b[1;36m28707\u001b[0m         talbat       روع طلب بيزا صلوني دقاءق انصحكم تنرلون تطبيق  \n",
       "\u001b[1;36m7175\u001b[0m          talbat                                         أسرع ططبيك  \n",
       "\u001b[1;36m24982\u001b[0m         talbat                                           ان ممتاز  \n"
      ]
     },
     "metadata": {},
     "output_type": "display_data"
    }
   ],
   "source": [
    "print(data.sample(10))"
   ]
  },
  {
   "cell_type": "code",
   "execution_count": 20,
   "id": "60c54242",
   "metadata": {},
   "outputs": [
    {
     "data": {
      "text/plain": [
       "Index(['review_description', 'rating', 'company', 'processed_text'], dtype='object')"
      ]
     },
     "execution_count": 20,
     "metadata": {},
     "output_type": "execute_result"
    }
   ],
   "source": [
    "data.columns"
   ]
  },
  {
   "cell_type": "code",
   "execution_count": 21,
   "id": "f3729c55",
   "metadata": {},
   "outputs": [
    {
     "data": {
      "application/vnd.microsoft.datawrangler.viewer.v0+json": {
       "columns": [
        {
         "name": "index",
         "rawType": "int64",
         "type": "integer"
        },
        {
         "name": "processed_text",
         "rawType": "object",
         "type": "string"
        }
       ],
       "ref": "a99f9e34-61b5-490e-bbf0-f79afa2ba636",
       "rows": [
        [
         "0",
         "راءع"
        ],
        [
         "1",
         "برنامج راءع جد ساعد علي لبى احتياج شكل أسرع"
        ],
        [
         "2",
         "تطبيق يغتح داءم بيعطيني وجد اتصال شبكهمع ان نت عند تمام حل"
        ],
        [
         "3",
         "لماذا أمكن طلب ماكدونالد ؟"
        ],
        [
         "4",
         "برنامج ظهر مطعم مغلق ان كان فاتح قال كد اكتر شهر"
        ],
        [
         "5",
         "أصبح غالي جد"
        ],
        [
         "6",
         "جميل جد راءع"
        ],
        [
         "7",
         "اسف واحد ينصدم زياد سعر اسف مطعم أصبح معاملة رديء"
        ],
        [
         "8",
         "برنامج توترز توصيل احلي برنامج فاشل"
        ],
        [
         "9",
         "كتير تحسن خدم عميل لطف خطأ تقني بتصلحوها سرع بعض تاخير سياسي تسويق أفضل كريم نسب الي متفق"
        ],
        [
         "10",
         "ممتاز"
        ],
        [
         "11",
         "اسعار اغلا محل كثير بحطولك توصيل مجاني حكي فاضي تطبيق انصح"
        ],
        [
         "12",
         "تطيبق لايعمل بغداد"
        ],
        [
         "13",
         "سبت احد اربعاء خميس"
        ],
        [
         "14",
         "فاااااشل جد بحث عطي فاءد تم كتاب اسم مطعم مع بحث ظهر مطعم مطلوب قام إعطاء مطعم علي مزاج"
        ],
        [
         "15",
         ""
        ],
        [
         "16",
         "جامد"
        ],
        [
         "17",
         "نزلة مفيش خصم لي قال علي أول 3 طلب أعمل أي عشان طبق"
        ],
        [
         "18",
         "جيد جدن"
        ],
        [
         "19",
         "ضريبه عالي جد"
        ],
        [
         "20",
         "تطبيق سيء كثير ، تاخير توصيل طلب ، طعام وصل متاخر بارد جد ، دقيق وصل طلب ساعي نصف وجد تجاوب اداره شأن تأخير توصيل"
        ],
        [
         "21",
         "موت"
        ],
        [
         "22",
         "رااااءع"
        ],
        [
         "23",
         "اسوء تطبيق أول مابعرف أعمل تاني إعلان سيء جد"
        ],
        [
         "24",
         "حلو قدر اعممل حساب"
        ],
        [
         "25",
         "عجبني لان نادر اشوف محل دفع نقد"
        ],
        [
         "26",
         "حمدلله تواصل مسءول طلب ورجعولي حساب طلب باي مبلغ منتج لي غلط صراح زوق زياد رب يباركلهم أنا جبنه عند عارف هتستلموها ازاي أنا رد هقبل حاج دفع تمني"
        ],
        [
         "27",
         "شيء خزي قعد ساعي استن طلب آخر شيء كتبولي طلب غي"
        ],
        [
         "28",
         "80 ٪ بغداد أمكن توصيل إلى أدري شكو مسوين شرك متعب نفس جان خليتو دلفري مال يتمشون شرك"
        ],
        [
         "29",
         "معظم مطعم تعذر توصيل"
        ],
        [
         "30",
         "أصبح ادني طلب دينار"
        ],
        [
         "31",
         "كغوخط 3 ج ءءهز 0 بطخجاذقك ظزل"
        ],
        [
         "32",
         "فاشل"
        ],
        [
         "33",
         "تخزي"
        ],
        [
         "34",
         "عرض سخيف مقارنه تطبيق توصيل اخري"
        ],
        [
         "35",
         "خدم جيد جد ممتاز وجد ماتريد سوبر ماركة مطعم شهير عديد شيء"
        ],
        [
         "36",
         "ثثث 3 ثص 22 صصص"
        ],
        [
         "37",
         "نجم"
        ],
        [
         "38",
         "دعاي ايدعم توصيل أمين ثاني"
        ],
        [
         "39",
         "تطبيق راءع"
        ],
        [
         "40",
         "زف في مشكل عمل خلل جهاز مش رض تحدث"
        ],
        [
         "41",
         "دون كذب هاذ تطبيق يجنن تهتمو تعليق خايسه شكر علي برنامج"
        ],
        [
         "42",
         "عمل سبب انتظر رمز"
        ],
        [
         "43",
         "أسعار اعلي نسبة تجاوز ال 70 ٪ مطعم تجربة توصيل سيء جد مشكلة دفع فيزا تطبيق استحق حجم علي موبايل uninstall"
        ],
        [
         "44",
         ""
        ],
        [
         "45",
         "جرب مرض توصيل كويس معقول"
        ],
        [
         "46",
         "برنامج زبال عاوز حمل خالص 3 اجهز راضي حمل نهءي"
        ],
        [
         "47",
         "تجربة سيءه طلب نور بخاري بحرين اوردر طلب وصل ناقص اتواصلت صاحب مطعم مع طلب انتظر طلب مد ساعة لم يا مره أولى حدث أمر قد تكرر مرة سابق مطعم بك أنا حذف تطبيق"
        ],
        [
         "48",
         "برنامج قذر"
        ],
        [
         "49",
         "مميز"
        ]
       ],
       "shape": {
        "columns": 1,
        "rows": 40046
       }
      },
      "text/plain": [
       "0                                                     راءع\n",
       "1              برنامج راءع جد ساعد علي لبى احتياج شكل أسرع\n",
       "2        تطبيق يغتح داءم بيعطيني وجد اتصال شبكهمع ان نت...\n",
       "3                               لماذا أمكن طلب ماكدونالد ؟\n",
       "4         برنامج ظهر مطعم مغلق ان كان فاتح قال كد اكتر شهر\n",
       "                               ...                        \n",
       "40041    جرب جيد نقص عدم اهتمام خدم عميل عميل مر تواصل ...\n",
       "40042               أنا ساكن منطق كينج وجد عربي ساعه نصف ،\n",
       "40043    جيد لماذا وجد خط كثير مريوطيه فيصل حتي نادي رم...\n",
       "40044                                   جيد جد سعر عالي جد\n",
       "40045                  تطبيق حلو جد خدم ممتاز سعر عالي شوي\n",
       "Name: processed_text, Length: 40046, dtype: object"
      ]
     },
     "execution_count": 21,
     "metadata": {},
     "output_type": "execute_result"
    }
   ],
   "source": [
    "data[\"processed_text\"]"
   ]
  },
  {
   "cell_type": "code",
   "execution_count": null,
   "id": "afc0d9c9",
   "metadata": {},
   "outputs": [],
   "source": [
    "# import numpy as np\n",
    "# from nltk.tokenize import word_tokenize\n",
    "\n",
    "\n",
    "# tokens_list = []\n",
    "# offsets = [0]\n",
    "\n",
    "# for text in data['review_description']:\n",
    "#     tokens = word_tokenize(text)\n",
    "#     tokens_list.extend(tokens)\n",
    "#     offsets.append(len(tokens_list))\n",
    "\n",
    "#tokens_array = np.array(tokens_list, dtype=object) \n",
    "#offset_array = np.array(offsets, dtype=np.int32)     "
   ]
  },
  {
   "cell_type": "code",
   "execution_count": null,
   "id": "18e339f5",
   "metadata": {},
   "outputs": [
    {
     "data": {
      "text/html": [
       "<pre style=\"white-space:pre;overflow-x:auto;line-height:normal;font-family:Menlo,'DejaVu Sans Mono',consolas,'Courier New',monospace\"><span style=\"font-weight: bold\">[</span><span style=\"color: #008000; text-decoration-color: #008000\">'رائع'</span> <span style=\"color: #008000; text-decoration-color: #008000\">'برنامج'</span> <span style=\"color: #008000; text-decoration-color: #008000\">'رائع'</span> <span style=\"color: #808000; text-decoration-color: #808000\">...</span> <span style=\"color: #008000; text-decoration-color: #008000\">'الاسعار'</span> <span style=\"color: #008000; text-decoration-color: #008000\">'عاليه'</span> <span style=\"color: #008000; text-decoration-color: #008000\">'شويه'</span><span style=\"font-weight: bold\">]</span>\n",
       "</pre>\n"
      ],
      "text/plain": [
       "\u001b[1m[\u001b[0m\u001b[32m'رائع'\u001b[0m \u001b[32m'برنامج'\u001b[0m \u001b[32m'رائع'\u001b[0m \u001b[33m...\u001b[0m \u001b[32m'الاسعار'\u001b[0m \u001b[32m'عاليه'\u001b[0m \u001b[32m'شويه'\u001b[0m\u001b[1m]\u001b[0m\n"
      ]
     },
     "metadata": {},
     "output_type": "display_data"
    },
    {
     "data": {
      "text/html": [
       "<pre style=\"white-space:pre;overflow-x:auto;line-height:normal;font-family:Menlo,'DejaVu Sans Mono',consolas,'Courier New',monospace\"><span style=\"font-weight: bold\">[</span>     <span style=\"color: #008080; text-decoration-color: #008080; font-weight: bold\">0</span>      <span style=\"color: #008080; text-decoration-color: #008080; font-weight: bold\">1</span>     <span style=\"color: #008080; text-decoration-color: #008080; font-weight: bold\">10</span> <span style=\"color: #808000; text-decoration-color: #808000\">...</span> <span style=\"color: #008080; text-decoration-color: #008080; font-weight: bold\">388128</span> <span style=\"color: #008080; text-decoration-color: #008080; font-weight: bold\">388135</span> <span style=\"color: #008080; text-decoration-color: #008080; font-weight: bold\">388144</span><span style=\"font-weight: bold\">]</span>\n",
       "</pre>\n"
      ],
      "text/plain": [
       "\u001b[1m[\u001b[0m     \u001b[1;36m0\u001b[0m      \u001b[1;36m1\u001b[0m     \u001b[1;36m10\u001b[0m \u001b[33m...\u001b[0m \u001b[1;36m388128\u001b[0m \u001b[1;36m388135\u001b[0m \u001b[1;36m388144\u001b[0m\u001b[1m]\u001b[0m\n"
      ]
     },
     "metadata": {},
     "output_type": "display_data"
    }
   ],
   "source": [
    "print(tokens_array)\n",
    "#print(offset_array)"
   ]
  },
  {
   "cell_type": "code",
   "execution_count": 12,
   "id": "f794f9f2",
   "metadata": {},
   "outputs": [
    {
     "data": {
      "text/html": [
       "<pre style=\"white-space:pre;overflow-x:auto;line-height:normal;font-family:Menlo,'DejaVu Sans Mono',consolas,'Courier New',monospace\">                                  review_description  rating company\n",
       "<span style=\"color: #008080; text-decoration-color: #008080; font-weight: bold\">0</span>                                               رائع       <span style=\"color: #008080; text-decoration-color: #008080; font-weight: bold\">1</span>  talbat\n",
       "<span style=\"color: #008080; text-decoration-color: #008080; font-weight: bold\">1</span>  برنامج رائع جدا يساعد على تلبيه الاحتياجات بشك<span style=\"color: #808000; text-decoration-color: #808000\">...</span>       <span style=\"color: #008080; text-decoration-color: #008080; font-weight: bold\">1</span>  talbat\n",
       "<span style=\"color: #008080; text-decoration-color: #008080; font-weight: bold\">2</span>  التطبيق لا يغتح دائما بيعطيني لا يوجد اتصال با<span style=\"color: #808000; text-decoration-color: #808000\">...</span>      <span style=\"color: #008080; text-decoration-color: #008080; font-weight: bold\">-1</span>  talbat\n",
       "<span style=\"color: #008080; text-decoration-color: #008080; font-weight: bold\">3</span>                 لماذا لا يمكننا طلب من ماكدونالدز؟      <span style=\"color: #008080; text-decoration-color: #008080; font-weight: bold\">-1</span>  talbat\n",
       "<span style=\"color: #008080; text-decoration-color: #008080; font-weight: bold\">4</span>  البرنامج بيظهر كل المطاعم و مغلقه مع انها بتكو<span style=\"color: #808000; text-decoration-color: #808000\">...</span>      <span style=\"color: #008080; text-decoration-color: #008080; font-weight: bold\">-1</span>  talbat\n",
       "<span style=\"color: #008080; text-decoration-color: #008080; font-weight: bold\">5</span>                                     أصبح غالي جداً      <span style=\"color: #008080; text-decoration-color: #008080; font-weight: bold\">-1</span>  talbat\n",
       "<span style=\"color: #008080; text-decoration-color: #008080; font-weight: bold\">6</span>                                 جميل جدا رائع. . .       <span style=\"color: #008080; text-decoration-color: #008080; font-weight: bold\">1</span>  talbat\n",
       "<span style=\"color: #008080; text-decoration-color: #008080; font-weight: bold\">7</span>  للأسف الواحد ينصدم بعد زيادة الاسعار و للاسف ب<span style=\"color: #808000; text-decoration-color: #808000\">...</span>      <span style=\"color: #008080; text-decoration-color: #008080; font-weight: bold\">-1</span>  talbat\n",
       "<span style=\"color: #008080; text-decoration-color: #008080; font-weight: bold\">8</span>           برنامج توترز توصيل احلى من برنامجكم فاشل      <span style=\"color: #008080; text-decoration-color: #008080; font-weight: bold\">-1</span>  talbat\n",
       "<span style=\"color: #008080; text-decoration-color: #008080; font-weight: bold\">9</span>  كتير في تحسن خدمة العملاء لطفين في بعض الاخطاء<span style=\"color: #808000; text-decoration-color: #808000\">...</span>       <span style=\"color: #008080; text-decoration-color: #008080; font-weight: bold\">1</span>  talbat\n",
       "</pre>\n"
      ],
      "text/plain": [
       "                                  review_description  rating company\n",
       "\u001b[1;36m0\u001b[0m                                               رائع       \u001b[1;36m1\u001b[0m  talbat\n",
       "\u001b[1;36m1\u001b[0m  برنامج رائع جدا يساعد على تلبيه الاحتياجات بشك\u001b[33m...\u001b[0m       \u001b[1;36m1\u001b[0m  talbat\n",
       "\u001b[1;36m2\u001b[0m  التطبيق لا يغتح دائما بيعطيني لا يوجد اتصال با\u001b[33m...\u001b[0m      \u001b[1;36m-1\u001b[0m  talbat\n",
       "\u001b[1;36m3\u001b[0m                 لماذا لا يمكننا طلب من ماكدونالدز؟      \u001b[1;36m-1\u001b[0m  talbat\n",
       "\u001b[1;36m4\u001b[0m  البرنامج بيظهر كل المطاعم و مغلقه مع انها بتكو\u001b[33m...\u001b[0m      \u001b[1;36m-1\u001b[0m  talbat\n",
       "\u001b[1;36m5\u001b[0m                                     أصبح غالي جداً      \u001b[1;36m-1\u001b[0m  talbat\n",
       "\u001b[1;36m6\u001b[0m                                 جميل جدا رائع. . .       \u001b[1;36m1\u001b[0m  talbat\n",
       "\u001b[1;36m7\u001b[0m  للأسف الواحد ينصدم بعد زيادة الاسعار و للاسف ب\u001b[33m...\u001b[0m      \u001b[1;36m-1\u001b[0m  talbat\n",
       "\u001b[1;36m8\u001b[0m           برنامج توترز توصيل احلى من برنامجكم فاشل      \u001b[1;36m-1\u001b[0m  talbat\n",
       "\u001b[1;36m9\u001b[0m  كتير في تحسن خدمة العملاء لطفين في بعض الاخطاء\u001b[33m...\u001b[0m       \u001b[1;36m1\u001b[0m  talbat\n"
      ]
     },
     "metadata": {},
     "output_type": "display_data"
    }
   ],
   "source": [
    "print(data.head(10))"
   ]
  }
 ],
 "metadata": {
  "kernelspec": {
   "display_name": "Python 3",
   "language": "python",
   "name": "python3"
  },
  "language_info": {
   "codemirror_mode": {
    "name": "ipython",
    "version": 3
   },
   "file_extension": ".py",
   "mimetype": "text/x-python",
   "name": "python",
   "nbconvert_exporter": "python",
   "pygments_lexer": "ipython3",
   "version": "3.13.3"
  }
 },
 "nbformat": 4,
 "nbformat_minor": 5
}
